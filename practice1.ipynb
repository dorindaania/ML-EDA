{
 "cells": [
  {
   "cell_type": "code",
   "execution_count": 1,
   "id": "6236aaa0-c3c8-403f-a612-11a32146025c",
   "metadata": {},
   "outputs": [],
   "source": [
    "import numpy as np\n",
    "import pandas as pd\n",
    "import matplotlib.pyplot as plt\n",
    "import seaborn as sns"
   ]
  },
  {
   "cell_type": "code",
   "execution_count": null,
   "id": "c8a6088a-8eb4-488d-91a7-87a8ddef001f",
   "metadata": {},
   "outputs": [],
   "source": []
  },
  {
   "cell_type": "code",
   "execution_count": 2,
   "id": "0f051406-12a5-4353-8f02-bf862dbe21ac",
   "metadata": {},
   "outputs": [],
   "source": [
    "data = pd.read_csv(\"GenZ_DatingApp_Data.csv\")"
   ]
  },
  {
   "cell_type": "code",
   "execution_count": null,
   "id": "9c02e7e8-f182-4d6e-83ae-92f4c7e21f12",
   "metadata": {},
   "outputs": [],
   "source": []
  },
  {
   "cell_type": "code",
   "execution_count": 3,
   "id": "4513fce5-721e-4f4c-9c2c-e93d4f9a9e8e",
   "metadata": {},
   "outputs": [
    {
     "data": {
      "text/html": [
       "<div>\n",
       "<style scoped>\n",
       "    .dataframe tbody tr th:only-of-type {\n",
       "        vertical-align: middle;\n",
       "    }\n",
       "\n",
       "    .dataframe tbody tr th {\n",
       "        vertical-align: top;\n",
       "    }\n",
       "\n",
       "    .dataframe thead th {\n",
       "        text-align: right;\n",
       "    }\n",
       "</style>\n",
       "<table border=\"1\" class=\"dataframe\">\n",
       "  <thead>\n",
       "    <tr style=\"text-align: right;\">\n",
       "      <th></th>\n",
       "      <th>User_ID</th>\n",
       "      <th>Age</th>\n",
       "      <th>Gender</th>\n",
       "      <th>Location</th>\n",
       "      <th>Education</th>\n",
       "      <th>Occupation</th>\n",
       "      <th>Primary_App</th>\n",
       "      <th>Secondary_Apps</th>\n",
       "      <th>Usage_Frequency</th>\n",
       "      <th>Daily_Usage_Time</th>\n",
       "      <th>Reason_for_Using</th>\n",
       "      <th>Satisfaction</th>\n",
       "      <th>Challenges</th>\n",
       "      <th>Desired_Features</th>\n",
       "      <th>Preferred_Communication</th>\n",
       "      <th>Partner_Priorities</th>\n",
       "    </tr>\n",
       "  </thead>\n",
       "  <tbody>\n",
       "    <tr>\n",
       "      <th>495</th>\n",
       "      <td>496</td>\n",
       "      <td>23</td>\n",
       "      <td>Female</td>\n",
       "      <td>Mumbai</td>\n",
       "      <td>Undergraduate</td>\n",
       "      <td>Intern</td>\n",
       "      <td>Tinder</td>\n",
       "      <td>Hinge</td>\n",
       "      <td>Weekly</td>\n",
       "      <td>1.5 hours</td>\n",
       "      <td>Casual Dating</td>\n",
       "      <td>2</td>\n",
       "      <td>NaN</td>\n",
       "      <td>Audio Calls</td>\n",
       "      <td>Voice Notes</td>\n",
       "      <td>Personality &gt; Interests &gt; Values</td>\n",
       "    </tr>\n",
       "    <tr>\n",
       "      <th>496</th>\n",
       "      <td>497</td>\n",
       "      <td>23</td>\n",
       "      <td>Male</td>\n",
       "      <td>Mumbai</td>\n",
       "      <td>Postgraduate</td>\n",
       "      <td>Intern</td>\n",
       "      <td>OkCupid</td>\n",
       "      <td>Tinder</td>\n",
       "      <td>Daily</td>\n",
       "      <td>2 hours</td>\n",
       "      <td>Casual Fun</td>\n",
       "      <td>1</td>\n",
       "      <td>Time-Wasting</td>\n",
       "      <td>Video Calls</td>\n",
       "      <td>Video Calls</td>\n",
       "      <td>Values &gt; Personality &gt; Appearance</td>\n",
       "    </tr>\n",
       "    <tr>\n",
       "      <th>497</th>\n",
       "      <td>498</td>\n",
       "      <td>22</td>\n",
       "      <td>Male</td>\n",
       "      <td>Hyderabad</td>\n",
       "      <td>Graduate</td>\n",
       "      <td>Freelancer</td>\n",
       "      <td>NaN</td>\n",
       "      <td>Hinge</td>\n",
       "      <td>Monthly</td>\n",
       "      <td>2 hours</td>\n",
       "      <td>Casual Fun</td>\n",
       "      <td>2</td>\n",
       "      <td>Lack of Genuine Matches</td>\n",
       "      <td>Video Calls</td>\n",
       "      <td>Voice Notes</td>\n",
       "      <td>Appearance &gt; Interests &gt; Personality</td>\n",
       "    </tr>\n",
       "    <tr>\n",
       "      <th>498</th>\n",
       "      <td>499</td>\n",
       "      <td>21</td>\n",
       "      <td>Female</td>\n",
       "      <td>Kolkata</td>\n",
       "      <td>Graduate</td>\n",
       "      <td>Student</td>\n",
       "      <td>Tinder</td>\n",
       "      <td>Hinge</td>\n",
       "      <td>Daily</td>\n",
       "      <td>1.5 hours</td>\n",
       "      <td>Casual Dating</td>\n",
       "      <td>3</td>\n",
       "      <td>Lack of Genuine Matches</td>\n",
       "      <td>Detailed Profiles</td>\n",
       "      <td>Text</td>\n",
       "      <td>Appearance &gt; Interests &gt; Personality</td>\n",
       "    </tr>\n",
       "    <tr>\n",
       "      <th>499</th>\n",
       "      <td>500</td>\n",
       "      <td>22</td>\n",
       "      <td>Male</td>\n",
       "      <td>Mumbai</td>\n",
       "      <td>Graduate</td>\n",
       "      <td>Part-time Job</td>\n",
       "      <td>NaN</td>\n",
       "      <td>Hinge</td>\n",
       "      <td>Weekly</td>\n",
       "      <td>1.5 hours</td>\n",
       "      <td>Casual Fun</td>\n",
       "      <td>2</td>\n",
       "      <td>Time-Wasting</td>\n",
       "      <td>AI Recommendations</td>\n",
       "      <td>Video Calls</td>\n",
       "      <td>Appearance &gt; Interests &gt; Personality</td>\n",
       "    </tr>\n",
       "  </tbody>\n",
       "</table>\n",
       "</div>"
      ],
      "text/plain": [
       "     User_ID  Age  Gender   Location      Education     Occupation  \\\n",
       "495      496   23  Female     Mumbai  Undergraduate         Intern   \n",
       "496      497   23    Male     Mumbai   Postgraduate         Intern   \n",
       "497      498   22    Male  Hyderabad       Graduate     Freelancer   \n",
       "498      499   21  Female    Kolkata       Graduate        Student   \n",
       "499      500   22    Male     Mumbai       Graduate  Part-time Job   \n",
       "\n",
       "    Primary_App Secondary_Apps Usage_Frequency Daily_Usage_Time  \\\n",
       "495      Tinder          Hinge          Weekly        1.5 hours   \n",
       "496     OkCupid         Tinder           Daily          2 hours   \n",
       "497         NaN          Hinge         Monthly          2 hours   \n",
       "498      Tinder          Hinge           Daily        1.5 hours   \n",
       "499         NaN          Hinge          Weekly        1.5 hours   \n",
       "\n",
       "    Reason_for_Using  Satisfaction               Challenges  \\\n",
       "495    Casual Dating             2                      NaN   \n",
       "496       Casual Fun             1             Time-Wasting   \n",
       "497       Casual Fun             2  Lack of Genuine Matches   \n",
       "498    Casual Dating             3  Lack of Genuine Matches   \n",
       "499       Casual Fun             2             Time-Wasting   \n",
       "\n",
       "       Desired_Features Preferred_Communication  \\\n",
       "495         Audio Calls             Voice Notes   \n",
       "496         Video Calls             Video Calls   \n",
       "497         Video Calls             Voice Notes   \n",
       "498   Detailed Profiles                    Text   \n",
       "499  AI Recommendations             Video Calls   \n",
       "\n",
       "                       Partner_Priorities  \n",
       "495      Personality > Interests > Values  \n",
       "496     Values > Personality > Appearance  \n",
       "497  Appearance > Interests > Personality  \n",
       "498  Appearance > Interests > Personality  \n",
       "499  Appearance > Interests > Personality  "
      ]
     },
     "execution_count": 3,
     "metadata": {},
     "output_type": "execute_result"
    }
   ],
   "source": [
    "data.tail()"
   ]
  },
  {
   "cell_type": "code",
   "execution_count": 4,
   "id": "5f123472-e2d6-4e03-840f-7e229375091e",
   "metadata": {},
   "outputs": [
    {
     "name": "stdout",
     "output_type": "stream",
     "text": [
      "<class 'pandas.core.frame.DataFrame'>\n",
      "RangeIndex: 500 entries, 0 to 499\n",
      "Data columns (total 16 columns):\n",
      " #   Column                   Non-Null Count  Dtype \n",
      "---  ------                   --------------  ----- \n",
      " 0   User_ID                  500 non-null    int64 \n",
      " 1   Age                      500 non-null    int64 \n",
      " 2   Gender                   500 non-null    object\n",
      " 3   Location                 500 non-null    object\n",
      " 4   Education                500 non-null    object\n",
      " 5   Occupation               500 non-null    object\n",
      " 6   Primary_App              393 non-null    object\n",
      " 7   Secondary_Apps           386 non-null    object\n",
      " 8   Usage_Frequency          500 non-null    object\n",
      " 9   Daily_Usage_Time         500 non-null    object\n",
      " 10  Reason_for_Using         500 non-null    object\n",
      " 11  Satisfaction             500 non-null    int64 \n",
      " 12  Challenges               383 non-null    object\n",
      " 13  Desired_Features         500 non-null    object\n",
      " 14  Preferred_Communication  500 non-null    object\n",
      " 15  Partner_Priorities       500 non-null    object\n",
      "dtypes: int64(3), object(13)\n",
      "memory usage: 62.6+ KB\n"
     ]
    }
   ],
   "source": [
    "data.info()"
   ]
  },
  {
   "cell_type": "code",
   "execution_count": 5,
   "id": "9d578b4a-53be-44f1-b378-d280507a923c",
   "metadata": {},
   "outputs": [
    {
     "data": {
      "text/plain": [
       "500"
      ]
     },
     "execution_count": 5,
     "metadata": {},
     "output_type": "execute_result"
    }
   ],
   "source": [
    "data.shape[0]"
   ]
  },
  {
   "cell_type": "code",
   "execution_count": 6,
   "id": "3e17d6b3-f398-46bf-aef2-f94f8ac7f83c",
   "metadata": {},
   "outputs": [
    {
     "data": {
      "text/plain": [
       "16"
      ]
     },
     "execution_count": 6,
     "metadata": {},
     "output_type": "execute_result"
    }
   ],
   "source": [
    "data.shape[1]"
   ]
  },
  {
   "cell_type": "code",
   "execution_count": 7,
   "id": "91395cc1-ee7d-439a-ad45-3ae1a3dc2f52",
   "metadata": {},
   "outputs": [
    {
     "data": {
      "text/html": [
       "<div>\n",
       "<style scoped>\n",
       "    .dataframe tbody tr th:only-of-type {\n",
       "        vertical-align: middle;\n",
       "    }\n",
       "\n",
       "    .dataframe tbody tr th {\n",
       "        vertical-align: top;\n",
       "    }\n",
       "\n",
       "    .dataframe thead th {\n",
       "        text-align: right;\n",
       "    }\n",
       "</style>\n",
       "<table border=\"1\" class=\"dataframe\">\n",
       "  <thead>\n",
       "    <tr style=\"text-align: right;\">\n",
       "      <th></th>\n",
       "      <th>User_ID</th>\n",
       "      <th>Age</th>\n",
       "      <th>Gender</th>\n",
       "      <th>Location</th>\n",
       "      <th>Education</th>\n",
       "    </tr>\n",
       "  </thead>\n",
       "  <tbody>\n",
       "    <tr>\n",
       "      <th>0</th>\n",
       "      <td>1</td>\n",
       "      <td>20</td>\n",
       "      <td>Non-binary</td>\n",
       "      <td>Bangalore</td>\n",
       "      <td>Undergraduate</td>\n",
       "    </tr>\n",
       "    <tr>\n",
       "      <th>1</th>\n",
       "      <td>2</td>\n",
       "      <td>24</td>\n",
       "      <td>Female</td>\n",
       "      <td>Delhi</td>\n",
       "      <td>Undergraduate</td>\n",
       "    </tr>\n",
       "    <tr>\n",
       "      <th>2</th>\n",
       "      <td>3</td>\n",
       "      <td>24</td>\n",
       "      <td>Non-binary</td>\n",
       "      <td>Kolkata</td>\n",
       "      <td>Undergraduate</td>\n",
       "    </tr>\n",
       "    <tr>\n",
       "      <th>3</th>\n",
       "      <td>4</td>\n",
       "      <td>22</td>\n",
       "      <td>Non-binary</td>\n",
       "      <td>Delhi</td>\n",
       "      <td>Graduate</td>\n",
       "    </tr>\n",
       "    <tr>\n",
       "      <th>4</th>\n",
       "      <td>5</td>\n",
       "      <td>18</td>\n",
       "      <td>Male</td>\n",
       "      <td>Delhi</td>\n",
       "      <td>Graduate</td>\n",
       "    </tr>\n",
       "    <tr>\n",
       "      <th>...</th>\n",
       "      <td>...</td>\n",
       "      <td>...</td>\n",
       "      <td>...</td>\n",
       "      <td>...</td>\n",
       "      <td>...</td>\n",
       "    </tr>\n",
       "    <tr>\n",
       "      <th>495</th>\n",
       "      <td>496</td>\n",
       "      <td>23</td>\n",
       "      <td>Female</td>\n",
       "      <td>Mumbai</td>\n",
       "      <td>Undergraduate</td>\n",
       "    </tr>\n",
       "    <tr>\n",
       "      <th>496</th>\n",
       "      <td>497</td>\n",
       "      <td>23</td>\n",
       "      <td>Male</td>\n",
       "      <td>Mumbai</td>\n",
       "      <td>Postgraduate</td>\n",
       "    </tr>\n",
       "    <tr>\n",
       "      <th>497</th>\n",
       "      <td>498</td>\n",
       "      <td>22</td>\n",
       "      <td>Male</td>\n",
       "      <td>Hyderabad</td>\n",
       "      <td>Graduate</td>\n",
       "    </tr>\n",
       "    <tr>\n",
       "      <th>498</th>\n",
       "      <td>499</td>\n",
       "      <td>21</td>\n",
       "      <td>Female</td>\n",
       "      <td>Kolkata</td>\n",
       "      <td>Graduate</td>\n",
       "    </tr>\n",
       "    <tr>\n",
       "      <th>499</th>\n",
       "      <td>500</td>\n",
       "      <td>22</td>\n",
       "      <td>Male</td>\n",
       "      <td>Mumbai</td>\n",
       "      <td>Graduate</td>\n",
       "    </tr>\n",
       "  </tbody>\n",
       "</table>\n",
       "<p>500 rows × 5 columns</p>\n",
       "</div>"
      ],
      "text/plain": [
       "     User_ID  Age      Gender   Location      Education\n",
       "0          1   20  Non-binary  Bangalore  Undergraduate\n",
       "1          2   24      Female      Delhi  Undergraduate\n",
       "2          3   24  Non-binary    Kolkata  Undergraduate\n",
       "3          4   22  Non-binary      Delhi       Graduate\n",
       "4          5   18        Male      Delhi       Graduate\n",
       "..       ...  ...         ...        ...            ...\n",
       "495      496   23      Female     Mumbai  Undergraduate\n",
       "496      497   23        Male     Mumbai   Postgraduate\n",
       "497      498   22        Male  Hyderabad       Graduate\n",
       "498      499   21      Female    Kolkata       Graduate\n",
       "499      500   22        Male     Mumbai       Graduate\n",
       "\n",
       "[500 rows x 5 columns]"
      ]
     },
     "execution_count": 7,
     "metadata": {},
     "output_type": "execute_result"
    }
   ],
   "source": [
    "data[[\"User_ID\",\"Age\",\"Gender\",\"Location\",\"Education\"]]"
   ]
  },
  {
   "cell_type": "code",
   "execution_count": 8,
   "id": "07c01b9c-1dcf-4d57-a9bd-7625b5232443",
   "metadata": {},
   "outputs": [
    {
     "data": {
      "text/html": [
       "<div>\n",
       "<style scoped>\n",
       "    .dataframe tbody tr th:only-of-type {\n",
       "        vertical-align: middle;\n",
       "    }\n",
       "\n",
       "    .dataframe tbody tr th {\n",
       "        vertical-align: top;\n",
       "    }\n",
       "\n",
       "    .dataframe thead th {\n",
       "        text-align: right;\n",
       "    }\n",
       "</style>\n",
       "<table border=\"1\" class=\"dataframe\">\n",
       "  <thead>\n",
       "    <tr style=\"text-align: right;\">\n",
       "      <th></th>\n",
       "      <th>Gender</th>\n",
       "      <th>Education</th>\n",
       "    </tr>\n",
       "  </thead>\n",
       "  <tbody>\n",
       "    <tr>\n",
       "      <th>0</th>\n",
       "      <td>Non-binary</td>\n",
       "      <td>Undergraduate</td>\n",
       "    </tr>\n",
       "    <tr>\n",
       "      <th>1</th>\n",
       "      <td>Female</td>\n",
       "      <td>Undergraduate</td>\n",
       "    </tr>\n",
       "    <tr>\n",
       "      <th>2</th>\n",
       "      <td>Non-binary</td>\n",
       "      <td>Undergraduate</td>\n",
       "    </tr>\n",
       "    <tr>\n",
       "      <th>3</th>\n",
       "      <td>Non-binary</td>\n",
       "      <td>Graduate</td>\n",
       "    </tr>\n",
       "    <tr>\n",
       "      <th>4</th>\n",
       "      <td>Male</td>\n",
       "      <td>Graduate</td>\n",
       "    </tr>\n",
       "    <tr>\n",
       "      <th>...</th>\n",
       "      <td>...</td>\n",
       "      <td>...</td>\n",
       "    </tr>\n",
       "    <tr>\n",
       "      <th>495</th>\n",
       "      <td>Female</td>\n",
       "      <td>Undergraduate</td>\n",
       "    </tr>\n",
       "    <tr>\n",
       "      <th>496</th>\n",
       "      <td>Male</td>\n",
       "      <td>Postgraduate</td>\n",
       "    </tr>\n",
       "    <tr>\n",
       "      <th>497</th>\n",
       "      <td>Male</td>\n",
       "      <td>Graduate</td>\n",
       "    </tr>\n",
       "    <tr>\n",
       "      <th>498</th>\n",
       "      <td>Female</td>\n",
       "      <td>Graduate</td>\n",
       "    </tr>\n",
       "    <tr>\n",
       "      <th>499</th>\n",
       "      <td>Male</td>\n",
       "      <td>Graduate</td>\n",
       "    </tr>\n",
       "  </tbody>\n",
       "</table>\n",
       "<p>500 rows × 2 columns</p>\n",
       "</div>"
      ],
      "text/plain": [
       "         Gender      Education\n",
       "0    Non-binary  Undergraduate\n",
       "1        Female  Undergraduate\n",
       "2    Non-binary  Undergraduate\n",
       "3    Non-binary       Graduate\n",
       "4          Male       Graduate\n",
       "..          ...            ...\n",
       "495      Female  Undergraduate\n",
       "496        Male   Postgraduate\n",
       "497        Male       Graduate\n",
       "498      Female       Graduate\n",
       "499        Male       Graduate\n",
       "\n",
       "[500 rows x 2 columns]"
      ]
     },
     "execution_count": 8,
     "metadata": {},
     "output_type": "execute_result"
    }
   ],
   "source": [
    "data[[\"Gender\",\"Education\"]]"
   ]
  },
  {
   "cell_type": "code",
   "execution_count": 9,
   "id": "917c76da-0432-4632-8c78-9e8ff175ab24",
   "metadata": {},
   "outputs": [
    {
     "data": {
      "text/html": [
       "<div>\n",
       "<style scoped>\n",
       "    .dataframe tbody tr th:only-of-type {\n",
       "        vertical-align: middle;\n",
       "    }\n",
       "\n",
       "    .dataframe tbody tr th {\n",
       "        vertical-align: top;\n",
       "    }\n",
       "\n",
       "    .dataframe thead th {\n",
       "        text-align: right;\n",
       "    }\n",
       "</style>\n",
       "<table border=\"1\" class=\"dataframe\">\n",
       "  <thead>\n",
       "    <tr style=\"text-align: right;\">\n",
       "      <th></th>\n",
       "      <th>User_ID</th>\n",
       "      <th>Age</th>\n",
       "      <th>Gender</th>\n",
       "      <th>Location</th>\n",
       "    </tr>\n",
       "  </thead>\n",
       "  <tbody>\n",
       "    <tr>\n",
       "      <th>0</th>\n",
       "      <td>1</td>\n",
       "      <td>20</td>\n",
       "      <td>Non-binary</td>\n",
       "      <td>Bangalore</td>\n",
       "    </tr>\n",
       "    <tr>\n",
       "      <th>1</th>\n",
       "      <td>2</td>\n",
       "      <td>24</td>\n",
       "      <td>Female</td>\n",
       "      <td>Delhi</td>\n",
       "    </tr>\n",
       "    <tr>\n",
       "      <th>2</th>\n",
       "      <td>3</td>\n",
       "      <td>24</td>\n",
       "      <td>Non-binary</td>\n",
       "      <td>Kolkata</td>\n",
       "    </tr>\n",
       "    <tr>\n",
       "      <th>3</th>\n",
       "      <td>4</td>\n",
       "      <td>22</td>\n",
       "      <td>Non-binary</td>\n",
       "      <td>Delhi</td>\n",
       "    </tr>\n",
       "    <tr>\n",
       "      <th>4</th>\n",
       "      <td>5</td>\n",
       "      <td>18</td>\n",
       "      <td>Male</td>\n",
       "      <td>Delhi</td>\n",
       "    </tr>\n",
       "    <tr>\n",
       "      <th>...</th>\n",
       "      <td>...</td>\n",
       "      <td>...</td>\n",
       "      <td>...</td>\n",
       "      <td>...</td>\n",
       "    </tr>\n",
       "    <tr>\n",
       "      <th>495</th>\n",
       "      <td>496</td>\n",
       "      <td>23</td>\n",
       "      <td>Female</td>\n",
       "      <td>Mumbai</td>\n",
       "    </tr>\n",
       "    <tr>\n",
       "      <th>496</th>\n",
       "      <td>497</td>\n",
       "      <td>23</td>\n",
       "      <td>Male</td>\n",
       "      <td>Mumbai</td>\n",
       "    </tr>\n",
       "    <tr>\n",
       "      <th>497</th>\n",
       "      <td>498</td>\n",
       "      <td>22</td>\n",
       "      <td>Male</td>\n",
       "      <td>Hyderabad</td>\n",
       "    </tr>\n",
       "    <tr>\n",
       "      <th>498</th>\n",
       "      <td>499</td>\n",
       "      <td>21</td>\n",
       "      <td>Female</td>\n",
       "      <td>Kolkata</td>\n",
       "    </tr>\n",
       "    <tr>\n",
       "      <th>499</th>\n",
       "      <td>500</td>\n",
       "      <td>22</td>\n",
       "      <td>Male</td>\n",
       "      <td>Mumbai</td>\n",
       "    </tr>\n",
       "  </tbody>\n",
       "</table>\n",
       "<p>500 rows × 4 columns</p>\n",
       "</div>"
      ],
      "text/plain": [
       "     User_ID  Age      Gender   Location\n",
       "0          1   20  Non-binary  Bangalore\n",
       "1          2   24      Female      Delhi\n",
       "2          3   24  Non-binary    Kolkata\n",
       "3          4   22  Non-binary      Delhi\n",
       "4          5   18        Male      Delhi\n",
       "..       ...  ...         ...        ...\n",
       "495      496   23      Female     Mumbai\n",
       "496      497   23        Male     Mumbai\n",
       "497      498   22        Male  Hyderabad\n",
       "498      499   21      Female    Kolkata\n",
       "499      500   22        Male     Mumbai\n",
       "\n",
       "[500 rows x 4 columns]"
      ]
     },
     "execution_count": 9,
     "metadata": {},
     "output_type": "execute_result"
    }
   ],
   "source": [
    "data.iloc[:,0:4]"
   ]
  },
  {
   "cell_type": "code",
   "execution_count": 10,
   "id": "a9ac9ad6-7f9b-4c70-a137-46959331e22d",
   "metadata": {},
   "outputs": [
    {
     "data": {
      "text/plain": [
       "count    500.000000\n",
       "mean      21.582000\n",
       "std        2.259532\n",
       "min       18.000000\n",
       "25%       20.000000\n",
       "50%       22.000000\n",
       "75%       24.000000\n",
       "max       25.000000\n",
       "Name: Age, dtype: float64"
      ]
     },
     "execution_count": 10,
     "metadata": {},
     "output_type": "execute_result"
    }
   ],
   "source": [
    "data[\"Age\"].describe()"
   ]
  },
  {
   "cell_type": "code",
   "execution_count": 11,
   "id": "de1168e1-ca24-4e48-850f-c25ab497d1c6",
   "metadata": {},
   "outputs": [
    {
     "data": {
      "text/plain": [
       "array(['Non-binary', 'Female', 'Male'], dtype=object)"
      ]
     },
     "execution_count": 11,
     "metadata": {},
     "output_type": "execute_result"
    }
   ],
   "source": [
    "data[\"Gender\"].unique()"
   ]
  },
  {
   "cell_type": "code",
   "execution_count": 12,
   "id": "999ac8aa-5f21-47d9-901d-8c72b751979b",
   "metadata": {},
   "outputs": [
    {
     "data": {
      "text/plain": [
       "3"
      ]
     },
     "execution_count": 12,
     "metadata": {},
     "output_type": "execute_result"
    }
   ],
   "source": [
    "data[\"Gender\"].nunique()"
   ]
  },
  {
   "cell_type": "code",
   "execution_count": 13,
   "id": "372c994d-1056-40a2-b155-104b4900a959",
   "metadata": {},
   "outputs": [
    {
     "data": {
      "text/plain": [
       "(array([57., 67., 51.,  0., 61., 63.,  0., 73., 74., 54.]),\n",
       " array([18. , 18.7, 19.4, 20.1, 20.8, 21.5, 22.2, 22.9, 23.6, 24.3, 25. ]),\n",
       " <BarContainer object of 10 artists>)"
      ]
     },
     "execution_count": 13,
     "metadata": {},
     "output_type": "execute_result"
    },
    {
     "data": {
      "image/png": "[encoded data removed]",
      "text/plain": [
       "<Figure size 640x480 with 1 Axes>"
      ]
     },
     "metadata": {},
     "output_type": "display_data"
    }
   ],
   "source": [
    "plt.hist(data[\"Age\"])"
   ]
  },
  {
   "cell_type": "code",
   "execution_count": 14,
   "id": "781e0557-87bf-4916-badd-40528c798da0",
   "metadata": {},
   "outputs": [
    {
     "data": {
      "text/plain": [
       "Index(['User_ID', 'Age', 'Gender', 'Location', 'Education', 'Occupation',\n",
       "       'Primary_App', 'Secondary_Apps', 'Usage_Frequency', 'Daily_Usage_Time',\n",
       "       'Reason_for_Using', 'Satisfaction', 'Challenges', 'Desired_Features',\n",
       "       'Preferred_Communication', 'Partner_Priorities'],\n",
       "      dtype='object')"
      ]
     },
     "execution_count": 14,
     "metadata": {},
     "output_type": "execute_result"
    }
   ],
   "source": [
    "data.columns"
   ]
  },
  {
   "cell_type": "code",
   "execution_count": 15,
   "id": "beabb4d0-22ef-4918-bc7e-c4d0da797208",
   "metadata": {},
   "outputs": [
    {
     "data": {
      "text/plain": [
       "User_ID                     0.0\n",
       "Age                         0.0\n",
       "Gender                      0.0\n",
       "Location                    0.0\n",
       "Education                   0.0\n",
       "Occupation                  0.0\n",
       "Primary_App                21.4\n",
       "Secondary_Apps             22.8\n",
       "Usage_Frequency             0.0\n",
       "Daily_Usage_Time            0.0\n",
       "Reason_for_Using            0.0\n",
       "Satisfaction                0.0\n",
       "Challenges                 23.4\n",
       "Desired_Features            0.0\n",
       "Preferred_Communication     0.0\n",
       "Partner_Priorities          0.0\n",
       "dtype: float64"
      ]
     },
     "execution_count": 15,
     "metadata": {},
     "output_type": "execute_result"
    }
   ],
   "source": [
    "(data.isnull().sum()/data.shape[0])*100"
   ]
  },
  {
   "cell_type": "code",
   "execution_count": null,
   "id": "a1b1111e-d600-40e9-a326-cb080ae44c47",
   "metadata": {},
   "outputs": [],
   "source": []
  },
  {
   "cell_type": "code",
   "execution_count": 16,
   "id": "bb355768-35db-4cec-a76d-96a0ae0d74db",
   "metadata": {},
   "outputs": [
    {
     "data": {
      "text/plain": [
       "array([False])"
      ]
     },
     "execution_count": 16,
     "metadata": {},
     "output_type": "execute_result"
    }
   ],
   "source": [
    "data.duplicated().unique()"
   ]
  },
  {
   "cell_type": "code",
   "execution_count": 17,
   "id": "afde031b-fa26-4e25-afae-88229feed30b",
   "metadata": {},
   "outputs": [
    {
     "data": {
      "text/html": [
       "<div>\n",
       "<style scoped>\n",
       "    .dataframe tbody tr th:only-of-type {\n",
       "        vertical-align: middle;\n",
       "    }\n",
       "\n",
       "    .dataframe tbody tr th {\n",
       "        vertical-align: top;\n",
       "    }\n",
       "\n",
       "    .dataframe thead th {\n",
       "        text-align: right;\n",
       "    }\n",
       "</style>\n",
       "<table border=\"1\" class=\"dataframe\">\n",
       "  <thead>\n",
       "    <tr style=\"text-align: right;\">\n",
       "      <th></th>\n",
       "      <th>User_ID</th>\n",
       "      <th>Age</th>\n",
       "      <th>Gender</th>\n",
       "      <th>Location</th>\n",
       "      <th>Education</th>\n",
       "      <th>Occupation</th>\n",
       "      <th>Primary_App</th>\n",
       "      <th>Secondary_Apps</th>\n",
       "      <th>Usage_Frequency</th>\n",
       "      <th>Daily_Usage_Time</th>\n",
       "      <th>Reason_for_Using</th>\n",
       "      <th>Satisfaction</th>\n",
       "      <th>Challenges</th>\n",
       "      <th>Desired_Features</th>\n",
       "      <th>Preferred_Communication</th>\n",
       "      <th>Partner_Priorities</th>\n",
       "    </tr>\n",
       "  </thead>\n",
       "  <tbody>\n",
       "    <tr>\n",
       "      <th>0</th>\n",
       "      <td>1</td>\n",
       "      <td>20</td>\n",
       "      <td>Non-binary</td>\n",
       "      <td>Bangalore</td>\n",
       "      <td>Undergraduate</td>\n",
       "      <td>Freelancer</td>\n",
       "      <td>Hinge</td>\n",
       "      <td>Hinge</td>\n",
       "      <td>Monthly</td>\n",
       "      <td>1 hour</td>\n",
       "      <td>Finding a Partner</td>\n",
       "      <td>4</td>\n",
       "      <td>Safety Concerns</td>\n",
       "      <td>Audio Calls</td>\n",
       "      <td>Video Calls</td>\n",
       "      <td>Values &gt; Personality &gt; Appearance</td>\n",
       "    </tr>\n",
       "    <tr>\n",
       "      <th>1</th>\n",
       "      <td>2</td>\n",
       "      <td>24</td>\n",
       "      <td>Female</td>\n",
       "      <td>Delhi</td>\n",
       "      <td>Undergraduate</td>\n",
       "      <td>Part-time Job</td>\n",
       "      <td>Hinge</td>\n",
       "      <td>OkCupid</td>\n",
       "      <td>Weekly</td>\n",
       "      <td>30 minutes</td>\n",
       "      <td>Casual Dating</td>\n",
       "      <td>5</td>\n",
       "      <td>Time-Wasting</td>\n",
       "      <td>Video Calls</td>\n",
       "      <td>Text</td>\n",
       "      <td>Values &gt; Personality &gt; Appearance</td>\n",
       "    </tr>\n",
       "    <tr>\n",
       "      <th>2</th>\n",
       "      <td>3</td>\n",
       "      <td>24</td>\n",
       "      <td>Non-binary</td>\n",
       "      <td>Kolkata</td>\n",
       "      <td>Undergraduate</td>\n",
       "      <td>Intern</td>\n",
       "      <td>NaN</td>\n",
       "      <td>NaN</td>\n",
       "      <td>Weekly</td>\n",
       "      <td>2 hours</td>\n",
       "      <td>Casual Dating</td>\n",
       "      <td>4</td>\n",
       "      <td>Safety Concerns</td>\n",
       "      <td>Detailed Profiles</td>\n",
       "      <td>Text</td>\n",
       "      <td>Values &gt; Personality &gt; Appearance</td>\n",
       "    </tr>\n",
       "    <tr>\n",
       "      <th>3</th>\n",
       "      <td>4</td>\n",
       "      <td>22</td>\n",
       "      <td>Non-binary</td>\n",
       "      <td>Delhi</td>\n",
       "      <td>Graduate</td>\n",
       "      <td>Full-time Job</td>\n",
       "      <td>NaN</td>\n",
       "      <td>OkCupid</td>\n",
       "      <td>Daily</td>\n",
       "      <td>30 minutes</td>\n",
       "      <td>Casual Fun</td>\n",
       "      <td>3</td>\n",
       "      <td>NaN</td>\n",
       "      <td>AI Recommendations</td>\n",
       "      <td>Voice Notes</td>\n",
       "      <td>Personality &gt; Interests &gt; Values</td>\n",
       "    </tr>\n",
       "    <tr>\n",
       "      <th>4</th>\n",
       "      <td>5</td>\n",
       "      <td>18</td>\n",
       "      <td>Male</td>\n",
       "      <td>Delhi</td>\n",
       "      <td>Graduate</td>\n",
       "      <td>Intern</td>\n",
       "      <td>OkCupid</td>\n",
       "      <td>OkCupid</td>\n",
       "      <td>Weekly</td>\n",
       "      <td>2 hours</td>\n",
       "      <td>Casual Fun</td>\n",
       "      <td>4</td>\n",
       "      <td>Safety Concerns</td>\n",
       "      <td>Video Calls</td>\n",
       "      <td>Text</td>\n",
       "      <td>Appearance &gt; Interests &gt; Personality</td>\n",
       "    </tr>\n",
       "  </tbody>\n",
       "</table>\n",
       "</div>"
      ],
      "text/plain": [
       "   User_ID  Age      Gender   Location      Education     Occupation  \\\n",
       "0        1   20  Non-binary  Bangalore  Undergraduate     Freelancer   \n",
       "1        2   24      Female      Delhi  Undergraduate  Part-time Job   \n",
       "2        3   24  Non-binary    Kolkata  Undergraduate         Intern   \n",
       "3        4   22  Non-binary      Delhi       Graduate  Full-time Job   \n",
       "4        5   18        Male      Delhi       Graduate         Intern   \n",
       "\n",
       "  Primary_App Secondary_Apps Usage_Frequency Daily_Usage_Time  \\\n",
       "0       Hinge          Hinge         Monthly           1 hour   \n",
       "1       Hinge        OkCupid          Weekly       30 minutes   \n",
       "2         NaN            NaN          Weekly          2 hours   \n",
       "3         NaN        OkCupid           Daily       30 minutes   \n",
       "4     OkCupid        OkCupid          Weekly          2 hours   \n",
       "\n",
       "    Reason_for_Using  Satisfaction       Challenges    Desired_Features  \\\n",
       "0  Finding a Partner             4  Safety Concerns         Audio Calls   \n",
       "1      Casual Dating             5     Time-Wasting         Video Calls   \n",
       "2      Casual Dating             4  Safety Concerns   Detailed Profiles   \n",
       "3         Casual Fun             3              NaN  AI Recommendations   \n",
       "4         Casual Fun             4  Safety Concerns         Video Calls   \n",
       "\n",
       "  Preferred_Communication                    Partner_Priorities  \n",
       "0             Video Calls     Values > Personality > Appearance  \n",
       "1                    Text     Values > Personality > Appearance  \n",
       "2                    Text     Values > Personality > Appearance  \n",
       "3             Voice Notes      Personality > Interests > Values  \n",
       "4                    Text  Appearance > Interests > Personality  "
      ]
     },
     "execution_count": 17,
     "metadata": {},
     "output_type": "execute_result"
    }
   ],
   "source": [
    "data.head()"
   ]
  },
  {
   "cell_type": "code",
   "execution_count": 18,
   "id": "2d02aa23-1b5e-4d46-a8d4-9e27e313dc78",
   "metadata": {},
   "outputs": [
    {
     "data": {
      "text/plain": [
       "Gender\n",
       "Female        35.2%\n",
       "Male          34.2%\n",
       "Non-binary    30.6%\n",
       "Name: proportion, dtype: object"
      ]
     },
     "execution_count": 18,
     "metadata": {},
     "output_type": "execute_result"
    }
   ],
   "source": [
    "\n",
    "np.char.add(np.round((data[\"Gender\"].value_counts(normalize=True)*100),2).astype(str),\"%\")"
   ]
  },
  {
   "cell_type": "code",
   "execution_count": 19,
   "id": "177ac8c9-15f2-4e5a-ba92-9a0350560f1f",
   "metadata": {},
   "outputs": [
    {
     "name": "stdout",
     "output_type": "stream",
     "text": [
      "<class 'pandas.core.frame.DataFrame'>\n",
      "RangeIndex: 500 entries, 0 to 499\n",
      "Data columns (total 16 columns):\n",
      " #   Column                   Non-Null Count  Dtype \n",
      "---  ------                   --------------  ----- \n",
      " 0   User_ID                  500 non-null    int64 \n",
      " 1   Age                      500 non-null    int64 \n",
      " 2   Gender                   500 non-null    object\n",
      " 3   Location                 500 non-null    object\n",
      " 4   Education                500 non-null    object\n",
      " 5   Occupation               500 non-null    object\n",
      " 6   Primary_App              393 non-null    object\n",
      " 7   Secondary_Apps           386 non-null    object\n",
      " 8   Usage_Frequency          500 non-null    object\n",
      " 9   Daily_Usage_Time         500 non-null    object\n",
      " 10  Reason_for_Using         500 non-null    object\n",
      " 11  Satisfaction             500 non-null    int64 \n",
      " 12  Challenges               383 non-null    object\n",
      " 13  Desired_Features         500 non-null    object\n",
      " 14  Preferred_Communication  500 non-null    object\n",
      " 15  Partner_Priorities       500 non-null    object\n",
      "dtypes: int64(3), object(13)\n",
      "memory usage: 62.6+ KB\n"
     ]
    }
   ],
   "source": [
    "data.info()"
   ]
  },
  {
   "cell_type": "code",
   "execution_count": 20,
   "id": "29902d56-0c81-4324-9c6d-5efc8908a62f",
   "metadata": {},
   "outputs": [
    {
     "data": {
      "text/plain": [
       "0      Non-binary\n",
       "1          Female\n",
       "2      Non-binary\n",
       "3      Non-binary\n",
       "4            Male\n",
       "          ...    \n",
       "495        Female\n",
       "496          Male\n",
       "497          Male\n",
       "498        Female\n",
       "499          Male\n",
       "Name: Gender, Length: 500, dtype: category\n",
       "Categories (3, object): ['Female', 'Male', 'Non-binary']"
      ]
     },
     "execution_count": 20,
     "metadata": {},
     "output_type": "execute_result"
    }
   ],
   "source": [
    "data[\"Gender\"].astype(\"category\")"
   ]
  },
  {
   "cell_type": "code",
   "execution_count": null,
   "id": "1d6846a5-01b3-4c69-83e5-4db937ad659b",
   "metadata": {},
   "outputs": [],
   "source": []
  },
  {
   "cell_type": "code",
   "execution_count": 21,
   "id": "ccd9949c-b23f-4f14-a113-a38aeb0af6ed",
   "metadata": {},
   "outputs": [],
   "source": [
    "df = data.copy()"
   ]
  },
  {
   "cell_type": "code",
   "execution_count": 22,
   "id": "2c4fab9a-42d2-4ded-81c6-3ee7f26307a4",
   "metadata": {},
   "outputs": [],
   "source": [
    "df[\"Gender\"] = df[\"Gender\"].astype(\"category\")"
   ]
  },
  {
   "cell_type": "code",
   "execution_count": 23,
   "id": "e3558c60-9c77-4bfb-a8b3-c53ff9d18a2e",
   "metadata": {},
   "outputs": [
    {
     "data": {
      "text/html": [
       "<div>\n",
       "<style scoped>\n",
       "    .dataframe tbody tr th:only-of-type {\n",
       "        vertical-align: middle;\n",
       "    }\n",
       "\n",
       "    .dataframe tbody tr th {\n",
       "        vertical-align: top;\n",
       "    }\n",
       "\n",
       "    .dataframe thead th {\n",
       "        text-align: right;\n",
       "    }\n",
       "</style>\n",
       "<table border=\"1\" class=\"dataframe\">\n",
       "  <thead>\n",
       "    <tr style=\"text-align: right;\">\n",
       "      <th></th>\n",
       "      <th>User_ID</th>\n",
       "      <th>Age</th>\n",
       "      <th>Gender</th>\n",
       "      <th>Location</th>\n",
       "      <th>Education</th>\n",
       "      <th>Occupation</th>\n",
       "      <th>Primary_App</th>\n",
       "      <th>Secondary_Apps</th>\n",
       "      <th>Usage_Frequency</th>\n",
       "      <th>Daily_Usage_Time</th>\n",
       "      <th>Reason_for_Using</th>\n",
       "      <th>Satisfaction</th>\n",
       "      <th>Challenges</th>\n",
       "      <th>Desired_Features</th>\n",
       "      <th>Preferred_Communication</th>\n",
       "      <th>Partner_Priorities</th>\n",
       "    </tr>\n",
       "  </thead>\n",
       "  <tbody>\n",
       "    <tr>\n",
       "      <th>0</th>\n",
       "      <td>1</td>\n",
       "      <td>20</td>\n",
       "      <td>Non-binary</td>\n",
       "      <td>Bangalore</td>\n",
       "      <td>Undergraduate</td>\n",
       "      <td>Freelancer</td>\n",
       "      <td>Hinge</td>\n",
       "      <td>Hinge</td>\n",
       "      <td>Monthly</td>\n",
       "      <td>1 hour</td>\n",
       "      <td>Finding a Partner</td>\n",
       "      <td>4</td>\n",
       "      <td>Safety Concerns</td>\n",
       "      <td>Audio Calls</td>\n",
       "      <td>Video Calls</td>\n",
       "      <td>Values &gt; Personality &gt; Appearance</td>\n",
       "    </tr>\n",
       "    <tr>\n",
       "      <th>1</th>\n",
       "      <td>2</td>\n",
       "      <td>24</td>\n",
       "      <td>Female</td>\n",
       "      <td>Delhi</td>\n",
       "      <td>Undergraduate</td>\n",
       "      <td>Part-time Job</td>\n",
       "      <td>Hinge</td>\n",
       "      <td>OkCupid</td>\n",
       "      <td>Weekly</td>\n",
       "      <td>30 minutes</td>\n",
       "      <td>Casual Dating</td>\n",
       "      <td>5</td>\n",
       "      <td>Time-Wasting</td>\n",
       "      <td>Video Calls</td>\n",
       "      <td>Text</td>\n",
       "      <td>Values &gt; Personality &gt; Appearance</td>\n",
       "    </tr>\n",
       "    <tr>\n",
       "      <th>2</th>\n",
       "      <td>3</td>\n",
       "      <td>24</td>\n",
       "      <td>Non-binary</td>\n",
       "      <td>Kolkata</td>\n",
       "      <td>Undergraduate</td>\n",
       "      <td>Intern</td>\n",
       "      <td>NaN</td>\n",
       "      <td>NaN</td>\n",
       "      <td>Weekly</td>\n",
       "      <td>2 hours</td>\n",
       "      <td>Casual Dating</td>\n",
       "      <td>4</td>\n",
       "      <td>Safety Concerns</td>\n",
       "      <td>Detailed Profiles</td>\n",
       "      <td>Text</td>\n",
       "      <td>Values &gt; Personality &gt; Appearance</td>\n",
       "    </tr>\n",
       "    <tr>\n",
       "      <th>3</th>\n",
       "      <td>4</td>\n",
       "      <td>22</td>\n",
       "      <td>Non-binary</td>\n",
       "      <td>Delhi</td>\n",
       "      <td>Graduate</td>\n",
       "      <td>Full-time Job</td>\n",
       "      <td>NaN</td>\n",
       "      <td>OkCupid</td>\n",
       "      <td>Daily</td>\n",
       "      <td>30 minutes</td>\n",
       "      <td>Casual Fun</td>\n",
       "      <td>3</td>\n",
       "      <td>NaN</td>\n",
       "      <td>AI Recommendations</td>\n",
       "      <td>Voice Notes</td>\n",
       "      <td>Personality &gt; Interests &gt; Values</td>\n",
       "    </tr>\n",
       "    <tr>\n",
       "      <th>4</th>\n",
       "      <td>5</td>\n",
       "      <td>18</td>\n",
       "      <td>Male</td>\n",
       "      <td>Delhi</td>\n",
       "      <td>Graduate</td>\n",
       "      <td>Intern</td>\n",
       "      <td>OkCupid</td>\n",
       "      <td>OkCupid</td>\n",
       "      <td>Weekly</td>\n",
       "      <td>2 hours</td>\n",
       "      <td>Casual Fun</td>\n",
       "      <td>4</td>\n",
       "      <td>Safety Concerns</td>\n",
       "      <td>Video Calls</td>\n",
       "      <td>Text</td>\n",
       "      <td>Appearance &gt; Interests &gt; Personality</td>\n",
       "    </tr>\n",
       "    <tr>\n",
       "      <th>...</th>\n",
       "      <td>...</td>\n",
       "      <td>...</td>\n",
       "      <td>...</td>\n",
       "      <td>...</td>\n",
       "      <td>...</td>\n",
       "      <td>...</td>\n",
       "      <td>...</td>\n",
       "      <td>...</td>\n",
       "      <td>...</td>\n",
       "      <td>...</td>\n",
       "      <td>...</td>\n",
       "      <td>...</td>\n",
       "      <td>...</td>\n",
       "      <td>...</td>\n",
       "      <td>...</td>\n",
       "      <td>...</td>\n",
       "    </tr>\n",
       "    <tr>\n",
       "      <th>495</th>\n",
       "      <td>496</td>\n",
       "      <td>23</td>\n",
       "      <td>Female</td>\n",
       "      <td>Mumbai</td>\n",
       "      <td>Undergraduate</td>\n",
       "      <td>Intern</td>\n",
       "      <td>Tinder</td>\n",
       "      <td>Hinge</td>\n",
       "      <td>Weekly</td>\n",
       "      <td>1.5 hours</td>\n",
       "      <td>Casual Dating</td>\n",
       "      <td>2</td>\n",
       "      <td>NaN</td>\n",
       "      <td>Audio Calls</td>\n",
       "      <td>Voice Notes</td>\n",
       "      <td>Personality &gt; Interests &gt; Values</td>\n",
       "    </tr>\n",
       "    <tr>\n",
       "      <th>496</th>\n",
       "      <td>497</td>\n",
       "      <td>23</td>\n",
       "      <td>Male</td>\n",
       "      <td>Mumbai</td>\n",
       "      <td>Postgraduate</td>\n",
       "      <td>Intern</td>\n",
       "      <td>OkCupid</td>\n",
       "      <td>Tinder</td>\n",
       "      <td>Daily</td>\n",
       "      <td>2 hours</td>\n",
       "      <td>Casual Fun</td>\n",
       "      <td>1</td>\n",
       "      <td>Time-Wasting</td>\n",
       "      <td>Video Calls</td>\n",
       "      <td>Video Calls</td>\n",
       "      <td>Values &gt; Personality &gt; Appearance</td>\n",
       "    </tr>\n",
       "    <tr>\n",
       "      <th>497</th>\n",
       "      <td>498</td>\n",
       "      <td>22</td>\n",
       "      <td>Male</td>\n",
       "      <td>Hyderabad</td>\n",
       "      <td>Graduate</td>\n",
       "      <td>Freelancer</td>\n",
       "      <td>NaN</td>\n",
       "      <td>Hinge</td>\n",
       "      <td>Monthly</td>\n",
       "      <td>2 hours</td>\n",
       "      <td>Casual Fun</td>\n",
       "      <td>2</td>\n",
       "      <td>Lack of Genuine Matches</td>\n",
       "      <td>Video Calls</td>\n",
       "      <td>Voice Notes</td>\n",
       "      <td>Appearance &gt; Interests &gt; Personality</td>\n",
       "    </tr>\n",
       "    <tr>\n",
       "      <th>498</th>\n",
       "      <td>499</td>\n",
       "      <td>21</td>\n",
       "      <td>Female</td>\n",
       "      <td>Kolkata</td>\n",
       "      <td>Graduate</td>\n",
       "      <td>Student</td>\n",
       "      <td>Tinder</td>\n",
       "      <td>Hinge</td>\n",
       "      <td>Daily</td>\n",
       "      <td>1.5 hours</td>\n",
       "      <td>Casual Dating</td>\n",
       "      <td>3</td>\n",
       "      <td>Lack of Genuine Matches</td>\n",
       "      <td>Detailed Profiles</td>\n",
       "      <td>Text</td>\n",
       "      <td>Appearance &gt; Interests &gt; Personality</td>\n",
       "    </tr>\n",
       "    <tr>\n",
       "      <th>499</th>\n",
       "      <td>500</td>\n",
       "      <td>22</td>\n",
       "      <td>Male</td>\n",
       "      <td>Mumbai</td>\n",
       "      <td>Graduate</td>\n",
       "      <td>Part-time Job</td>\n",
       "      <td>NaN</td>\n",
       "      <td>Hinge</td>\n",
       "      <td>Weekly</td>\n",
       "      <td>1.5 hours</td>\n",
       "      <td>Casual Fun</td>\n",
       "      <td>2</td>\n",
       "      <td>Time-Wasting</td>\n",
       "      <td>AI Recommendations</td>\n",
       "      <td>Video Calls</td>\n",
       "      <td>Appearance &gt; Interests &gt; Personality</td>\n",
       "    </tr>\n",
       "  </tbody>\n",
       "</table>\n",
       "<p>500 rows × 16 columns</p>\n",
       "</div>"
      ],
      "text/plain": [
       "     User_ID  Age      Gender   Location      Education     Occupation  \\\n",
       "0          1   20  Non-binary  Bangalore  Undergraduate     Freelancer   \n",
       "1          2   24      Female      Delhi  Undergraduate  Part-time Job   \n",
       "2          3   24  Non-binary    Kolkata  Undergraduate         Intern   \n",
       "3          4   22  Non-binary      Delhi       Graduate  Full-time Job   \n",
       "4          5   18        Male      Delhi       Graduate         Intern   \n",
       "..       ...  ...         ...        ...            ...            ...   \n",
       "495      496   23      Female     Mumbai  Undergraduate         Intern   \n",
       "496      497   23        Male     Mumbai   Postgraduate         Intern   \n",
       "497      498   22        Male  Hyderabad       Graduate     Freelancer   \n",
       "498      499   21      Female    Kolkata       Graduate        Student   \n",
       "499      500   22        Male     Mumbai       Graduate  Part-time Job   \n",
       "\n",
       "    Primary_App Secondary_Apps Usage_Frequency Daily_Usage_Time  \\\n",
       "0         Hinge          Hinge         Monthly           1 hour   \n",
       "1         Hinge        OkCupid          Weekly       30 minutes   \n",
       "2           NaN            NaN          Weekly          2 hours   \n",
       "3           NaN        OkCupid           Daily       30 minutes   \n",
       "4       OkCupid        OkCupid          Weekly          2 hours   \n",
       "..          ...            ...             ...              ...   \n",
       "495      Tinder          Hinge          Weekly        1.5 hours   \n",
       "496     OkCupid         Tinder           Daily          2 hours   \n",
       "497         NaN          Hinge         Monthly          2 hours   \n",
       "498      Tinder          Hinge           Daily        1.5 hours   \n",
       "499         NaN          Hinge          Weekly        1.5 hours   \n",
       "\n",
       "      Reason_for_Using  Satisfaction               Challenges  \\\n",
       "0    Finding a Partner             4          Safety Concerns   \n",
       "1        Casual Dating             5             Time-Wasting   \n",
       "2        Casual Dating             4          Safety Concerns   \n",
       "3           Casual Fun             3                      NaN   \n",
       "4           Casual Fun             4          Safety Concerns   \n",
       "..                 ...           ...                      ...   \n",
       "495      Casual Dating             2                      NaN   \n",
       "496         Casual Fun             1             Time-Wasting   \n",
       "497         Casual Fun             2  Lack of Genuine Matches   \n",
       "498      Casual Dating             3  Lack of Genuine Matches   \n",
       "499         Casual Fun             2             Time-Wasting   \n",
       "\n",
       "       Desired_Features Preferred_Communication  \\\n",
       "0           Audio Calls             Video Calls   \n",
       "1           Video Calls                    Text   \n",
       "2     Detailed Profiles                    Text   \n",
       "3    AI Recommendations             Voice Notes   \n",
       "4           Video Calls                    Text   \n",
       "..                  ...                     ...   \n",
       "495         Audio Calls             Voice Notes   \n",
       "496         Video Calls             Video Calls   \n",
       "497         Video Calls             Voice Notes   \n",
       "498   Detailed Profiles                    Text   \n",
       "499  AI Recommendations             Video Calls   \n",
       "\n",
       "                       Partner_Priorities  \n",
       "0       Values > Personality > Appearance  \n",
       "1       Values > Personality > Appearance  \n",
       "2       Values > Personality > Appearance  \n",
       "3        Personality > Interests > Values  \n",
       "4    Appearance > Interests > Personality  \n",
       "..                                    ...  \n",
       "495      Personality > Interests > Values  \n",
       "496     Values > Personality > Appearance  \n",
       "497  Appearance > Interests > Personality  \n",
       "498  Appearance > Interests > Personality  \n",
       "499  Appearance > Interests > Personality  \n",
       "\n",
       "[500 rows x 16 columns]"
      ]
     },
     "execution_count": 23,
     "metadata": {},
     "output_type": "execute_result"
    }
   ],
   "source": [
    "df"
   ]
  },
  {
   "cell_type": "code",
   "execution_count": 24,
   "id": "c35bf507-1286-4409-8348-42fd3593c959",
   "metadata": {},
   "outputs": [
    {
     "name": "stdout",
     "output_type": "stream",
     "text": [
      "<class 'pandas.core.frame.DataFrame'>\n",
      "RangeIndex: 500 entries, 0 to 499\n",
      "Data columns (total 16 columns):\n",
      " #   Column                   Non-Null Count  Dtype   \n",
      "---  ------                   --------------  -----   \n",
      " 0   User_ID                  500 non-null    int64   \n",
      " 1   Age                      500 non-null    int64   \n",
      " 2   Gender                   500 non-null    category\n",
      " 3   Location                 500 non-null    object  \n",
      " 4   Education                500 non-null    object  \n",
      " 5   Occupation               500 non-null    object  \n",
      " 6   Primary_App              393 non-null    object  \n",
      " 7   Secondary_Apps           386 non-null    object  \n",
      " 8   Usage_Frequency          500 non-null    object  \n",
      " 9   Daily_Usage_Time         500 non-null    object  \n",
      " 10  Reason_for_Using         500 non-null    object  \n",
      " 11  Satisfaction             500 non-null    int64   \n",
      " 12  Challenges               383 non-null    object  \n",
      " 13  Desired_Features         500 non-null    object  \n",
      " 14  Preferred_Communication  500 non-null    object  \n",
      " 15  Partner_Priorities       500 non-null    object  \n",
      "dtypes: category(1), int64(3), object(12)\n",
      "memory usage: 59.3+ KB\n"
     ]
    }
   ],
   "source": [
    "df.info()"
   ]
  },
  {
   "cell_type": "code",
   "execution_count": 25,
   "id": "2fc8c91f-c352-4b0d-9203-a3b710d9d449",
   "metadata": {},
   "outputs": [
    {
     "name": "stdout",
     "output_type": "stream",
     "text": [
      "<class 'pandas.core.frame.DataFrame'>\n",
      "RangeIndex: 500 entries, 0 to 499\n",
      "Data columns (total 16 columns):\n",
      " #   Column                   Non-Null Count  Dtype   \n",
      "---  ------                   --------------  -----   \n",
      " 0   User_ID                  500 non-null    int64   \n",
      " 1   Age                      500 non-null    int64   \n",
      " 2   Gender                   500 non-null    category\n",
      " 3   Location                 500 non-null    object  \n",
      " 4   Education                500 non-null    object  \n",
      " 5   Occupation               500 non-null    object  \n",
      " 6   Primary_App              393 non-null    object  \n",
      " 7   Secondary_Apps           386 non-null    object  \n",
      " 8   Usage_Frequency          500 non-null    object  \n",
      " 9   Daily_Usage_Time         500 non-null    object  \n",
      " 10  Reason_for_Using         500 non-null    object  \n",
      " 11  Satisfaction             500 non-null    int64   \n",
      " 12  Challenges               383 non-null    object  \n",
      " 13  Desired_Features         500 non-null    object  \n",
      " 14  Preferred_Communication  500 non-null    object  \n",
      " 15  Partner_Priorities       500 non-null    object  \n",
      "dtypes: category(1), int64(3), object(12)\n",
      "memory usage: 59.3+ KB\n"
     ]
    }
   ],
   "source": [
    "df.info()"
   ]
  },
  {
   "cell_type": "code",
   "execution_count": 26,
   "id": "8f43615d-419c-485d-90ef-6d3ec984749a",
   "metadata": {},
   "outputs": [
    {
     "data": {
      "text/html": [
       "<div>\n",
       "<style scoped>\n",
       "    .dataframe tbody tr th:only-of-type {\n",
       "        vertical-align: middle;\n",
       "    }\n",
       "\n",
       "    .dataframe tbody tr th {\n",
       "        vertical-align: top;\n",
       "    }\n",
       "\n",
       "    .dataframe thead th {\n",
       "        text-align: right;\n",
       "    }\n",
       "</style>\n",
       "<table border=\"1\" class=\"dataframe\">\n",
       "  <thead>\n",
       "    <tr style=\"text-align: right;\">\n",
       "      <th></th>\n",
       "      <th>Location</th>\n",
       "      <th>Education</th>\n",
       "      <th>Occupation</th>\n",
       "      <th>Primary_App</th>\n",
       "      <th>Secondary_Apps</th>\n",
       "      <th>Usage_Frequency</th>\n",
       "      <th>Daily_Usage_Time</th>\n",
       "      <th>Reason_for_Using</th>\n",
       "      <th>Challenges</th>\n",
       "      <th>Desired_Features</th>\n",
       "      <th>Preferred_Communication</th>\n",
       "      <th>Partner_Priorities</th>\n",
       "    </tr>\n",
       "  </thead>\n",
       "  <tbody>\n",
       "    <tr>\n",
       "      <th>0</th>\n",
       "      <td>Bangalore</td>\n",
       "      <td>Undergraduate</td>\n",
       "      <td>Freelancer</td>\n",
       "      <td>Hinge</td>\n",
       "      <td>Hinge</td>\n",
       "      <td>Monthly</td>\n",
       "      <td>1 hour</td>\n",
       "      <td>Finding a Partner</td>\n",
       "      <td>Safety Concerns</td>\n",
       "      <td>Audio Calls</td>\n",
       "      <td>Video Calls</td>\n",
       "      <td>Values &gt; Personality &gt; Appearance</td>\n",
       "    </tr>\n",
       "    <tr>\n",
       "      <th>1</th>\n",
       "      <td>Delhi</td>\n",
       "      <td>Undergraduate</td>\n",
       "      <td>Part-time Job</td>\n",
       "      <td>Hinge</td>\n",
       "      <td>OkCupid</td>\n",
       "      <td>Weekly</td>\n",
       "      <td>30 minutes</td>\n",
       "      <td>Casual Dating</td>\n",
       "      <td>Time-Wasting</td>\n",
       "      <td>Video Calls</td>\n",
       "      <td>Text</td>\n",
       "      <td>Values &gt; Personality &gt; Appearance</td>\n",
       "    </tr>\n",
       "    <tr>\n",
       "      <th>2</th>\n",
       "      <td>Kolkata</td>\n",
       "      <td>Undergraduate</td>\n",
       "      <td>Intern</td>\n",
       "      <td>NaN</td>\n",
       "      <td>NaN</td>\n",
       "      <td>Weekly</td>\n",
       "      <td>2 hours</td>\n",
       "      <td>Casual Dating</td>\n",
       "      <td>Safety Concerns</td>\n",
       "      <td>Detailed Profiles</td>\n",
       "      <td>Text</td>\n",
       "      <td>Values &gt; Personality &gt; Appearance</td>\n",
       "    </tr>\n",
       "    <tr>\n",
       "      <th>3</th>\n",
       "      <td>Delhi</td>\n",
       "      <td>Graduate</td>\n",
       "      <td>Full-time Job</td>\n",
       "      <td>NaN</td>\n",
       "      <td>OkCupid</td>\n",
       "      <td>Daily</td>\n",
       "      <td>30 minutes</td>\n",
       "      <td>Casual Fun</td>\n",
       "      <td>NaN</td>\n",
       "      <td>AI Recommendations</td>\n",
       "      <td>Voice Notes</td>\n",
       "      <td>Personality &gt; Interests &gt; Values</td>\n",
       "    </tr>\n",
       "    <tr>\n",
       "      <th>4</th>\n",
       "      <td>Delhi</td>\n",
       "      <td>Graduate</td>\n",
       "      <td>Intern</td>\n",
       "      <td>OkCupid</td>\n",
       "      <td>OkCupid</td>\n",
       "      <td>Weekly</td>\n",
       "      <td>2 hours</td>\n",
       "      <td>Casual Fun</td>\n",
       "      <td>Safety Concerns</td>\n",
       "      <td>Video Calls</td>\n",
       "      <td>Text</td>\n",
       "      <td>Appearance &gt; Interests &gt; Personality</td>\n",
       "    </tr>\n",
       "    <tr>\n",
       "      <th>...</th>\n",
       "      <td>...</td>\n",
       "      <td>...</td>\n",
       "      <td>...</td>\n",
       "      <td>...</td>\n",
       "      <td>...</td>\n",
       "      <td>...</td>\n",
       "      <td>...</td>\n",
       "      <td>...</td>\n",
       "      <td>...</td>\n",
       "      <td>...</td>\n",
       "      <td>...</td>\n",
       "      <td>...</td>\n",
       "    </tr>\n",
       "    <tr>\n",
       "      <th>495</th>\n",
       "      <td>Mumbai</td>\n",
       "      <td>Undergraduate</td>\n",
       "      <td>Intern</td>\n",
       "      <td>Tinder</td>\n",
       "      <td>Hinge</td>\n",
       "      <td>Weekly</td>\n",
       "      <td>1.5 hours</td>\n",
       "      <td>Casual Dating</td>\n",
       "      <td>NaN</td>\n",
       "      <td>Audio Calls</td>\n",
       "      <td>Voice Notes</td>\n",
       "      <td>Personality &gt; Interests &gt; Values</td>\n",
       "    </tr>\n",
       "    <tr>\n",
       "      <th>496</th>\n",
       "      <td>Mumbai</td>\n",
       "      <td>Postgraduate</td>\n",
       "      <td>Intern</td>\n",
       "      <td>OkCupid</td>\n",
       "      <td>Tinder</td>\n",
       "      <td>Daily</td>\n",
       "      <td>2 hours</td>\n",
       "      <td>Casual Fun</td>\n",
       "      <td>Time-Wasting</td>\n",
       "      <td>Video Calls</td>\n",
       "      <td>Video Calls</td>\n",
       "      <td>Values &gt; Personality &gt; Appearance</td>\n",
       "    </tr>\n",
       "    <tr>\n",
       "      <th>497</th>\n",
       "      <td>Hyderabad</td>\n",
       "      <td>Graduate</td>\n",
       "      <td>Freelancer</td>\n",
       "      <td>NaN</td>\n",
       "      <td>Hinge</td>\n",
       "      <td>Monthly</td>\n",
       "      <td>2 hours</td>\n",
       "      <td>Casual Fun</td>\n",
       "      <td>Lack of Genuine Matches</td>\n",
       "      <td>Video Calls</td>\n",
       "      <td>Voice Notes</td>\n",
       "      <td>Appearance &gt; Interests &gt; Personality</td>\n",
       "    </tr>\n",
       "    <tr>\n",
       "      <th>498</th>\n",
       "      <td>Kolkata</td>\n",
       "      <td>Graduate</td>\n",
       "      <td>Student</td>\n",
       "      <td>Tinder</td>\n",
       "      <td>Hinge</td>\n",
       "      <td>Daily</td>\n",
       "      <td>1.5 hours</td>\n",
       "      <td>Casual Dating</td>\n",
       "      <td>Lack of Genuine Matches</td>\n",
       "      <td>Detailed Profiles</td>\n",
       "      <td>Text</td>\n",
       "      <td>Appearance &gt; Interests &gt; Personality</td>\n",
       "    </tr>\n",
       "    <tr>\n",
       "      <th>499</th>\n",
       "      <td>Mumbai</td>\n",
       "      <td>Graduate</td>\n",
       "      <td>Part-time Job</td>\n",
       "      <td>NaN</td>\n",
       "      <td>Hinge</td>\n",
       "      <td>Weekly</td>\n",
       "      <td>1.5 hours</td>\n",
       "      <td>Casual Fun</td>\n",
       "      <td>Time-Wasting</td>\n",
       "      <td>AI Recommendations</td>\n",
       "      <td>Video Calls</td>\n",
       "      <td>Appearance &gt; Interests &gt; Personality</td>\n",
       "    </tr>\n",
       "  </tbody>\n",
       "</table>\n",
       "<p>500 rows × 12 columns</p>\n",
       "</div>"
      ],
      "text/plain": [
       "      Location      Education     Occupation Primary_App Secondary_Apps  \\\n",
       "0    Bangalore  Undergraduate     Freelancer       Hinge          Hinge   \n",
       "1        Delhi  Undergraduate  Part-time Job       Hinge        OkCupid   \n",
       "2      Kolkata  Undergraduate         Intern         NaN            NaN   \n",
       "3        Delhi       Graduate  Full-time Job         NaN        OkCupid   \n",
       "4        Delhi       Graduate         Intern     OkCupid        OkCupid   \n",
       "..         ...            ...            ...         ...            ...   \n",
       "495     Mumbai  Undergraduate         Intern      Tinder          Hinge   \n",
       "496     Mumbai   Postgraduate         Intern     OkCupid         Tinder   \n",
       "497  Hyderabad       Graduate     Freelancer         NaN          Hinge   \n",
       "498    Kolkata       Graduate        Student      Tinder          Hinge   \n",
       "499     Mumbai       Graduate  Part-time Job         NaN          Hinge   \n",
       "\n",
       "    Usage_Frequency Daily_Usage_Time   Reason_for_Using  \\\n",
       "0           Monthly           1 hour  Finding a Partner   \n",
       "1            Weekly       30 minutes      Casual Dating   \n",
       "2            Weekly          2 hours      Casual Dating   \n",
       "3             Daily       30 minutes         Casual Fun   \n",
       "4            Weekly          2 hours         Casual Fun   \n",
       "..              ...              ...                ...   \n",
       "495          Weekly        1.5 hours      Casual Dating   \n",
       "496           Daily          2 hours         Casual Fun   \n",
       "497         Monthly          2 hours         Casual Fun   \n",
       "498           Daily        1.5 hours      Casual Dating   \n",
       "499          Weekly        1.5 hours         Casual Fun   \n",
       "\n",
       "                  Challenges    Desired_Features Preferred_Communication  \\\n",
       "0            Safety Concerns         Audio Calls             Video Calls   \n",
       "1               Time-Wasting         Video Calls                    Text   \n",
       "2            Safety Concerns   Detailed Profiles                    Text   \n",
       "3                        NaN  AI Recommendations             Voice Notes   \n",
       "4            Safety Concerns         Video Calls                    Text   \n",
       "..                       ...                 ...                     ...   \n",
       "495                      NaN         Audio Calls             Voice Notes   \n",
       "496             Time-Wasting         Video Calls             Video Calls   \n",
       "497  Lack of Genuine Matches         Video Calls             Voice Notes   \n",
       "498  Lack of Genuine Matches   Detailed Profiles                    Text   \n",
       "499             Time-Wasting  AI Recommendations             Video Calls   \n",
       "\n",
       "                       Partner_Priorities  \n",
       "0       Values > Personality > Appearance  \n",
       "1       Values > Personality > Appearance  \n",
       "2       Values > Personality > Appearance  \n",
       "3        Personality > Interests > Values  \n",
       "4    Appearance > Interests > Personality  \n",
       "..                                    ...  \n",
       "495      Personality > Interests > Values  \n",
       "496     Values > Personality > Appearance  \n",
       "497  Appearance > Interests > Personality  \n",
       "498  Appearance > Interests > Personality  \n",
       "499  Appearance > Interests > Personality  \n",
       "\n",
       "[500 rows x 12 columns]"
      ]
     },
     "execution_count": 26,
     "metadata": {},
     "output_type": "execute_result"
    }
   ],
   "source": [
    "df.select_dtypes(include=\"object\")"
   ]
  },
  {
   "cell_type": "code",
   "execution_count": 27,
   "id": "886302bd-fe5a-495a-b8a3-39a37e2288e0",
   "metadata": {},
   "outputs": [],
   "source": [
    "for col in df.select_dtypes(include=\"object\").columns:\n",
    "    df[col]=df[col].astype(\"category\")"
   ]
  },
  {
   "cell_type": "code",
   "execution_count": 28,
   "id": "f29aca25-5b18-4eab-9692-a4d76b25bfe2",
   "metadata": {},
   "outputs": [
    {
     "name": "stdout",
     "output_type": "stream",
     "text": [
      "<class 'pandas.core.frame.DataFrame'>\n",
      "RangeIndex: 500 entries, 0 to 499\n",
      "Data columns (total 16 columns):\n",
      " #   Column                   Non-Null Count  Dtype   \n",
      "---  ------                   --------------  -----   \n",
      " 0   User_ID                  500 non-null    int64   \n",
      " 1   Age                      500 non-null    int64   \n",
      " 2   Gender                   500 non-null    category\n",
      " 3   Location                 500 non-null    category\n",
      " 4   Education                500 non-null    category\n",
      " 5   Occupation               500 non-null    category\n",
      " 6   Primary_App              393 non-null    category\n",
      " 7   Secondary_Apps           386 non-null    category\n",
      " 8   Usage_Frequency          500 non-null    category\n",
      " 9   Daily_Usage_Time         500 non-null    category\n",
      " 10  Reason_for_Using         500 non-null    category\n",
      " 11  Satisfaction             500 non-null    int64   \n",
      " 12  Challenges               383 non-null    category\n",
      " 13  Desired_Features         500 non-null    category\n",
      " 14  Preferred_Communication  500 non-null    category\n",
      " 15  Partner_Priorities       500 non-null    category\n",
      "dtypes: category(13), int64(3)\n",
      "memory usage: 20.5 KB\n"
     ]
    }
   ],
   "source": [
    "df.info()"
   ]
  },
  {
   "cell_type": "code",
   "execution_count": 29,
   "id": "d374745b-a83a-4f7d-b97c-f8df3c6cf6ae",
   "metadata": {},
   "outputs": [],
   "source": [
    "df[\"Satisfaction\"]=df[\"Satisfaction\"].astype(\"category\")"
   ]
  },
  {
   "cell_type": "code",
   "execution_count": 30,
   "id": "9823e2d4-5a97-4c8b-9685-6f62c1d6dbbe",
   "metadata": {},
   "outputs": [
    {
     "name": "stdout",
     "output_type": "stream",
     "text": [
      "<class 'pandas.core.frame.DataFrame'>\n",
      "RangeIndex: 500 entries, 0 to 499\n",
      "Data columns (total 16 columns):\n",
      " #   Column                   Non-Null Count  Dtype   \n",
      "---  ------                   --------------  -----   \n",
      " 0   User_ID                  500 non-null    int64   \n",
      " 1   Age                      500 non-null    int64   \n",
      " 2   Gender                   500 non-null    category\n",
      " 3   Location                 500 non-null    category\n",
      " 4   Education                500 non-null    category\n",
      " 5   Occupation               500 non-null    category\n",
      " 6   Primary_App              393 non-null    category\n",
      " 7   Secondary_Apps           386 non-null    category\n",
      " 8   Usage_Frequency          500 non-null    category\n",
      " 9   Daily_Usage_Time         500 non-null    category\n",
      " 10  Reason_for_Using         500 non-null    category\n",
      " 11  Satisfaction             500 non-null    category\n",
      " 12  Challenges               383 non-null    category\n",
      " 13  Desired_Features         500 non-null    category\n",
      " 14  Preferred_Communication  500 non-null    category\n",
      " 15  Partner_Priorities       500 non-null    category\n",
      "dtypes: category(14), int64(2)\n",
      "memory usage: 17.3 KB\n"
     ]
    }
   ],
   "source": [
    "df.info()"
   ]
  },
  {
   "cell_type": "code",
   "execution_count": 31,
   "id": "a6286a0e-ffde-4cf5-b722-a10dd119ccaa",
   "metadata": {},
   "outputs": [
    {
     "data": {
      "text/plain": [
       "User_ID                      0\n",
       "Age                          0\n",
       "Gender                       0\n",
       "Location                     0\n",
       "Education                    0\n",
       "Occupation                   0\n",
       "Primary_App                107\n",
       "Secondary_Apps             114\n",
       "Usage_Frequency              0\n",
       "Daily_Usage_Time             0\n",
       "Reason_for_Using             0\n",
       "Satisfaction                 0\n",
       "Challenges                 117\n",
       "Desired_Features             0\n",
       "Preferred_Communication      0\n",
       "Partner_Priorities           0\n",
       "dtype: int64"
      ]
     },
     "execution_count": 31,
     "metadata": {},
     "output_type": "execute_result"
    }
   ],
   "source": [
    "df.isnull().sum()"
   ]
  },
  {
   "cell_type": "code",
   "execution_count": 32,
   "id": "14e7e5cd-7773-4098-93f8-93b65031b37e",
   "metadata": {},
   "outputs": [
    {
     "data": {
      "text/plain": [
       "Primary_App\n",
       "OkCupid    118\n",
       "Hinge      106\n",
       "Bumble      93\n",
       "Tinder      76\n",
       "Name: count, dtype: int64"
      ]
     },
     "execution_count": 32,
     "metadata": {},
     "output_type": "execute_result"
    }
   ],
   "source": [
    "df[\"Primary_App\"].value_counts()"
   ]
  },
  {
   "cell_type": "code",
   "execution_count": 33,
   "id": "7eaeade7-5dc3-4fff-a5fa-d8bb55911be7",
   "metadata": {},
   "outputs": [
    {
     "data": {
      "text/plain": [
       "User_ID                     0.0\n",
       "Age                         0.0\n",
       "Gender                      0.0\n",
       "Location                    0.0\n",
       "Education                   0.0\n",
       "Occupation                  0.0\n",
       "Primary_App                21.4\n",
       "Secondary_Apps             22.8\n",
       "Usage_Frequency             0.0\n",
       "Daily_Usage_Time            0.0\n",
       "Reason_for_Using            0.0\n",
       "Satisfaction                0.0\n",
       "Challenges                 23.4\n",
       "Desired_Features            0.0\n",
       "Preferred_Communication     0.0\n",
       "Partner_Priorities          0.0\n",
       "dtype: float64"
      ]
     },
     "execution_count": 33,
     "metadata": {},
     "output_type": "execute_result"
    }
   ],
   "source": [
    "(df.isnull().sum()/df.shape[0])*100"
   ]
  },
  {
   "cell_type": "code",
   "execution_count": 34,
   "id": "345a9f12-3133-454f-990c-01c8b78be4bf",
   "metadata": {},
   "outputs": [],
   "source": [
    "df[\"Primary_App\"]=df[\"Primary_App\"].fillna(df[\"Primary_App\"].mode())"
   ]
  },
  {
   "cell_type": "code",
   "execution_count": 35,
   "id": "4b4797e2-c4bc-45a4-9464-539754eaa79d",
   "metadata": {},
   "outputs": [
    {
     "data": {
      "text/plain": [
       "User_ID                      0\n",
       "Age                          0\n",
       "Gender                       0\n",
       "Location                     0\n",
       "Education                    0\n",
       "Occupation                   0\n",
       "Primary_App                107\n",
       "Secondary_Apps             114\n",
       "Usage_Frequency              0\n",
       "Daily_Usage_Time             0\n",
       "Reason_for_Using             0\n",
       "Satisfaction                 0\n",
       "Challenges                 117\n",
       "Desired_Features             0\n",
       "Preferred_Communication      0\n",
       "Partner_Priorities           0\n",
       "dtype: int64"
      ]
     },
     "execution_count": 35,
     "metadata": {},
     "output_type": "execute_result"
    }
   ],
   "source": [
    "df.isnull().sum()"
   ]
  },
  {
   "cell_type": "code",
   "execution_count": 36,
   "id": "52634a78-1bcd-41f3-b4bf-58c85aff0733",
   "metadata": {},
   "outputs": [],
   "source": [
    "md = df[\"Primary_App\"].mode()[0]"
   ]
  },
  {
   "cell_type": "markdown",
   "id": "778cf27e-4632-4e1e-8db6-24d5c7cf3173",
   "metadata": {},
   "source": [
    "md"
   ]
  },
  {
   "cell_type": "code",
   "execution_count": 37,
   "id": "aca5d9a1-1efe-4d02-8b86-bbe5738d5ab7",
   "metadata": {},
   "outputs": [
    {
     "name": "stdout",
     "output_type": "stream",
     "text": [
      "OkCupid\n"
     ]
    }
   ],
   "source": [
    "print(md)"
   ]
  },
  {
   "cell_type": "code",
   "execution_count": 38,
   "id": "bb452932-2a87-4acc-8020-483a841c04ba",
   "metadata": {},
   "outputs": [],
   "source": [
    "df[\"Primary_App\"]=df[\"Primary_App\"].fillna(md)"
   ]
  },
  {
   "cell_type": "code",
   "execution_count": 39,
   "id": "71654594-dd49-4646-9df7-83e76a099c8b",
   "metadata": {},
   "outputs": [
    {
     "data": {
      "text/plain": [
       "User_ID                      0\n",
       "Age                          0\n",
       "Gender                       0\n",
       "Location                     0\n",
       "Education                    0\n",
       "Occupation                   0\n",
       "Primary_App                  0\n",
       "Secondary_Apps             114\n",
       "Usage_Frequency              0\n",
       "Daily_Usage_Time             0\n",
       "Reason_for_Using             0\n",
       "Satisfaction                 0\n",
       "Challenges                 117\n",
       "Desired_Features             0\n",
       "Preferred_Communication      0\n",
       "Partner_Priorities           0\n",
       "dtype: int64"
      ]
     },
     "execution_count": 39,
     "metadata": {},
     "output_type": "execute_result"
    }
   ],
   "source": [
    "df.isnull().sum()"
   ]
  },
  {
   "cell_type": "code",
   "execution_count": 40,
   "id": "d4e246f0-1f54-4d49-8b0c-cabb67644cf8",
   "metadata": {},
   "outputs": [
    {
     "data": {
      "text/plain": [
       "Secondary_Apps\n",
       "Hinge      103\n",
       "OkCupid     96\n",
       "Bumble      95\n",
       "Tinder      92\n",
       "Name: count, dtype: int64"
      ]
     },
     "execution_count": 40,
     "metadata": {},
     "output_type": "execute_result"
    }
   ],
   "source": [
    "df[\"Secondary_Apps\"].value_counts()"
   ]
  },
  {
   "cell_type": "code",
   "execution_count": 41,
   "id": "888713c6-937a-40cf-9df5-b8582b38548d",
   "metadata": {},
   "outputs": [
    {
     "name": "stderr",
     "output_type": "stream",
     "text": [
      "/var/folders/jn/dvbsgr3506n5l2_jhv8b_fqm0000gn/T/ipykernel_11175/3771049023.py:1: FutureWarning: Series.fillna with 'method' is deprecated and will raise in a future version. Use obj.ffill() or obj.bfill() instead.\n",
      "  df[\"Secondary_Apps\"] = df[\"Secondary_Apps\"].fillna(method = \"ffill\")\n"
     ]
    }
   ],
   "source": [
    "df[\"Secondary_Apps\"] = df[\"Secondary_Apps\"].fillna(method = \"ffill\")"
   ]
  },
  {
   "cell_type": "code",
   "execution_count": 42,
   "id": "08217586-d134-41a9-b5f8-21068079e13a",
   "metadata": {},
   "outputs": [
    {
     "data": {
      "text/plain": [
       "User_ID                      0\n",
       "Age                          0\n",
       "Gender                       0\n",
       "Location                     0\n",
       "Education                    0\n",
       "Occupation                   0\n",
       "Primary_App                  0\n",
       "Secondary_Apps               0\n",
       "Usage_Frequency              0\n",
       "Daily_Usage_Time             0\n",
       "Reason_for_Using             0\n",
       "Satisfaction                 0\n",
       "Challenges                 117\n",
       "Desired_Features             0\n",
       "Preferred_Communication      0\n",
       "Partner_Priorities           0\n",
       "dtype: int64"
      ]
     },
     "execution_count": 42,
     "metadata": {},
     "output_type": "execute_result"
    }
   ],
   "source": [
    "df.isnull().sum()"
   ]
  },
  {
   "cell_type": "code",
   "execution_count": 43,
   "id": "d508d0f2-a7ba-4413-8b15-97ad0eaef990",
   "metadata": {},
   "outputs": [
    {
     "data": {
      "text/plain": [
       "count    500.000000\n",
       "mean      21.582000\n",
       "std        2.259532\n",
       "min       18.000000\n",
       "25%       20.000000\n",
       "50%       22.000000\n",
       "75%       24.000000\n",
       "max       25.000000\n",
       "Name: Age, dtype: float64"
      ]
     },
     "execution_count": 43,
     "metadata": {},
     "output_type": "execute_result"
    }
   ],
   "source": [
    "df[\"Age\"].describe()"
   ]
  },
  {
   "cell_type": "code",
   "execution_count": 44,
   "id": "7a854ae7-a02b-4ad1-9fd5-10afa72f65a2",
   "metadata": {},
   "outputs": [
    {
     "data": {
      "text/plain": [
       "<Axes: xlabel='Age', ylabel='Count'>"
      ]
     },
     "execution_count": 44,
     "metadata": {},
     "output_type": "execute_result"
    },
    {
     "data": {
      "image/png": "[encoded data removed]",
      "text/plain": [
       "<Figure size 640x480 with 1 Axes>"
      ]
     },
     "metadata": {},
     "output_type": "display_data"
    }
   ],
   "source": [
    "sns.histplot(df[\"Age\"], kde=True)"
   ]
  },
  {
   "cell_type": "code",
   "execution_count": 45,
   "id": "0491c108-c176-412e-9ff6-a5e5acc92a2b",
   "metadata": {},
   "outputs": [
    {
     "data": {
      "text/plain": [
       "<Axes: xlabel='Primary_App', ylabel='count'>"
      ]
     },
     "execution_count": 45,
     "metadata": {},
     "output_type": "execute_result"
    },
    {
     "data": {
      "image/png": "[encoded data removed]",
      "text/plain": [
       "<Figure size 640x480 with 1 Axes>"
      ]
     },
     "metadata": {},
     "output_type": "display_data"
    }
   ],
   "source": [
    "sns.countplot(data=df, x=df[\"Primary_App\"])"
   ]
  },
  {
   "cell_type": "code",
   "execution_count": 46,
   "id": "c58029bf-ad16-4343-8297-f3be993d4cee",
   "metadata": {},
   "outputs": [
    {
     "data": {
      "text/plain": [
       "0              Safety Concerns\n",
       "1                 Time-Wasting\n",
       "2              Safety Concerns\n",
       "3                          NaN\n",
       "4              Safety Concerns\n",
       "                ...           \n",
       "495                        NaN\n",
       "496               Time-Wasting\n",
       "497    Lack of Genuine Matches\n",
       "498    Lack of Genuine Matches\n",
       "499               Time-Wasting\n",
       "Name: Challenges, Length: 500, dtype: category\n",
       "Categories (3, object): ['Lack of Genuine Matches', 'Safety Concerns', 'Time-Wasting']"
      ]
     },
     "execution_count": 46,
     "metadata": {},
     "output_type": "execute_result"
    }
   ],
   "source": [
    "df[\"Challenges\"]"
   ]
  },
  {
   "cell_type": "code",
   "execution_count": 48,
   "id": "35d21e66-4eae-4d03-8892-693a22fe3256",
   "metadata": {},
   "outputs": [
    {
     "name": "stderr",
     "output_type": "stream",
     "text": [
      "/var/folders/jn/dvbsgr3506n5l2_jhv8b_fqm0000gn/T/ipykernel_11175/2090051223.py:1: FutureWarning: Series.fillna with 'method' is deprecated and will raise in a future version. Use obj.ffill() or obj.bfill() instead.\n",
      "  df[\"Challenges\"]= df[\"Challenges\"].fillna(method =\"bfill\")\n"
     ]
    }
   ],
   "source": [
    "df[\"Challenges\"]= df[\"Challenges\"].fillna(method =\"bfill\")"
   ]
  },
  {
   "cell_type": "code",
   "execution_count": 52,
   "id": "2adb5f1d-4c18-4e5e-bc11-32e6f458d3b1",
   "metadata": {},
   "outputs": [
    {
     "data": {
      "text/plain": [
       "User_ID                    0\n",
       "Age                        0\n",
       "Gender                     0\n",
       "Location                   0\n",
       "Education                  0\n",
       "Occupation                 0\n",
       "Primary_App                0\n",
       "Secondary_Apps             0\n",
       "Usage_Frequency            0\n",
       "Daily_Usage_Time           0\n",
       "Reason_for_Using           0\n",
       "Satisfaction               0\n",
       "Challenges                 0\n",
       "Desired_Features           0\n",
       "Preferred_Communication    0\n",
       "Partner_Priorities         0\n",
       "dtype: int64"
      ]
     },
     "execution_count": 52,
     "metadata": {},
     "output_type": "execute_result"
    }
   ],
   "source": [
    "df.isnull().sum()"
   ]
  },
  {
   "cell_type": "code",
   "execution_count": 60,
   "id": "496b3848-4e2a-41c1-a9e9-69d73897540e",
   "metadata": {},
   "outputs": [
    {
     "data": {
      "text/html": [
       "<div>\n",
       "<style scoped>\n",
       "    .dataframe tbody tr th:only-of-type {\n",
       "        vertical-align: middle;\n",
       "    }\n",
       "\n",
       "    .dataframe tbody tr th {\n",
       "        vertical-align: top;\n",
       "    }\n",
       "\n",
       "    .dataframe thead th {\n",
       "        text-align: right;\n",
       "    }\n",
       "</style>\n",
       "<table border=\"1\" class=\"dataframe\">\n",
       "  <thead>\n",
       "    <tr style=\"text-align: right;\">\n",
       "      <th></th>\n",
       "      <th>User_ID</th>\n",
       "      <th>Age</th>\n",
       "      <th>Gender</th>\n",
       "      <th>Location</th>\n",
       "      <th>Education</th>\n",
       "      <th>Occupation</th>\n",
       "      <th>Primary_App</th>\n",
       "      <th>Secondary_Apps</th>\n",
       "      <th>Usage_Frequency</th>\n",
       "      <th>Daily_Usage_Time</th>\n",
       "      <th>Reason_for_Using</th>\n",
       "      <th>Satisfaction</th>\n",
       "      <th>Challenges</th>\n",
       "      <th>Desired_Features</th>\n",
       "      <th>Preferred_Communication</th>\n",
       "      <th>Partner_Priorities</th>\n",
       "    </tr>\n",
       "  </thead>\n",
       "  <tbody>\n",
       "    <tr>\n",
       "      <th>0</th>\n",
       "      <td>1</td>\n",
       "      <td>20</td>\n",
       "      <td>Non-binary</td>\n",
       "      <td>Bangalore</td>\n",
       "      <td>Undergraduate</td>\n",
       "      <td>Freelancer</td>\n",
       "      <td>Hinge</td>\n",
       "      <td>Hinge</td>\n",
       "      <td>Monthly</td>\n",
       "      <td>1 hour</td>\n",
       "      <td>Finding a Partner</td>\n",
       "      <td>4</td>\n",
       "      <td>Safety Concerns</td>\n",
       "      <td>Audio Calls</td>\n",
       "      <td>Video Calls</td>\n",
       "      <td>Values &gt; Personality &gt; Appearance</td>\n",
       "    </tr>\n",
       "    <tr>\n",
       "      <th>1</th>\n",
       "      <td>2</td>\n",
       "      <td>24</td>\n",
       "      <td>Female</td>\n",
       "      <td>Delhi</td>\n",
       "      <td>Undergraduate</td>\n",
       "      <td>Part-time Job</td>\n",
       "      <td>Hinge</td>\n",
       "      <td>OkCupid</td>\n",
       "      <td>Weekly</td>\n",
       "      <td>30 minutes</td>\n",
       "      <td>Casual Dating</td>\n",
       "      <td>5</td>\n",
       "      <td>Time-Wasting</td>\n",
       "      <td>Video Calls</td>\n",
       "      <td>Text</td>\n",
       "      <td>Values &gt; Personality &gt; Appearance</td>\n",
       "    </tr>\n",
       "    <tr>\n",
       "      <th>2</th>\n",
       "      <td>3</td>\n",
       "      <td>24</td>\n",
       "      <td>Non-binary</td>\n",
       "      <td>Kolkata</td>\n",
       "      <td>Undergraduate</td>\n",
       "      <td>Intern</td>\n",
       "      <td>OkCupid</td>\n",
       "      <td>OkCupid</td>\n",
       "      <td>Weekly</td>\n",
       "      <td>2 hours</td>\n",
       "      <td>Casual Dating</td>\n",
       "      <td>4</td>\n",
       "      <td>Safety Concerns</td>\n",
       "      <td>Detailed Profiles</td>\n",
       "      <td>Text</td>\n",
       "      <td>Values &gt; Personality &gt; Appearance</td>\n",
       "    </tr>\n",
       "    <tr>\n",
       "      <th>3</th>\n",
       "      <td>4</td>\n",
       "      <td>22</td>\n",
       "      <td>Non-binary</td>\n",
       "      <td>Delhi</td>\n",
       "      <td>Graduate</td>\n",
       "      <td>Full-time Job</td>\n",
       "      <td>OkCupid</td>\n",
       "      <td>OkCupid</td>\n",
       "      <td>Daily</td>\n",
       "      <td>30 minutes</td>\n",
       "      <td>Casual Fun</td>\n",
       "      <td>3</td>\n",
       "      <td>Safety Concerns</td>\n",
       "      <td>AI Recommendations</td>\n",
       "      <td>Voice Notes</td>\n",
       "      <td>Personality &gt; Interests &gt; Values</td>\n",
       "    </tr>\n",
       "    <tr>\n",
       "      <th>4</th>\n",
       "      <td>5</td>\n",
       "      <td>18</td>\n",
       "      <td>Male</td>\n",
       "      <td>Delhi</td>\n",
       "      <td>Graduate</td>\n",
       "      <td>Intern</td>\n",
       "      <td>OkCupid</td>\n",
       "      <td>OkCupid</td>\n",
       "      <td>Weekly</td>\n",
       "      <td>2 hours</td>\n",
       "      <td>Casual Fun</td>\n",
       "      <td>4</td>\n",
       "      <td>Safety Concerns</td>\n",
       "      <td>Video Calls</td>\n",
       "      <td>Text</td>\n",
       "      <td>Appearance &gt; Interests &gt; Personality</td>\n",
       "    </tr>\n",
       "    <tr>\n",
       "      <th>...</th>\n",
       "      <td>...</td>\n",
       "      <td>...</td>\n",
       "      <td>...</td>\n",
       "      <td>...</td>\n",
       "      <td>...</td>\n",
       "      <td>...</td>\n",
       "      <td>...</td>\n",
       "      <td>...</td>\n",
       "      <td>...</td>\n",
       "      <td>...</td>\n",
       "      <td>...</td>\n",
       "      <td>...</td>\n",
       "      <td>...</td>\n",
       "      <td>...</td>\n",
       "      <td>...</td>\n",
       "      <td>...</td>\n",
       "    </tr>\n",
       "    <tr>\n",
       "      <th>495</th>\n",
       "      <td>496</td>\n",
       "      <td>23</td>\n",
       "      <td>Female</td>\n",
       "      <td>Mumbai</td>\n",
       "      <td>Undergraduate</td>\n",
       "      <td>Intern</td>\n",
       "      <td>Tinder</td>\n",
       "      <td>Hinge</td>\n",
       "      <td>Weekly</td>\n",
       "      <td>1.5 hours</td>\n",
       "      <td>Casual Dating</td>\n",
       "      <td>2</td>\n",
       "      <td>Time-Wasting</td>\n",
       "      <td>Audio Calls</td>\n",
       "      <td>Voice Notes</td>\n",
       "      <td>Personality &gt; Interests &gt; Values</td>\n",
       "    </tr>\n",
       "    <tr>\n",
       "      <th>496</th>\n",
       "      <td>497</td>\n",
       "      <td>23</td>\n",
       "      <td>Male</td>\n",
       "      <td>Mumbai</td>\n",
       "      <td>Postgraduate</td>\n",
       "      <td>Intern</td>\n",
       "      <td>OkCupid</td>\n",
       "      <td>Tinder</td>\n",
       "      <td>Daily</td>\n",
       "      <td>2 hours</td>\n",
       "      <td>Casual Fun</td>\n",
       "      <td>1</td>\n",
       "      <td>Time-Wasting</td>\n",
       "      <td>Video Calls</td>\n",
       "      <td>Video Calls</td>\n",
       "      <td>Values &gt; Personality &gt; Appearance</td>\n",
       "    </tr>\n",
       "    <tr>\n",
       "      <th>497</th>\n",
       "      <td>498</td>\n",
       "      <td>22</td>\n",
       "      <td>Male</td>\n",
       "      <td>Hyderabad</td>\n",
       "      <td>Graduate</td>\n",
       "      <td>Freelancer</td>\n",
       "      <td>OkCupid</td>\n",
       "      <td>Hinge</td>\n",
       "      <td>Monthly</td>\n",
       "      <td>2 hours</td>\n",
       "      <td>Casual Fun</td>\n",
       "      <td>2</td>\n",
       "      <td>Lack of Genuine Matches</td>\n",
       "      <td>Video Calls</td>\n",
       "      <td>Voice Notes</td>\n",
       "      <td>Appearance &gt; Interests &gt; Personality</td>\n",
       "    </tr>\n",
       "    <tr>\n",
       "      <th>498</th>\n",
       "      <td>499</td>\n",
       "      <td>21</td>\n",
       "      <td>Female</td>\n",
       "      <td>Kolkata</td>\n",
       "      <td>Graduate</td>\n",
       "      <td>Student</td>\n",
       "      <td>Tinder</td>\n",
       "      <td>Hinge</td>\n",
       "      <td>Daily</td>\n",
       "      <td>1.5 hours</td>\n",
       "      <td>Casual Dating</td>\n",
       "      <td>3</td>\n",
       "      <td>Lack of Genuine Matches</td>\n",
       "      <td>Detailed Profiles</td>\n",
       "      <td>Text</td>\n",
       "      <td>Appearance &gt; Interests &gt; Personality</td>\n",
       "    </tr>\n",
       "    <tr>\n",
       "      <th>499</th>\n",
       "      <td>500</td>\n",
       "      <td>22</td>\n",
       "      <td>Male</td>\n",
       "      <td>Mumbai</td>\n",
       "      <td>Graduate</td>\n",
       "      <td>Part-time Job</td>\n",
       "      <td>OkCupid</td>\n",
       "      <td>Hinge</td>\n",
       "      <td>Weekly</td>\n",
       "      <td>1.5 hours</td>\n",
       "      <td>Casual Fun</td>\n",
       "      <td>2</td>\n",
       "      <td>Time-Wasting</td>\n",
       "      <td>AI Recommendations</td>\n",
       "      <td>Video Calls</td>\n",
       "      <td>Appearance &gt; Interests &gt; Personality</td>\n",
       "    </tr>\n",
       "  </tbody>\n",
       "</table>\n",
       "<p>500 rows × 16 columns</p>\n",
       "</div>"
      ],
      "text/plain": [
       "     User_ID  Age      Gender   Location      Education     Occupation  \\\n",
       "0          1   20  Non-binary  Bangalore  Undergraduate     Freelancer   \n",
       "1          2   24      Female      Delhi  Undergraduate  Part-time Job   \n",
       "2          3   24  Non-binary    Kolkata  Undergraduate         Intern   \n",
       "3          4   22  Non-binary      Delhi       Graduate  Full-time Job   \n",
       "4          5   18        Male      Delhi       Graduate         Intern   \n",
       "..       ...  ...         ...        ...            ...            ...   \n",
       "495      496   23      Female     Mumbai  Undergraduate         Intern   \n",
       "496      497   23        Male     Mumbai   Postgraduate         Intern   \n",
       "497      498   22        Male  Hyderabad       Graduate     Freelancer   \n",
       "498      499   21      Female    Kolkata       Graduate        Student   \n",
       "499      500   22        Male     Mumbai       Graduate  Part-time Job   \n",
       "\n",
       "    Primary_App Secondary_Apps Usage_Frequency Daily_Usage_Time  \\\n",
       "0         Hinge          Hinge         Monthly           1 hour   \n",
       "1         Hinge        OkCupid          Weekly       30 minutes   \n",
       "2       OkCupid        OkCupid          Weekly          2 hours   \n",
       "3       OkCupid        OkCupid           Daily       30 minutes   \n",
       "4       OkCupid        OkCupid          Weekly          2 hours   \n",
       "..          ...            ...             ...              ...   \n",
       "495      Tinder          Hinge          Weekly        1.5 hours   \n",
       "496     OkCupid         Tinder           Daily          2 hours   \n",
       "497     OkCupid          Hinge         Monthly          2 hours   \n",
       "498      Tinder          Hinge           Daily        1.5 hours   \n",
       "499     OkCupid          Hinge          Weekly        1.5 hours   \n",
       "\n",
       "      Reason_for_Using Satisfaction               Challenges  \\\n",
       "0    Finding a Partner            4          Safety Concerns   \n",
       "1        Casual Dating            5             Time-Wasting   \n",
       "2        Casual Dating            4          Safety Concerns   \n",
       "3           Casual Fun            3          Safety Concerns   \n",
       "4           Casual Fun            4          Safety Concerns   \n",
       "..                 ...          ...                      ...   \n",
       "495      Casual Dating            2             Time-Wasting   \n",
       "496         Casual Fun            1             Time-Wasting   \n",
       "497         Casual Fun            2  Lack of Genuine Matches   \n",
       "498      Casual Dating            3  Lack of Genuine Matches   \n",
       "499         Casual Fun            2             Time-Wasting   \n",
       "\n",
       "       Desired_Features Preferred_Communication  \\\n",
       "0           Audio Calls             Video Calls   \n",
       "1           Video Calls                    Text   \n",
       "2     Detailed Profiles                    Text   \n",
       "3    AI Recommendations             Voice Notes   \n",
       "4           Video Calls                    Text   \n",
       "..                  ...                     ...   \n",
       "495         Audio Calls             Voice Notes   \n",
       "496         Video Calls             Video Calls   \n",
       "497         Video Calls             Voice Notes   \n",
       "498   Detailed Profiles                    Text   \n",
       "499  AI Recommendations             Video Calls   \n",
       "\n",
       "                       Partner_Priorities  \n",
       "0       Values > Personality > Appearance  \n",
       "1       Values > Personality > Appearance  \n",
       "2       Values > Personality > Appearance  \n",
       "3        Personality > Interests > Values  \n",
       "4    Appearance > Interests > Personality  \n",
       "..                                    ...  \n",
       "495      Personality > Interests > Values  \n",
       "496     Values > Personality > Appearance  \n",
       "497  Appearance > Interests > Personality  \n",
       "498  Appearance > Interests > Personality  \n",
       "499  Appearance > Interests > Personality  \n",
       "\n",
       "[500 rows x 16 columns]"
      ]
     },
     "execution_count": 60,
     "metadata": {},
     "output_type": "execute_result"
    }
   ],
   "source": [
    "df"
   ]
  },
  {
   "cell_type": "code",
   "execution_count": 56,
   "id": "0dd5f80a-bf51-4ec8-8d22-2902bb4337da",
   "metadata": {},
   "outputs": [
    {
     "data": {
      "text/plain": [
       "<Axes: xlabel='Gender', ylabel='count'>"
      ]
     },
     "execution_count": 56,
     "metadata": {},
     "output_type": "execute_result"
    },
    {
     "data": {
      "image/png": "[encoded data removed]",
      "text/plain": [
       "<Figure size 640x480 with 1 Axes>"
      ]
     },
     "metadata": {},
     "output_type": "display_data"
    }
   ],
   "source": [
    "sns.countplot(data = df, x=df[\"Gender\"])"
   ]
  },
  {
   "cell_type": "code",
   "execution_count": 55,
   "id": "0ee5f78b-ceef-4e62-8da7-fd08f4f51918",
   "metadata": {},
   "outputs": [
    {
     "data": {
      "text/plain": [
       "Location\n",
       "Mumbai       82\n",
       "Delhi        76\n",
       "Kolkata      76\n",
       "Bangalore    69\n",
       "Pune         67\n",
       "Chennai      66\n",
       "Hyderabad    64\n",
       "Name: count, dtype: int64"
      ]
     },
     "execution_count": 55,
     "metadata": {},
     "output_type": "execute_result"
    }
   ],
   "source": [
    "df[\"Location\"].value_counts()"
   ]
  },
  {
   "cell_type": "code",
   "execution_count": 57,
   "id": "9109283e-2f50-4982-a1a1-ef4248c77786",
   "metadata": {},
   "outputs": [
    {
     "data": {
      "text/plain": [
       "<Axes: xlabel='Location', ylabel='count'>"
      ]
     },
     "execution_count": 57,
     "metadata": {},
     "output_type": "execute_result"
    },
    {
     "data": {
      "image/png": "[encoded data removed]",
      "text/plain": [
       "<Figure size 640x480 with 1 Axes>"
      ]
     },
     "metadata": {},
     "output_type": "display_data"
    }
   ],
   "source": [
    "sns.countplot(data = df, x=df[\"Location\"])"
   ]
  },
  {
   "cell_type": "code",
   "execution_count": 58,
   "id": "0166665c-66c8-4ff4-90ad-4428d6368e53",
   "metadata": {},
   "outputs": [
    {
     "data": {
      "text/plain": [
       "Education\n",
       "Graduate         169\n",
       "Undergraduate    166\n",
       "Postgraduate     165\n",
       "Name: count, dtype: int64"
      ]
     },
     "execution_count": 58,
     "metadata": {},
     "output_type": "execute_result"
    }
   ],
   "source": [
    "df[\"Education\"].value_counts()"
   ]
  },
  {
   "cell_type": "code",
   "execution_count": 59,
   "id": "362aa762-bb60-4e41-b51d-e80b1d10c90e",
   "metadata": {},
   "outputs": [
    {
     "data": {
      "text/plain": [
       "<Axes: xlabel='Education', ylabel='count'>"
      ]
     },
     "execution_count": 59,
     "metadata": {},
     "output_type": "execute_result"
    },
    {
     "data": {
      "image/png": "[encoded data removed]",
      "text/plain": [
       "<Figure size 640x480 with 1 Axes>"
      ]
     },
     "metadata": {},
     "output_type": "display_data"
    }
   ],
   "source": [
    "sns.countplot(data=df, x=df[\"Education\"])"
   ]
  },
  {
   "cell_type": "code",
   "execution_count": 61,
   "id": "2c4aea78-a7d0-40b0-bb88-b569ca273d28",
   "metadata": {},
   "outputs": [
    {
     "data": {
      "text/plain": [
       "Occupation\n",
       "Student          106\n",
       "Intern           105\n",
       "Freelancer       103\n",
       "Full-time Job    100\n",
       "Part-time Job     86\n",
       "Name: count, dtype: int64"
      ]
     },
     "execution_count": 61,
     "metadata": {},
     "output_type": "execute_result"
    }
   ],
   "source": [
    "df[\"Occupation\"].value_counts()"
   ]
  },
  {
   "cell_type": "code",
   "execution_count": 62,
   "id": "e1101f99-8b5f-417c-85e2-ee13f8f29c5d",
   "metadata": {},
   "outputs": [
    {
     "data": {
      "text/plain": [
       "<Axes: xlabel='Occupation', ylabel='count'>"
      ]
     },
     "execution_count": 62,
     "metadata": {},
     "output_type": "execute_result"
    },
    {
     "data": {
      "image/png": "[encoded data removed]",
      "text/plain": [
       "<Figure size 640x480 with 1 Axes>"
      ]
     },
     "metadata": {},
     "output_type": "display_data"
    }
   ],
   "source": [
    "sns.countplot(data = df, x = df[\"Occupation\"])"
   ]
  },
  {
   "cell_type": "code",
   "execution_count": 64,
   "id": "b76336af-ffad-438a-8b74-7c4ee24aaa43",
   "metadata": {},
   "outputs": [
    {
     "data": {
      "text/plain": [
       "Primary_App\n",
       "OkCupid    225\n",
       "Hinge      106\n",
       "Bumble      93\n",
       "Tinder      76\n",
       "Name: count, dtype: int64"
      ]
     },
     "execution_count": 64,
     "metadata": {},
     "output_type": "execute_result"
    }
   ],
   "source": [
    "df[\"Primary_App\"].value_counts()"
   ]
  },
  {
   "cell_type": "code",
   "execution_count": 65,
   "id": "8347e598-acaa-4cea-9d06-ea18c4096510",
   "metadata": {},
   "outputs": [
    {
     "data": {
      "text/plain": [
       "<Axes: xlabel='Primary_App', ylabel='count'>"
      ]
     },
     "execution_count": 65,
     "metadata": {},
     "output_type": "execute_result"
    },
    {
     "data": {
      "image/png": "[encoded data removed]",
      "text/plain": [
       "<Figure size 640x480 with 1 Axes>"
      ]
     },
     "metadata": {},
     "output_type": "display_data"
    }
   ],
   "source": [
    "sns.countplot(data = df, x = df[\"Primary_App\"])"
   ]
  },
  {
   "cell_type": "code",
   "execution_count": 66,
   "id": "1a3532bd-d72c-4c27-9ab0-01af615e9ab2",
   "metadata": {},
   "outputs": [
    {
     "data": {
      "text/plain": [
       "Secondary_Apps\n",
       "Hinge      140\n",
       "Bumble     128\n",
       "OkCupid    120\n",
       "Tinder     112\n",
       "Name: count, dtype: int64"
      ]
     },
     "execution_count": 66,
     "metadata": {},
     "output_type": "execute_result"
    }
   ],
   "source": [
    "df[\"Secondary_Apps\"].value_counts()"
   ]
  },
  {
   "cell_type": "code",
   "execution_count": 67,
   "id": "f2783f95-c0cb-43ef-88de-7a1cdb670c19",
   "metadata": {},
   "outputs": [
    {
     "data": {
      "text/plain": [
       "<Axes: xlabel='Secondary_Apps', ylabel='count'>"
      ]
     },
     "execution_count": 67,
     "metadata": {},
     "output_type": "execute_result"
    },
    {
     "data": {
      "image/png": "[encoded data removed]",
      "text/plain": [
       "<Figure size 640x480 with 1 Axes>"
      ]
     },
     "metadata": {},
     "output_type": "display_data"
    }
   ],
   "source": [
    "sns.countplot(data = df, x = df[\"Secondary_Apps\"])"
   ]
  },
  {
   "cell_type": "code",
   "execution_count": 68,
   "id": "556a3b18-2728-456d-af5a-4a0a3452fe3a",
   "metadata": {},
   "outputs": [
    {
     "data": {
      "text/plain": [
       "Usage_Frequency\n",
       "Daily      181\n",
       "Weekly     161\n",
       "Monthly    158\n",
       "Name: count, dtype: int64"
      ]
     },
     "execution_count": 68,
     "metadata": {},
     "output_type": "execute_result"
    }
   ],
   "source": [
    "df[\"Usage_Frequency\"].value_counts()"
   ]
  },
  {
   "cell_type": "code",
   "execution_count": 69,
   "id": "8e0198ca-e277-43a9-8d76-c562adaae488",
   "metadata": {},
   "outputs": [
    {
     "data": {
      "text/plain": [
       "<Axes: xlabel='Usage_Frequency', ylabel='count'>"
      ]
     },
     "execution_count": 69,
     "metadata": {},
     "output_type": "execute_result"
    },
    {
     "data": {
      "image/png": "[encoded data removed]",
      "text/plain": [
       "<Figure size 640x480 with 1 Axes>"
      ]
     },
     "metadata": {},
     "output_type": "display_data"
    }
   ],
   "source": [
    "sns.countplot(data = df, x = df[\"Usage_Frequency\"])"
   ]
  },
  {
   "cell_type": "code",
   "execution_count": 70,
   "id": "e7ea7f53-0b55-4904-8d63-30277fccd02e",
   "metadata": {},
   "outputs": [],
   "source": [
    "import re"
   ]
  },
  {
   "cell_type": "code",
   "execution_count": 82,
   "id": "276bfc58-fa62-4ade-8be7-ce859f825fad",
   "metadata": {},
   "outputs": [],
   "source": [
    "def convert_to_minutes(daily_usage_time):\n",
    "    hours = 0\n",
    "    minutes = 0\n",
    "\n",
    "    hours_match = re.search(r\"(\\d+|\\d+\\.\\d+)\\s*hour\" , daily_usage_time)\n",
    "    if hours_match:\n",
    "        hours = float(hours_match.group(1))\n",
    "\n",
    "    minutes_match = re.search(r\"(\\d+)\\s*minute\" , daily_usage_time)\n",
    "    if minutes_match:\n",
    "        minutes = int(minutes_match.group(1))\n",
    "\n",
    "    return int((hours*60) + minutes)"
   ]
  },
  {
   "cell_type": "code",
   "execution_count": 83,
   "id": "c73e1df1-9662-4b28-a8a2-282a94f4a22a",
   "metadata": {},
   "outputs": [],
   "source": [
    "df[\"Daily_Usage_Time_in_Minutes\"] = df[\"Daily_Usage_Time\"].apply(convert_to_minutes)"
   ]
  },
  {
   "cell_type": "code",
   "execution_count": 84,
   "id": "bfa2831e-12c6-4ea2-8b0a-21a874ee83bb",
   "metadata": {},
   "outputs": [
    {
     "data": {
      "text/html": [
       "<div>\n",
       "<style scoped>\n",
       "    .dataframe tbody tr th:only-of-type {\n",
       "        vertical-align: middle;\n",
       "    }\n",
       "\n",
       "    .dataframe tbody tr th {\n",
       "        vertical-align: top;\n",
       "    }\n",
       "\n",
       "    .dataframe thead th {\n",
       "        text-align: right;\n",
       "    }\n",
       "</style>\n",
       "<table border=\"1\" class=\"dataframe\">\n",
       "  <thead>\n",
       "    <tr style=\"text-align: right;\">\n",
       "      <th></th>\n",
       "      <th>User_ID</th>\n",
       "      <th>Age</th>\n",
       "      <th>Gender</th>\n",
       "      <th>Location</th>\n",
       "      <th>Education</th>\n",
       "      <th>Occupation</th>\n",
       "      <th>Primary_App</th>\n",
       "      <th>Secondary_Apps</th>\n",
       "      <th>Usage_Frequency</th>\n",
       "      <th>Daily_Usage_Time</th>\n",
       "      <th>Reason_for_Using</th>\n",
       "      <th>Satisfaction</th>\n",
       "      <th>Challenges</th>\n",
       "      <th>Desired_Features</th>\n",
       "      <th>Preferred_Communication</th>\n",
       "      <th>Partner_Priorities</th>\n",
       "      <th>Daily_Usage_Time_in_Minutes</th>\n",
       "    </tr>\n",
       "  </thead>\n",
       "  <tbody>\n",
       "    <tr>\n",
       "      <th>0</th>\n",
       "      <td>1</td>\n",
       "      <td>20</td>\n",
       "      <td>Non-binary</td>\n",
       "      <td>Bangalore</td>\n",
       "      <td>Undergraduate</td>\n",
       "      <td>Freelancer</td>\n",
       "      <td>Hinge</td>\n",
       "      <td>Hinge</td>\n",
       "      <td>Monthly</td>\n",
       "      <td>1 hour</td>\n",
       "      <td>Finding a Partner</td>\n",
       "      <td>4</td>\n",
       "      <td>Safety Concerns</td>\n",
       "      <td>Audio Calls</td>\n",
       "      <td>Video Calls</td>\n",
       "      <td>Values &gt; Personality &gt; Appearance</td>\n",
       "      <td>60</td>\n",
       "    </tr>\n",
       "    <tr>\n",
       "      <th>1</th>\n",
       "      <td>2</td>\n",
       "      <td>24</td>\n",
       "      <td>Female</td>\n",
       "      <td>Delhi</td>\n",
       "      <td>Undergraduate</td>\n",
       "      <td>Part-time Job</td>\n",
       "      <td>Hinge</td>\n",
       "      <td>OkCupid</td>\n",
       "      <td>Weekly</td>\n",
       "      <td>30 minutes</td>\n",
       "      <td>Casual Dating</td>\n",
       "      <td>5</td>\n",
       "      <td>Time-Wasting</td>\n",
       "      <td>Video Calls</td>\n",
       "      <td>Text</td>\n",
       "      <td>Values &gt; Personality &gt; Appearance</td>\n",
       "      <td>30</td>\n",
       "    </tr>\n",
       "    <tr>\n",
       "      <th>2</th>\n",
       "      <td>3</td>\n",
       "      <td>24</td>\n",
       "      <td>Non-binary</td>\n",
       "      <td>Kolkata</td>\n",
       "      <td>Undergraduate</td>\n",
       "      <td>Intern</td>\n",
       "      <td>OkCupid</td>\n",
       "      <td>OkCupid</td>\n",
       "      <td>Weekly</td>\n",
       "      <td>2 hours</td>\n",
       "      <td>Casual Dating</td>\n",
       "      <td>4</td>\n",
       "      <td>Safety Concerns</td>\n",
       "      <td>Detailed Profiles</td>\n",
       "      <td>Text</td>\n",
       "      <td>Values &gt; Personality &gt; Appearance</td>\n",
       "      <td>120</td>\n",
       "    </tr>\n",
       "    <tr>\n",
       "      <th>3</th>\n",
       "      <td>4</td>\n",
       "      <td>22</td>\n",
       "      <td>Non-binary</td>\n",
       "      <td>Delhi</td>\n",
       "      <td>Graduate</td>\n",
       "      <td>Full-time Job</td>\n",
       "      <td>OkCupid</td>\n",
       "      <td>OkCupid</td>\n",
       "      <td>Daily</td>\n",
       "      <td>30 minutes</td>\n",
       "      <td>Casual Fun</td>\n",
       "      <td>3</td>\n",
       "      <td>Safety Concerns</td>\n",
       "      <td>AI Recommendations</td>\n",
       "      <td>Voice Notes</td>\n",
       "      <td>Personality &gt; Interests &gt; Values</td>\n",
       "      <td>30</td>\n",
       "    </tr>\n",
       "    <tr>\n",
       "      <th>4</th>\n",
       "      <td>5</td>\n",
       "      <td>18</td>\n",
       "      <td>Male</td>\n",
       "      <td>Delhi</td>\n",
       "      <td>Graduate</td>\n",
       "      <td>Intern</td>\n",
       "      <td>OkCupid</td>\n",
       "      <td>OkCupid</td>\n",
       "      <td>Weekly</td>\n",
       "      <td>2 hours</td>\n",
       "      <td>Casual Fun</td>\n",
       "      <td>4</td>\n",
       "      <td>Safety Concerns</td>\n",
       "      <td>Video Calls</td>\n",
       "      <td>Text</td>\n",
       "      <td>Appearance &gt; Interests &gt; Personality</td>\n",
       "      <td>120</td>\n",
       "    </tr>\n",
       "    <tr>\n",
       "      <th>...</th>\n",
       "      <td>...</td>\n",
       "      <td>...</td>\n",
       "      <td>...</td>\n",
       "      <td>...</td>\n",
       "      <td>...</td>\n",
       "      <td>...</td>\n",
       "      <td>...</td>\n",
       "      <td>...</td>\n",
       "      <td>...</td>\n",
       "      <td>...</td>\n",
       "      <td>...</td>\n",
       "      <td>...</td>\n",
       "      <td>...</td>\n",
       "      <td>...</td>\n",
       "      <td>...</td>\n",
       "      <td>...</td>\n",
       "      <td>...</td>\n",
       "    </tr>\n",
       "    <tr>\n",
       "      <th>495</th>\n",
       "      <td>496</td>\n",
       "      <td>23</td>\n",
       "      <td>Female</td>\n",
       "      <td>Mumbai</td>\n",
       "      <td>Undergraduate</td>\n",
       "      <td>Intern</td>\n",
       "      <td>Tinder</td>\n",
       "      <td>Hinge</td>\n",
       "      <td>Weekly</td>\n",
       "      <td>1.5 hours</td>\n",
       "      <td>Casual Dating</td>\n",
       "      <td>2</td>\n",
       "      <td>Time-Wasting</td>\n",
       "      <td>Audio Calls</td>\n",
       "      <td>Voice Notes</td>\n",
       "      <td>Personality &gt; Interests &gt; Values</td>\n",
       "      <td>90</td>\n",
       "    </tr>\n",
       "    <tr>\n",
       "      <th>496</th>\n",
       "      <td>497</td>\n",
       "      <td>23</td>\n",
       "      <td>Male</td>\n",
       "      <td>Mumbai</td>\n",
       "      <td>Postgraduate</td>\n",
       "      <td>Intern</td>\n",
       "      <td>OkCupid</td>\n",
       "      <td>Tinder</td>\n",
       "      <td>Daily</td>\n",
       "      <td>2 hours</td>\n",
       "      <td>Casual Fun</td>\n",
       "      <td>1</td>\n",
       "      <td>Time-Wasting</td>\n",
       "      <td>Video Calls</td>\n",
       "      <td>Video Calls</td>\n",
       "      <td>Values &gt; Personality &gt; Appearance</td>\n",
       "      <td>120</td>\n",
       "    </tr>\n",
       "    <tr>\n",
       "      <th>497</th>\n",
       "      <td>498</td>\n",
       "      <td>22</td>\n",
       "      <td>Male</td>\n",
       "      <td>Hyderabad</td>\n",
       "      <td>Graduate</td>\n",
       "      <td>Freelancer</td>\n",
       "      <td>OkCupid</td>\n",
       "      <td>Hinge</td>\n",
       "      <td>Monthly</td>\n",
       "      <td>2 hours</td>\n",
       "      <td>Casual Fun</td>\n",
       "      <td>2</td>\n",
       "      <td>Lack of Genuine Matches</td>\n",
       "      <td>Video Calls</td>\n",
       "      <td>Voice Notes</td>\n",
       "      <td>Appearance &gt; Interests &gt; Personality</td>\n",
       "      <td>120</td>\n",
       "    </tr>\n",
       "    <tr>\n",
       "      <th>498</th>\n",
       "      <td>499</td>\n",
       "      <td>21</td>\n",
       "      <td>Female</td>\n",
       "      <td>Kolkata</td>\n",
       "      <td>Graduate</td>\n",
       "      <td>Student</td>\n",
       "      <td>Tinder</td>\n",
       "      <td>Hinge</td>\n",
       "      <td>Daily</td>\n",
       "      <td>1.5 hours</td>\n",
       "      <td>Casual Dating</td>\n",
       "      <td>3</td>\n",
       "      <td>Lack of Genuine Matches</td>\n",
       "      <td>Detailed Profiles</td>\n",
       "      <td>Text</td>\n",
       "      <td>Appearance &gt; Interests &gt; Personality</td>\n",
       "      <td>90</td>\n",
       "    </tr>\n",
       "    <tr>\n",
       "      <th>499</th>\n",
       "      <td>500</td>\n",
       "      <td>22</td>\n",
       "      <td>Male</td>\n",
       "      <td>Mumbai</td>\n",
       "      <td>Graduate</td>\n",
       "      <td>Part-time Job</td>\n",
       "      <td>OkCupid</td>\n",
       "      <td>Hinge</td>\n",
       "      <td>Weekly</td>\n",
       "      <td>1.5 hours</td>\n",
       "      <td>Casual Fun</td>\n",
       "      <td>2</td>\n",
       "      <td>Time-Wasting</td>\n",
       "      <td>AI Recommendations</td>\n",
       "      <td>Video Calls</td>\n",
       "      <td>Appearance &gt; Interests &gt; Personality</td>\n",
       "      <td>90</td>\n",
       "    </tr>\n",
       "  </tbody>\n",
       "</table>\n",
       "<p>500 rows × 17 columns</p>\n",
       "</div>"
      ],
      "text/plain": [
       "     User_ID  Age      Gender   Location      Education     Occupation  \\\n",
       "0          1   20  Non-binary  Bangalore  Undergraduate     Freelancer   \n",
       "1          2   24      Female      Delhi  Undergraduate  Part-time Job   \n",
       "2          3   24  Non-binary    Kolkata  Undergraduate         Intern   \n",
       "3          4   22  Non-binary      Delhi       Graduate  Full-time Job   \n",
       "4          5   18        Male      Delhi       Graduate         Intern   \n",
       "..       ...  ...         ...        ...            ...            ...   \n",
       "495      496   23      Female     Mumbai  Undergraduate         Intern   \n",
       "496      497   23        Male     Mumbai   Postgraduate         Intern   \n",
       "497      498   22        Male  Hyderabad       Graduate     Freelancer   \n",
       "498      499   21      Female    Kolkata       Graduate        Student   \n",
       "499      500   22        Male     Mumbai       Graduate  Part-time Job   \n",
       "\n",
       "    Primary_App Secondary_Apps Usage_Frequency Daily_Usage_Time  \\\n",
       "0         Hinge          Hinge         Monthly           1 hour   \n",
       "1         Hinge        OkCupid          Weekly       30 minutes   \n",
       "2       OkCupid        OkCupid          Weekly          2 hours   \n",
       "3       OkCupid        OkCupid           Daily       30 minutes   \n",
       "4       OkCupid        OkCupid          Weekly          2 hours   \n",
       "..          ...            ...             ...              ...   \n",
       "495      Tinder          Hinge          Weekly        1.5 hours   \n",
       "496     OkCupid         Tinder           Daily          2 hours   \n",
       "497     OkCupid          Hinge         Monthly          2 hours   \n",
       "498      Tinder          Hinge           Daily        1.5 hours   \n",
       "499     OkCupid          Hinge          Weekly        1.5 hours   \n",
       "\n",
       "      Reason_for_Using Satisfaction               Challenges  \\\n",
       "0    Finding a Partner            4          Safety Concerns   \n",
       "1        Casual Dating            5             Time-Wasting   \n",
       "2        Casual Dating            4          Safety Concerns   \n",
       "3           Casual Fun            3          Safety Concerns   \n",
       "4           Casual Fun            4          Safety Concerns   \n",
       "..                 ...          ...                      ...   \n",
       "495      Casual Dating            2             Time-Wasting   \n",
       "496         Casual Fun            1             Time-Wasting   \n",
       "497         Casual Fun            2  Lack of Genuine Matches   \n",
       "498      Casual Dating            3  Lack of Genuine Matches   \n",
       "499         Casual Fun            2             Time-Wasting   \n",
       "\n",
       "       Desired_Features Preferred_Communication  \\\n",
       "0           Audio Calls             Video Calls   \n",
       "1           Video Calls                    Text   \n",
       "2     Detailed Profiles                    Text   \n",
       "3    AI Recommendations             Voice Notes   \n",
       "4           Video Calls                    Text   \n",
       "..                  ...                     ...   \n",
       "495         Audio Calls             Voice Notes   \n",
       "496         Video Calls             Video Calls   \n",
       "497         Video Calls             Voice Notes   \n",
       "498   Detailed Profiles                    Text   \n",
       "499  AI Recommendations             Video Calls   \n",
       "\n",
       "                       Partner_Priorities Daily_Usage_Time_in_Minutes  \n",
       "0       Values > Personality > Appearance                          60  \n",
       "1       Values > Personality > Appearance                          30  \n",
       "2       Values > Personality > Appearance                         120  \n",
       "3        Personality > Interests > Values                          30  \n",
       "4    Appearance > Interests > Personality                         120  \n",
       "..                                    ...                         ...  \n",
       "495      Personality > Interests > Values                          90  \n",
       "496     Values > Personality > Appearance                         120  \n",
       "497  Appearance > Interests > Personality                         120  \n",
       "498  Appearance > Interests > Personality                          90  \n",
       "499  Appearance > Interests > Personality                          90  \n",
       "\n",
       "[500 rows x 17 columns]"
      ]
     },
     "execution_count": 84,
     "metadata": {},
     "output_type": "execute_result"
    }
   ],
   "source": [
    "df"
   ]
  },
  {
   "cell_type": "code",
   "execution_count": 88,
   "id": "9b39184c-0cc6-4865-9f65-d480c8913c61",
   "metadata": {},
   "outputs": [
    {
     "data": {
      "text/plain": [
       "CategoricalDtype(categories=[60, 90, 120, 180, 30], ordered=False, categories_dtype=int64)"
      ]
     },
     "execution_count": 88,
     "metadata": {},
     "output_type": "execute_result"
    }
   ],
   "source": [
    "df[\"Daily_Usage_Time_in_Minutes\"].dtype"
   ]
  },
  {
   "cell_type": "code",
   "execution_count": 89,
   "id": "cf049713-cabb-4299-b071-7112f7ea160d",
   "metadata": {},
   "outputs": [],
   "source": [
    "df[\"Daily_Usage_Time_in_Minutes\"] = df[\"Daily_Usage_Time_in_Minutes\"].astype(\"int\")"
   ]
  },
  {
   "cell_type": "code",
   "execution_count": 92,
   "id": "6bc8dc2e-e647-487a-b500-6f6e74f113d6",
   "metadata": {},
   "outputs": [
    {
     "data": {
      "text/plain": [
       "np.float64(98.22)"
      ]
     },
     "execution_count": 92,
     "metadata": {},
     "output_type": "execute_result"
    }
   ],
   "source": [
    "df[\"Daily_Usage_Time_in_Minutes\"].mean()"
   ]
  },
  {
   "cell_type": "code",
   "execution_count": 93,
   "id": "5efb1323-dd78-49d6-a85f-fac9e995d423",
   "metadata": {},
   "outputs": [
    {
     "data": {
      "text/plain": [
       "<Axes: xlabel='Daily_Usage_Time_in_Minutes'>"
      ]
     },
     "execution_count": 93,
     "metadata": {},
     "output_type": "execute_result"
    },
    {
     "data": {
      "image/png": "[encoded data removed]",
      "text/plain": [
       "<Figure size 640x480 with 1 Axes>"
      ]
     },
     "metadata": {},
     "output_type": "display_data"
    }
   ],
   "source": [
    "sns.boxplot(data = df, x = df[\"Daily_Usage_Time_in_Minutes\"])"
   ]
  },
  {
   "cell_type": "code",
   "execution_count": 94,
   "id": "c2eaca89-6d6b-4b2b-b49e-b7763fa85581",
   "metadata": {},
   "outputs": [
    {
     "data": {
      "text/plain": [
       "Reason_for_Using\n",
       "Casual Dating         138\n",
       "Finding a Partner     130\n",
       "Casual Fun            120\n",
       "Social Interaction    112\n",
       "Name: count, dtype: int64"
      ]
     },
     "execution_count": 94,
     "metadata": {},
     "output_type": "execute_result"
    }
   ],
   "source": [
    "df[\"Reason_for_Using\"].value_counts()"
   ]
  },
  {
   "cell_type": "code",
   "execution_count": 95,
   "id": "af320a0b-848d-49d5-98ac-cb12eff129ee",
   "metadata": {},
   "outputs": [
    {
     "data": {
      "text/plain": [
       "<Axes: xlabel='Reason_for_Using', ylabel='count'>"
      ]
     },
     "execution_count": 95,
     "metadata": {},
     "output_type": "execute_result"
    },
    {
     "data": {
      "image/png": "[encoded data removed]",
      "text/plain": [
       "<Figure size 640x480 with 1 Axes>"
      ]
     },
     "metadata": {},
     "output_type": "display_data"
    }
   ],
   "source": [
    "sns.countplot(data = df, x = df[\"Reason_for_Using\"])"
   ]
  },
  {
   "cell_type": "code",
   "execution_count": 96,
   "id": "812baf74-635a-4cf1-b71f-0d59f0209eb1",
   "metadata": {},
   "outputs": [
    {
     "data": {
      "text/plain": [
       "Satisfaction\n",
       "1    116\n",
       "3    101\n",
       "2     98\n",
       "5     98\n",
       "4     87\n",
       "Name: count, dtype: int64"
      ]
     },
     "execution_count": 96,
     "metadata": {},
     "output_type": "execute_result"
    }
   ],
   "source": [
    "df['Satisfaction'].value_counts()"
   ]
  },
  {
   "cell_type": "code",
   "execution_count": 97,
   "id": "2e626886-e7cb-4255-add0-7253a4b4657f",
   "metadata": {},
   "outputs": [
    {
     "data": {
      "text/plain": [
       "<Axes: xlabel='Satisfaction', ylabel='count'>"
      ]
     },
     "execution_count": 97,
     "metadata": {},
     "output_type": "execute_result"
    },
    {
     "data": {
      "image/png": "[encoded data removed]",
      "text/plain": [
       "<Figure size 640x480 with 1 Axes>"
      ]
     },
     "metadata": {},
     "output_type": "display_data"
    }
   ],
   "source": [
    "sns.countplot(data = df, x = df['Satisfaction'])"
   ]
  },
  {
   "cell_type": "code",
   "execution_count": 98,
   "id": "d18f738b-d4c9-4a35-8a42-8f12d16b0caa",
   "metadata": {},
   "outputs": [
    {
     "data": {
      "text/plain": [
       "Challenges\n",
       "Lack of Genuine Matches    173\n",
       "Time-Wasting               172\n",
       "Safety Concerns            155\n",
       "Name: count, dtype: int64"
      ]
     },
     "execution_count": 98,
     "metadata": {},
     "output_type": "execute_result"
    }
   ],
   "source": [
    "df[\"Challenges\"].value_counts()"
   ]
  },
  {
   "cell_type": "code",
   "execution_count": 99,
   "id": "b1dd9833-7e8e-4054-8307-7c2263645720",
   "metadata": {},
   "outputs": [
    {
     "data": {
      "text/plain": [
       "<Axes: xlabel='Challenges', ylabel='count'>"
      ]
     },
     "execution_count": 99,
     "metadata": {},
     "output_type": "execute_result"
    },
    {
     "data": {
      "image/png": "[encoded data removed]",
      "text/plain": [
       "<Figure size 640x480 with 1 Axes>"
      ]
     },
     "metadata": {},
     "output_type": "display_data"
    }
   ],
   "source": [
    "sns.countplot(data = df, x = df[\"Challenges\"])"
   ]
  },
  {
   "cell_type": "code",
   "execution_count": 101,
   "id": "a9721367-3ce0-4492-a0e3-ca6ca83c8828",
   "metadata": {},
   "outputs": [
    {
     "data": {
      "text/plain": [
       "Desired_Features\n",
       "Location-Based Matching    111\n",
       "Video Calls                103\n",
       "Detailed Profiles          102\n",
       "Audio Calls                 95\n",
       "AI Recommendations          89\n",
       "Name: count, dtype: int64"
      ]
     },
     "execution_count": 101,
     "metadata": {},
     "output_type": "execute_result"
    }
   ],
   "source": [
    "df[\"Desired_Features\"].value_counts()"
   ]
  },
  {
   "cell_type": "code",
   "execution_count": 114,
   "id": "42e1700d-02bc-4fb6-b24c-c2a1fbc70adf",
   "metadata": {},
   "outputs": [
    {
     "data": {
      "text/plain": [
       "<Axes: xlabel='Desired_Features', ylabel='count'>"
      ]
     },
     "execution_count": 114,
     "metadata": {},
     "output_type": "execute_result"
    },
    {
     "data": {
      "image/png": "[encoded data removed]",
      "text/plain": [
       "<Figure size 1000x600 with 1 Axes>"
      ]
     },
     "metadata": {},
     "output_type": "display_data"
    }
   ],
   "source": [
    "plt.figure(figsize=(10,6))\n",
    "#plt.xticks(rotation=45)\n",
    "sns.countplot(data = df, x = df[\"Desired_Features\"])"
   ]
  },
  {
   "cell_type": "code",
   "execution_count": 115,
   "id": "b1e32b62-4203-49f9-b1e2-b0bf5e27006f",
   "metadata": {},
   "outputs": [
    {
     "data": {
      "text/plain": [
       "Preferred_Communication\n",
       "Video Calls    195\n",
       "Voice Notes    162\n",
       "Text           143\n",
       "Name: count, dtype: int64"
      ]
     },
     "execution_count": 115,
     "metadata": {},
     "output_type": "execute_result"
    }
   ],
   "source": [
    "df[\"Preferred_Communication\"].value_counts()"
   ]
  },
  {
   "cell_type": "code",
   "execution_count": 116,
   "id": "a22a9749-fd54-4dea-89c8-d3dce9780e85",
   "metadata": {},
   "outputs": [
    {
     "data": {
      "text/plain": [
       "<Axes: xlabel='Preferred_Communication', ylabel='count'>"
      ]
     },
     "execution_count": 116,
     "metadata": {},
     "output_type": "execute_result"
    },
    {
     "data": {
      "image/png": "[encoded data removed]",
      "text/plain": [
       "<Figure size 640x480 with 1 Axes>"
      ]
     },
     "metadata": {},
     "output_type": "display_data"
    }
   ],
   "source": [
    "sns.countplot(data = df, x = df[\"Preferred_Communication\"])"
   ]
  },
  {
   "cell_type": "code",
   "execution_count": 117,
   "id": "d997581a-583f-4097-b83c-f3462eaba2aa",
   "metadata": {},
   "outputs": [
    {
     "data": {
      "text/plain": [
       "Partner_Priorities\n",
       "Personality > Interests > Values        170\n",
       "Values > Personality > Appearance       166\n",
       "Appearance > Interests > Personality    164\n",
       "Name: count, dtype: int64"
      ]
     },
     "execution_count": 117,
     "metadata": {},
     "output_type": "execute_result"
    }
   ],
   "source": [
    "df[\"Partner_Priorities\"].value_counts()"
   ]
  },
  {
   "cell_type": "code",
   "execution_count": 120,
   "id": "747a4436-2e45-4d47-bcc0-e9f45efe46f4",
   "metadata": {},
   "outputs": [
    {
     "data": {
      "text/plain": [
       "<Axes: xlabel='Partner_Priorities', ylabel='count'>"
      ]
     },
     "execution_count": 120,
     "metadata": {},
     "output_type": "execute_result"
    },
    {
     "data": {
      "image/png": "[encoded data removed]",
      "text/plain": [
       "<Figure size 1000x600 with 1 Axes>"
      ]
     },
     "metadata": {},
     "output_type": "display_data"
    }
   ],
   "source": [
    "plt.figure(figsize=(10,6))\n",
    "sns.countplot(data = df, x = df[\"Partner_Priorities\"])"
   ]
  },
  {
   "cell_type": "code",
   "execution_count": null,
   "id": "846840ed-3dff-4dad-88c6-9ece4645ffe9",
   "metadata": {},
   "outputs": [],
   "source": []
  }
 ],
 "metadata": {
  "kernelspec": {
   "display_name": "Python 3 (ipykernel)",
   "language": "python",
   "name": "python3"
  },
  "language_info": {
   "codemirror_mode": {
    "name": "ipython",
    "version": 3
   },
   "file_extension": ".py",
   "mimetype": "text/x-python",
   "name": "python",
   "nbconvert_exporter": "python",
   "pygments_lexer": "ipython3",
   "version": "3.12.8"
  }
 },
 "nbformat": 4,
 "nbformat_minor": 5
}
