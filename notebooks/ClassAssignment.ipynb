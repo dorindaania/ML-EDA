{
 "cells": [
  {
   "cell_type": "code",
   "execution_count": 1,
   "metadata": {},
   "outputs": [],
   "source": [
    "import numpy as np\n",
    "import pandas as pd\n",
    "import matplotlib.pyplot as plt \n",
    "import seaborn as sns\n"
   ]
  },
  {
   "cell_type": "code",
   "execution_count": 2,
   "metadata": {},
   "outputs": [],
   "source": [
    "df = pd.read_csv(\"../data/GenZ_DatingApp_Data.csv\")"
   ]
  },
  {
   "cell_type": "code",
   "execution_count": 3,
   "metadata": {},
   "outputs": [
    {
     "data": {
      "text/html": [
       "<div>\n",
       "<style scoped>\n",
       "    .dataframe tbody tr th:only-of-type {\n",
       "        vertical-align: middle;\n",
       "    }\n",
       "\n",
       "    .dataframe tbody tr th {\n",
       "        vertical-align: top;\n",
       "    }\n",
       "\n",
       "    .dataframe thead th {\n",
       "        text-align: right;\n",
       "    }\n",
       "</style>\n",
       "<table border=\"1\" class=\"dataframe\">\n",
       "  <thead>\n",
       "    <tr style=\"text-align: right;\">\n",
       "      <th></th>\n",
       "      <th>User_ID</th>\n",
       "      <th>Age</th>\n",
       "      <th>Gender</th>\n",
       "      <th>Location</th>\n",
       "      <th>Education</th>\n",
       "      <th>Occupation</th>\n",
       "      <th>Primary_App</th>\n",
       "      <th>Secondary_Apps</th>\n",
       "      <th>Usage_Frequency</th>\n",
       "      <th>Daily_Usage_Time</th>\n",
       "      <th>Reason_for_Using</th>\n",
       "      <th>Satisfaction</th>\n",
       "      <th>Challenges</th>\n",
       "      <th>Desired_Features</th>\n",
       "      <th>Preferred_Communication</th>\n",
       "      <th>Partner_Priorities</th>\n",
       "    </tr>\n",
       "  </thead>\n",
       "  <tbody>\n",
       "    <tr>\n",
       "      <th>0</th>\n",
       "      <td>1</td>\n",
       "      <td>20</td>\n",
       "      <td>Non-binary</td>\n",
       "      <td>Bangalore</td>\n",
       "      <td>Undergraduate</td>\n",
       "      <td>Freelancer</td>\n",
       "      <td>Hinge</td>\n",
       "      <td>Hinge</td>\n",
       "      <td>Monthly</td>\n",
       "      <td>1 hour</td>\n",
       "      <td>Finding a Partner</td>\n",
       "      <td>4</td>\n",
       "      <td>Safety Concerns</td>\n",
       "      <td>Audio Calls</td>\n",
       "      <td>Video Calls</td>\n",
       "      <td>Values &gt; Personality &gt; Appearance</td>\n",
       "    </tr>\n",
       "    <tr>\n",
       "      <th>1</th>\n",
       "      <td>2</td>\n",
       "      <td>24</td>\n",
       "      <td>Female</td>\n",
       "      <td>Delhi</td>\n",
       "      <td>Undergraduate</td>\n",
       "      <td>Part-time Job</td>\n",
       "      <td>Hinge</td>\n",
       "      <td>OkCupid</td>\n",
       "      <td>Weekly</td>\n",
       "      <td>30 minutes</td>\n",
       "      <td>Casual Dating</td>\n",
       "      <td>5</td>\n",
       "      <td>Time-Wasting</td>\n",
       "      <td>Video Calls</td>\n",
       "      <td>Text</td>\n",
       "      <td>Values &gt; Personality &gt; Appearance</td>\n",
       "    </tr>\n",
       "    <tr>\n",
       "      <th>2</th>\n",
       "      <td>3</td>\n",
       "      <td>24</td>\n",
       "      <td>Non-binary</td>\n",
       "      <td>Kolkata</td>\n",
       "      <td>Undergraduate</td>\n",
       "      <td>Intern</td>\n",
       "      <td>NaN</td>\n",
       "      <td>NaN</td>\n",
       "      <td>Weekly</td>\n",
       "      <td>2 hours</td>\n",
       "      <td>Casual Dating</td>\n",
       "      <td>4</td>\n",
       "      <td>Safety Concerns</td>\n",
       "      <td>Detailed Profiles</td>\n",
       "      <td>Text</td>\n",
       "      <td>Values &gt; Personality &gt; Appearance</td>\n",
       "    </tr>\n",
       "    <tr>\n",
       "      <th>3</th>\n",
       "      <td>4</td>\n",
       "      <td>22</td>\n",
       "      <td>Non-binary</td>\n",
       "      <td>Delhi</td>\n",
       "      <td>Graduate</td>\n",
       "      <td>Full-time Job</td>\n",
       "      <td>NaN</td>\n",
       "      <td>OkCupid</td>\n",
       "      <td>Daily</td>\n",
       "      <td>30 minutes</td>\n",
       "      <td>Casual Fun</td>\n",
       "      <td>3</td>\n",
       "      <td>NaN</td>\n",
       "      <td>AI Recommendations</td>\n",
       "      <td>Voice Notes</td>\n",
       "      <td>Personality &gt; Interests &gt; Values</td>\n",
       "    </tr>\n",
       "    <tr>\n",
       "      <th>4</th>\n",
       "      <td>5</td>\n",
       "      <td>18</td>\n",
       "      <td>Male</td>\n",
       "      <td>Delhi</td>\n",
       "      <td>Graduate</td>\n",
       "      <td>Intern</td>\n",
       "      <td>OkCupid</td>\n",
       "      <td>OkCupid</td>\n",
       "      <td>Weekly</td>\n",
       "      <td>2 hours</td>\n",
       "      <td>Casual Fun</td>\n",
       "      <td>4</td>\n",
       "      <td>Safety Concerns</td>\n",
       "      <td>Video Calls</td>\n",
       "      <td>Text</td>\n",
       "      <td>Appearance &gt; Interests &gt; Personality</td>\n",
       "    </tr>\n",
       "  </tbody>\n",
       "</table>\n",
       "</div>"
      ],
      "text/plain": [
       "   User_ID  Age      Gender   Location      Education     Occupation  \\\n",
       "0        1   20  Non-binary  Bangalore  Undergraduate     Freelancer   \n",
       "1        2   24      Female      Delhi  Undergraduate  Part-time Job   \n",
       "2        3   24  Non-binary    Kolkata  Undergraduate         Intern   \n",
       "3        4   22  Non-binary      Delhi       Graduate  Full-time Job   \n",
       "4        5   18        Male      Delhi       Graduate         Intern   \n",
       "\n",
       "  Primary_App Secondary_Apps Usage_Frequency Daily_Usage_Time  \\\n",
       "0       Hinge          Hinge         Monthly           1 hour   \n",
       "1       Hinge        OkCupid          Weekly       30 minutes   \n",
       "2         NaN            NaN          Weekly          2 hours   \n",
       "3         NaN        OkCupid           Daily       30 minutes   \n",
       "4     OkCupid        OkCupid          Weekly          2 hours   \n",
       "\n",
       "    Reason_for_Using  Satisfaction       Challenges    Desired_Features  \\\n",
       "0  Finding a Partner             4  Safety Concerns         Audio Calls   \n",
       "1      Casual Dating             5     Time-Wasting         Video Calls   \n",
       "2      Casual Dating             4  Safety Concerns   Detailed Profiles   \n",
       "3         Casual Fun             3              NaN  AI Recommendations   \n",
       "4         Casual Fun             4  Safety Concerns         Video Calls   \n",
       "\n",
       "  Preferred_Communication                    Partner_Priorities  \n",
       "0             Video Calls     Values > Personality > Appearance  \n",
       "1                    Text     Values > Personality > Appearance  \n",
       "2                    Text     Values > Personality > Appearance  \n",
       "3             Voice Notes      Personality > Interests > Values  \n",
       "4                    Text  Appearance > Interests > Personality  "
      ]
     },
     "execution_count": 3,
     "metadata": {},
     "output_type": "execute_result"
    }
   ],
   "source": [
    "df.head()"
   ]
  },
  {
   "cell_type": "code",
   "execution_count": 4,
   "metadata": {},
   "outputs": [
    {
     "data": {
      "text/plain": [
       "User_ID                      0\n",
       "Age                          0\n",
       "Gender                       0\n",
       "Location                     0\n",
       "Education                    0\n",
       "Occupation                   0\n",
       "Primary_App                107\n",
       "Secondary_Apps             114\n",
       "Usage_Frequency              0\n",
       "Daily_Usage_Time             0\n",
       "Reason_for_Using             0\n",
       "Satisfaction                 0\n",
       "Challenges                 117\n",
       "Desired_Features             0\n",
       "Preferred_Communication      0\n",
       "Partner_Priorities           0\n",
       "dtype: int64"
      ]
     },
     "execution_count": 4,
     "metadata": {},
     "output_type": "execute_result"
    }
   ],
   "source": [
    "df.isnull().sum()"
   ]
  },
  {
   "cell_type": "code",
   "execution_count": 5,
   "metadata": {},
   "outputs": [
    {
     "data": {
      "text/plain": [
       "User_ID                     0.0\n",
       "Age                         0.0\n",
       "Gender                      0.0\n",
       "Location                    0.0\n",
       "Education                   0.0\n",
       "Occupation                  0.0\n",
       "Primary_App                21.4\n",
       "Secondary_Apps             22.8\n",
       "Usage_Frequency             0.0\n",
       "Daily_Usage_Time            0.0\n",
       "Reason_for_Using            0.0\n",
       "Satisfaction                0.0\n",
       "Challenges                 23.4\n",
       "Desired_Features            0.0\n",
       "Preferred_Communication     0.0\n",
       "Partner_Priorities          0.0\n",
       "dtype: float64"
      ]
     },
     "execution_count": 5,
     "metadata": {},
     "output_type": "execute_result"
    }
   ],
   "source": [
    "(df.isnull().sum()/df.shape[0]) * 100"
   ]
  },
  {
   "cell_type": "code",
   "execution_count": 6,
   "metadata": {},
   "outputs": [
    {
     "data": {
      "text/plain": [
       "Primary_App\n",
       "OkCupid    118\n",
       "Hinge      106\n",
       "Bumble      93\n",
       "Tinder      76\n",
       "Name: count, dtype: int64"
      ]
     },
     "execution_count": 6,
     "metadata": {},
     "output_type": "execute_result"
    }
   ],
   "source": [
    "df[\"Primary_App\"].value_counts()"
   ]
  },
  {
   "cell_type": "code",
   "execution_count": 7,
   "metadata": {},
   "outputs": [
    {
     "name": "stderr",
     "output_type": "stream",
     "text": [
      "/var/folders/jn/dvbsgr3506n5l2_jhv8b_fqm0000gn/T/ipykernel_31886/517032819.py:1: FutureWarning: Series.fillna with 'method' is deprecated and will raise in a future version. Use obj.ffill() or obj.bfill() instead.\n",
      "  df[\"Primary_App\"] = df[\"Primary_App\"].fillna(method =\"backfill\")\n"
     ]
    }
   ],
   "source": [
    "df[\"Primary_App\"] = df[\"Primary_App\"].fillna(method =\"backfill\")"
   ]
  },
  {
   "cell_type": "code",
   "execution_count": 8,
   "metadata": {},
   "outputs": [
    {
     "data": {
      "text/plain": [
       "User_ID                      0\n",
       "Age                          0\n",
       "Gender                       0\n",
       "Location                     0\n",
       "Education                    0\n",
       "Occupation                   0\n",
       "Primary_App                  1\n",
       "Secondary_Apps             114\n",
       "Usage_Frequency              0\n",
       "Daily_Usage_Time             0\n",
       "Reason_for_Using             0\n",
       "Satisfaction                 0\n",
       "Challenges                 117\n",
       "Desired_Features             0\n",
       "Preferred_Communication      0\n",
       "Partner_Priorities           0\n",
       "dtype: int64"
      ]
     },
     "execution_count": 8,
     "metadata": {},
     "output_type": "execute_result"
    }
   ],
   "source": [
    "df.isnull().sum()"
   ]
  },
  {
   "cell_type": "code",
   "execution_count": 9,
   "metadata": {},
   "outputs": [],
   "source": [
    "df[\"Primary_App\"] = df[\"Primary_App\"].fillna(value=df[\"Primary_App\"].mode()[0])"
   ]
  },
  {
   "cell_type": "code",
   "execution_count": 10,
   "metadata": {},
   "outputs": [
    {
     "name": "stderr",
     "output_type": "stream",
     "text": [
      "/var/folders/jn/dvbsgr3506n5l2_jhv8b_fqm0000gn/T/ipykernel_31886/3771049023.py:1: FutureWarning: Series.fillna with 'method' is deprecated and will raise in a future version. Use obj.ffill() or obj.bfill() instead.\n",
      "  df[\"Secondary_Apps\"] = df[\"Secondary_Apps\"].fillna(method = \"ffill\")\n"
     ]
    }
   ],
   "source": [
    "df[\"Secondary_Apps\"] = df[\"Secondary_Apps\"].fillna(method = \"ffill\")"
   ]
  },
  {
   "cell_type": "code",
   "execution_count": 11,
   "metadata": {},
   "outputs": [
    {
     "data": {
      "text/plain": [
       "User_ID                      0\n",
       "Age                          0\n",
       "Gender                       0\n",
       "Location                     0\n",
       "Education                    0\n",
       "Occupation                   0\n",
       "Primary_App                  0\n",
       "Secondary_Apps               0\n",
       "Usage_Frequency              0\n",
       "Daily_Usage_Time             0\n",
       "Reason_for_Using             0\n",
       "Satisfaction                 0\n",
       "Challenges                 117\n",
       "Desired_Features             0\n",
       "Preferred_Communication      0\n",
       "Partner_Priorities           0\n",
       "dtype: int64"
      ]
     },
     "execution_count": 11,
     "metadata": {},
     "output_type": "execute_result"
    }
   ],
   "source": [
    "df.isnull().sum()"
   ]
  },
  {
   "cell_type": "code",
   "execution_count": 12,
   "metadata": {},
   "outputs": [
    {
     "data": {
      "text/plain": [
       "Challenges\n",
       "Lack of Genuine Matches    135\n",
       "Time-Wasting               127\n",
       "Safety Concerns            121\n",
       "Name: count, dtype: int64"
      ]
     },
     "execution_count": 12,
     "metadata": {},
     "output_type": "execute_result"
    }
   ],
   "source": [
    "df[\"Challenges\"].value_counts()"
   ]
  },
  {
   "cell_type": "code",
   "execution_count": 13,
   "metadata": {},
   "outputs": [
    {
     "name": "stderr",
     "output_type": "stream",
     "text": [
      "/var/folders/jn/dvbsgr3506n5l2_jhv8b_fqm0000gn/T/ipykernel_31886/1719709456.py:1: FutureWarning: Series.fillna with 'method' is deprecated and will raise in a future version. Use obj.ffill() or obj.bfill() instead.\n",
      "  df[\"Challenges\"] = df[\"Challenges\"].fillna(method = \"backfill\")\n"
     ]
    }
   ],
   "source": [
    "df[\"Challenges\"] = df[\"Challenges\"].fillna(method = \"backfill\")"
   ]
  },
  {
   "cell_type": "code",
   "execution_count": 14,
   "metadata": {},
   "outputs": [
    {
     "data": {
      "text/plain": [
       "User_ID                    0\n",
       "Age                        0\n",
       "Gender                     0\n",
       "Location                   0\n",
       "Education                  0\n",
       "Occupation                 0\n",
       "Primary_App                0\n",
       "Secondary_Apps             0\n",
       "Usage_Frequency            0\n",
       "Daily_Usage_Time           0\n",
       "Reason_for_Using           0\n",
       "Satisfaction               0\n",
       "Challenges                 0\n",
       "Desired_Features           0\n",
       "Preferred_Communication    0\n",
       "Partner_Priorities         0\n",
       "dtype: int64"
      ]
     },
     "execution_count": 14,
     "metadata": {},
     "output_type": "execute_result"
    }
   ],
   "source": [
    "df.isnull().sum()"
   ]
  },
  {
   "cell_type": "code",
   "execution_count": 15,
   "metadata": {},
   "outputs": [
    {
     "data": {
      "text/plain": [
       "False    500\n",
       "Name: count, dtype: int64"
      ]
     },
     "execution_count": 15,
     "metadata": {},
     "output_type": "execute_result"
    }
   ],
   "source": [
    "df.duplicated().value_counts()"
   ]
  },
  {
   "cell_type": "markdown",
   "metadata": {},
   "source": [
    "### There are no duplicate rows sinse df.duplicated().value_counts returned 500 false values"
   ]
  },
  {
   "cell_type": "code",
   "execution_count": 16,
   "metadata": {},
   "outputs": [
    {
     "name": "stdout",
     "output_type": "stream",
     "text": [
      "<class 'pandas.core.frame.DataFrame'>\n",
      "RangeIndex: 500 entries, 0 to 499\n",
      "Data columns (total 16 columns):\n",
      " #   Column                   Non-Null Count  Dtype \n",
      "---  ------                   --------------  ----- \n",
      " 0   User_ID                  500 non-null    int64 \n",
      " 1   Age                      500 non-null    int64 \n",
      " 2   Gender                   500 non-null    object\n",
      " 3   Location                 500 non-null    object\n",
      " 4   Education                500 non-null    object\n",
      " 5   Occupation               500 non-null    object\n",
      " 6   Primary_App              500 non-null    object\n",
      " 7   Secondary_Apps           500 non-null    object\n",
      " 8   Usage_Frequency          500 non-null    object\n",
      " 9   Daily_Usage_Time         500 non-null    object\n",
      " 10  Reason_for_Using         500 non-null    object\n",
      " 11  Satisfaction             500 non-null    int64 \n",
      " 12  Challenges               500 non-null    object\n",
      " 13  Desired_Features         500 non-null    object\n",
      " 14  Preferred_Communication  500 non-null    object\n",
      " 15  Partner_Priorities       500 non-null    object\n",
      "dtypes: int64(3), object(13)\n",
      "memory usage: 62.6+ KB\n"
     ]
    }
   ],
   "source": [
    "df.info()"
   ]
  },
  {
   "cell_type": "code",
   "execution_count": 17,
   "metadata": {},
   "outputs": [],
   "source": [
    "for col in df.select_dtypes(include = \"object\"):\n",
    "    df[col] = df[col].str.lower()\n",
    "    df[col] = df[col].astype(\"category\")\n",
    "    "
   ]
  },
  {
   "cell_type": "code",
   "execution_count": 18,
   "metadata": {},
   "outputs": [
    {
     "name": "stdout",
     "output_type": "stream",
     "text": [
      "<class 'pandas.core.frame.DataFrame'>\n",
      "RangeIndex: 500 entries, 0 to 499\n",
      "Data columns (total 16 columns):\n",
      " #   Column                   Non-Null Count  Dtype   \n",
      "---  ------                   --------------  -----   \n",
      " 0   User_ID                  500 non-null    int64   \n",
      " 1   Age                      500 non-null    int64   \n",
      " 2   Gender                   500 non-null    category\n",
      " 3   Location                 500 non-null    category\n",
      " 4   Education                500 non-null    category\n",
      " 5   Occupation               500 non-null    category\n",
      " 6   Primary_App              500 non-null    category\n",
      " 7   Secondary_Apps           500 non-null    category\n",
      " 8   Usage_Frequency          500 non-null    category\n",
      " 9   Daily_Usage_Time         500 non-null    category\n",
      " 10  Reason_for_Using         500 non-null    category\n",
      " 11  Satisfaction             500 non-null    int64   \n",
      " 12  Challenges               500 non-null    category\n",
      " 13  Desired_Features         500 non-null    category\n",
      " 14  Preferred_Communication  500 non-null    category\n",
      " 15  Partner_Priorities       500 non-null    category\n",
      "dtypes: category(13), int64(3)\n",
      "memory usage: 20.5 KB\n"
     ]
    }
   ],
   "source": [
    "df.info()"
   ]
  },
  {
   "cell_type": "code",
   "execution_count": 19,
   "metadata": {},
   "outputs": [],
   "source": [
    "df[\"Satisfaction\"] = df[\"Satisfaction\"].astype(\"category\")"
   ]
  },
  {
   "cell_type": "code",
   "execution_count": 20,
   "metadata": {},
   "outputs": [
    {
     "name": "stdout",
     "output_type": "stream",
     "text": [
      "<class 'pandas.core.frame.DataFrame'>\n",
      "RangeIndex: 500 entries, 0 to 499\n",
      "Data columns (total 16 columns):\n",
      " #   Column                   Non-Null Count  Dtype   \n",
      "---  ------                   --------------  -----   \n",
      " 0   User_ID                  500 non-null    int64   \n",
      " 1   Age                      500 non-null    int64   \n",
      " 2   Gender                   500 non-null    category\n",
      " 3   Location                 500 non-null    category\n",
      " 4   Education                500 non-null    category\n",
      " 5   Occupation               500 non-null    category\n",
      " 6   Primary_App              500 non-null    category\n",
      " 7   Secondary_Apps           500 non-null    category\n",
      " 8   Usage_Frequency          500 non-null    category\n",
      " 9   Daily_Usage_Time         500 non-null    category\n",
      " 10  Reason_for_Using         500 non-null    category\n",
      " 11  Satisfaction             500 non-null    category\n",
      " 12  Challenges               500 non-null    category\n",
      " 13  Desired_Features         500 non-null    category\n",
      " 14  Preferred_Communication  500 non-null    category\n",
      " 15  Partner_Priorities       500 non-null    category\n",
      "dtypes: category(14), int64(2)\n",
      "memory usage: 17.3 KB\n"
     ]
    }
   ],
   "source": [
    "df.info()"
   ]
  },
  {
   "cell_type": "code",
   "execution_count": 21,
   "metadata": {},
   "outputs": [
    {
     "data": {
      "text/plain": [
       "<Axes: xlabel='Age'>"
      ]
     },
     "execution_count": 21,
     "metadata": {},
     "output_type": "execute_result"
    },
    {
     "data": {
      "image/png": "[encoded data removed]",
      "text/plain": [
       "<Figure size 640x480 with 1 Axes>"
      ]
     },
     "metadata": {},
     "output_type": "display_data"
    }
   ],
   "source": [
    "sns.boxplot(data = df , x = df[\"Age\"])"
   ]
  },
  {
   "cell_type": "code",
   "execution_count": 22,
   "metadata": {},
   "outputs": [
    {
     "data": {
      "text/html": [
       "<div>\n",
       "<style scoped>\n",
       "    .dataframe tbody tr th:only-of-type {\n",
       "        vertical-align: middle;\n",
       "    }\n",
       "\n",
       "    .dataframe tbody tr th {\n",
       "        vertical-align: top;\n",
       "    }\n",
       "\n",
       "    .dataframe thead th {\n",
       "        text-align: right;\n",
       "    }\n",
       "</style>\n",
       "<table border=\"1\" class=\"dataframe\">\n",
       "  <thead>\n",
       "    <tr style=\"text-align: right;\">\n",
       "      <th></th>\n",
       "      <th>User_ID</th>\n",
       "      <th>Age</th>\n",
       "      <th>Gender</th>\n",
       "      <th>Location</th>\n",
       "      <th>Education</th>\n",
       "      <th>Occupation</th>\n",
       "      <th>Primary_App</th>\n",
       "      <th>Secondary_Apps</th>\n",
       "      <th>Usage_Frequency</th>\n",
       "      <th>Daily_Usage_Time</th>\n",
       "      <th>Reason_for_Using</th>\n",
       "      <th>Satisfaction</th>\n",
       "      <th>Challenges</th>\n",
       "      <th>Desired_Features</th>\n",
       "      <th>Preferred_Communication</th>\n",
       "      <th>Partner_Priorities</th>\n",
       "    </tr>\n",
       "  </thead>\n",
       "  <tbody>\n",
       "    <tr>\n",
       "      <th>0</th>\n",
       "      <td>1</td>\n",
       "      <td>20</td>\n",
       "      <td>non-binary</td>\n",
       "      <td>bangalore</td>\n",
       "      <td>undergraduate</td>\n",
       "      <td>freelancer</td>\n",
       "      <td>hinge</td>\n",
       "      <td>hinge</td>\n",
       "      <td>monthly</td>\n",
       "      <td>1 hour</td>\n",
       "      <td>finding a partner</td>\n",
       "      <td>4</td>\n",
       "      <td>safety concerns</td>\n",
       "      <td>audio calls</td>\n",
       "      <td>video calls</td>\n",
       "      <td>values &gt; personality &gt; appearance</td>\n",
       "    </tr>\n",
       "    <tr>\n",
       "      <th>1</th>\n",
       "      <td>2</td>\n",
       "      <td>24</td>\n",
       "      <td>female</td>\n",
       "      <td>delhi</td>\n",
       "      <td>undergraduate</td>\n",
       "      <td>part-time job</td>\n",
       "      <td>hinge</td>\n",
       "      <td>okcupid</td>\n",
       "      <td>weekly</td>\n",
       "      <td>30 minutes</td>\n",
       "      <td>casual dating</td>\n",
       "      <td>5</td>\n",
       "      <td>time-wasting</td>\n",
       "      <td>video calls</td>\n",
       "      <td>text</td>\n",
       "      <td>values &gt; personality &gt; appearance</td>\n",
       "    </tr>\n",
       "    <tr>\n",
       "      <th>2</th>\n",
       "      <td>3</td>\n",
       "      <td>24</td>\n",
       "      <td>non-binary</td>\n",
       "      <td>kolkata</td>\n",
       "      <td>undergraduate</td>\n",
       "      <td>intern</td>\n",
       "      <td>okcupid</td>\n",
       "      <td>okcupid</td>\n",
       "      <td>weekly</td>\n",
       "      <td>2 hours</td>\n",
       "      <td>casual dating</td>\n",
       "      <td>4</td>\n",
       "      <td>safety concerns</td>\n",
       "      <td>detailed profiles</td>\n",
       "      <td>text</td>\n",
       "      <td>values &gt; personality &gt; appearance</td>\n",
       "    </tr>\n",
       "    <tr>\n",
       "      <th>3</th>\n",
       "      <td>4</td>\n",
       "      <td>22</td>\n",
       "      <td>non-binary</td>\n",
       "      <td>delhi</td>\n",
       "      <td>graduate</td>\n",
       "      <td>full-time job</td>\n",
       "      <td>okcupid</td>\n",
       "      <td>okcupid</td>\n",
       "      <td>daily</td>\n",
       "      <td>30 minutes</td>\n",
       "      <td>casual fun</td>\n",
       "      <td>3</td>\n",
       "      <td>safety concerns</td>\n",
       "      <td>ai recommendations</td>\n",
       "      <td>voice notes</td>\n",
       "      <td>personality &gt; interests &gt; values</td>\n",
       "    </tr>\n",
       "    <tr>\n",
       "      <th>4</th>\n",
       "      <td>5</td>\n",
       "      <td>18</td>\n",
       "      <td>male</td>\n",
       "      <td>delhi</td>\n",
       "      <td>graduate</td>\n",
       "      <td>intern</td>\n",
       "      <td>okcupid</td>\n",
       "      <td>okcupid</td>\n",
       "      <td>weekly</td>\n",
       "      <td>2 hours</td>\n",
       "      <td>casual fun</td>\n",
       "      <td>4</td>\n",
       "      <td>safety concerns</td>\n",
       "      <td>video calls</td>\n",
       "      <td>text</td>\n",
       "      <td>appearance &gt; interests &gt; personality</td>\n",
       "    </tr>\n",
       "    <tr>\n",
       "      <th>...</th>\n",
       "      <td>...</td>\n",
       "      <td>...</td>\n",
       "      <td>...</td>\n",
       "      <td>...</td>\n",
       "      <td>...</td>\n",
       "      <td>...</td>\n",
       "      <td>...</td>\n",
       "      <td>...</td>\n",
       "      <td>...</td>\n",
       "      <td>...</td>\n",
       "      <td>...</td>\n",
       "      <td>...</td>\n",
       "      <td>...</td>\n",
       "      <td>...</td>\n",
       "      <td>...</td>\n",
       "      <td>...</td>\n",
       "    </tr>\n",
       "    <tr>\n",
       "      <th>495</th>\n",
       "      <td>496</td>\n",
       "      <td>23</td>\n",
       "      <td>female</td>\n",
       "      <td>mumbai</td>\n",
       "      <td>undergraduate</td>\n",
       "      <td>intern</td>\n",
       "      <td>tinder</td>\n",
       "      <td>hinge</td>\n",
       "      <td>weekly</td>\n",
       "      <td>1.5 hours</td>\n",
       "      <td>casual dating</td>\n",
       "      <td>2</td>\n",
       "      <td>time-wasting</td>\n",
       "      <td>audio calls</td>\n",
       "      <td>voice notes</td>\n",
       "      <td>personality &gt; interests &gt; values</td>\n",
       "    </tr>\n",
       "    <tr>\n",
       "      <th>496</th>\n",
       "      <td>497</td>\n",
       "      <td>23</td>\n",
       "      <td>male</td>\n",
       "      <td>mumbai</td>\n",
       "      <td>postgraduate</td>\n",
       "      <td>intern</td>\n",
       "      <td>okcupid</td>\n",
       "      <td>tinder</td>\n",
       "      <td>daily</td>\n",
       "      <td>2 hours</td>\n",
       "      <td>casual fun</td>\n",
       "      <td>1</td>\n",
       "      <td>time-wasting</td>\n",
       "      <td>video calls</td>\n",
       "      <td>video calls</td>\n",
       "      <td>values &gt; personality &gt; appearance</td>\n",
       "    </tr>\n",
       "    <tr>\n",
       "      <th>497</th>\n",
       "      <td>498</td>\n",
       "      <td>22</td>\n",
       "      <td>male</td>\n",
       "      <td>hyderabad</td>\n",
       "      <td>graduate</td>\n",
       "      <td>freelancer</td>\n",
       "      <td>tinder</td>\n",
       "      <td>hinge</td>\n",
       "      <td>monthly</td>\n",
       "      <td>2 hours</td>\n",
       "      <td>casual fun</td>\n",
       "      <td>2</td>\n",
       "      <td>lack of genuine matches</td>\n",
       "      <td>video calls</td>\n",
       "      <td>voice notes</td>\n",
       "      <td>appearance &gt; interests &gt; personality</td>\n",
       "    </tr>\n",
       "    <tr>\n",
       "      <th>498</th>\n",
       "      <td>499</td>\n",
       "      <td>21</td>\n",
       "      <td>female</td>\n",
       "      <td>kolkata</td>\n",
       "      <td>graduate</td>\n",
       "      <td>student</td>\n",
       "      <td>tinder</td>\n",
       "      <td>hinge</td>\n",
       "      <td>daily</td>\n",
       "      <td>1.5 hours</td>\n",
       "      <td>casual dating</td>\n",
       "      <td>3</td>\n",
       "      <td>lack of genuine matches</td>\n",
       "      <td>detailed profiles</td>\n",
       "      <td>text</td>\n",
       "      <td>appearance &gt; interests &gt; personality</td>\n",
       "    </tr>\n",
       "    <tr>\n",
       "      <th>499</th>\n",
       "      <td>500</td>\n",
       "      <td>22</td>\n",
       "      <td>male</td>\n",
       "      <td>mumbai</td>\n",
       "      <td>graduate</td>\n",
       "      <td>part-time job</td>\n",
       "      <td>okcupid</td>\n",
       "      <td>hinge</td>\n",
       "      <td>weekly</td>\n",
       "      <td>1.5 hours</td>\n",
       "      <td>casual fun</td>\n",
       "      <td>2</td>\n",
       "      <td>time-wasting</td>\n",
       "      <td>ai recommendations</td>\n",
       "      <td>video calls</td>\n",
       "      <td>appearance &gt; interests &gt; personality</td>\n",
       "    </tr>\n",
       "  </tbody>\n",
       "</table>\n",
       "<p>500 rows × 16 columns</p>\n",
       "</div>"
      ],
      "text/plain": [
       "     User_ID  Age      Gender   Location      Education     Occupation  \\\n",
       "0          1   20  non-binary  bangalore  undergraduate     freelancer   \n",
       "1          2   24      female      delhi  undergraduate  part-time job   \n",
       "2          3   24  non-binary    kolkata  undergraduate         intern   \n",
       "3          4   22  non-binary      delhi       graduate  full-time job   \n",
       "4          5   18        male      delhi       graduate         intern   \n",
       "..       ...  ...         ...        ...            ...            ...   \n",
       "495      496   23      female     mumbai  undergraduate         intern   \n",
       "496      497   23        male     mumbai   postgraduate         intern   \n",
       "497      498   22        male  hyderabad       graduate     freelancer   \n",
       "498      499   21      female    kolkata       graduate        student   \n",
       "499      500   22        male     mumbai       graduate  part-time job   \n",
       "\n",
       "    Primary_App Secondary_Apps Usage_Frequency Daily_Usage_Time  \\\n",
       "0         hinge          hinge         monthly           1 hour   \n",
       "1         hinge        okcupid          weekly       30 minutes   \n",
       "2       okcupid        okcupid          weekly          2 hours   \n",
       "3       okcupid        okcupid           daily       30 minutes   \n",
       "4       okcupid        okcupid          weekly          2 hours   \n",
       "..          ...            ...             ...              ...   \n",
       "495      tinder          hinge          weekly        1.5 hours   \n",
       "496     okcupid         tinder           daily          2 hours   \n",
       "497      tinder          hinge         monthly          2 hours   \n",
       "498      tinder          hinge           daily        1.5 hours   \n",
       "499     okcupid          hinge          weekly        1.5 hours   \n",
       "\n",
       "      Reason_for_Using Satisfaction               Challenges  \\\n",
       "0    finding a partner            4          safety concerns   \n",
       "1        casual dating            5             time-wasting   \n",
       "2        casual dating            4          safety concerns   \n",
       "3           casual fun            3          safety concerns   \n",
       "4           casual fun            4          safety concerns   \n",
       "..                 ...          ...                      ...   \n",
       "495      casual dating            2             time-wasting   \n",
       "496         casual fun            1             time-wasting   \n",
       "497         casual fun            2  lack of genuine matches   \n",
       "498      casual dating            3  lack of genuine matches   \n",
       "499         casual fun            2             time-wasting   \n",
       "\n",
       "       Desired_Features Preferred_Communication  \\\n",
       "0           audio calls             video calls   \n",
       "1           video calls                    text   \n",
       "2     detailed profiles                    text   \n",
       "3    ai recommendations             voice notes   \n",
       "4           video calls                    text   \n",
       "..                  ...                     ...   \n",
       "495         audio calls             voice notes   \n",
       "496         video calls             video calls   \n",
       "497         video calls             voice notes   \n",
       "498   detailed profiles                    text   \n",
       "499  ai recommendations             video calls   \n",
       "\n",
       "                       Partner_Priorities  \n",
       "0       values > personality > appearance  \n",
       "1       values > personality > appearance  \n",
       "2       values > personality > appearance  \n",
       "3        personality > interests > values  \n",
       "4    appearance > interests > personality  \n",
       "..                                    ...  \n",
       "495      personality > interests > values  \n",
       "496     values > personality > appearance  \n",
       "497  appearance > interests > personality  \n",
       "498  appearance > interests > personality  \n",
       "499  appearance > interests > personality  \n",
       "\n",
       "[500 rows x 16 columns]"
      ]
     },
     "execution_count": 22,
     "metadata": {},
     "output_type": "execute_result"
    }
   ],
   "source": [
    "df"
   ]
  },
  {
   "cell_type": "code",
   "execution_count": null,
   "metadata": {},
   "outputs": [],
   "source": []
  },
  {
   "cell_type": "code",
   "execution_count": 23,
   "metadata": {},
   "outputs": [],
   "source": [
    "import re"
   ]
  },
  {
   "cell_type": "code",
   "execution_count": 24,
   "metadata": {},
   "outputs": [],
   "source": [
    "def convert_to_minutes(daily_usage_time):\n",
    "    hours = 0\n",
    "    minutes = 0\n",
    "\n",
    "    hours_match = re.search(r\"(\\d+|\\d+\\.\\d+)\\s*hour\", daily_usage_time)\n",
    "    if hours_match:\n",
    "        hours = float(hours_match.group(1))\n",
    "\n",
    "    minutes_match = re.search(r\"(\\d+)\\*minute\", daily_usage_time)\n",
    "    if minutes_match:\n",
    "        minutes = int(minutes_match.group(1))\n",
    "\n",
    "    return int((hours*60) + minutes)"
   ]
  },
  {
   "cell_type": "code",
   "execution_count": 25,
   "metadata": {},
   "outputs": [],
   "source": [
    "df[\"Daily_Usage_Time_in_Minutes\"] = df[\"Daily_Usage_Time\"].apply(convert_to_minutes)"
   ]
  },
  {
   "cell_type": "code",
   "execution_count": 26,
   "metadata": {},
   "outputs": [
    {
     "data": {
      "text/html": [
       "<div>\n",
       "<style scoped>\n",
       "    .dataframe tbody tr th:only-of-type {\n",
       "        vertical-align: middle;\n",
       "    }\n",
       "\n",
       "    .dataframe tbody tr th {\n",
       "        vertical-align: top;\n",
       "    }\n",
       "\n",
       "    .dataframe thead th {\n",
       "        text-align: right;\n",
       "    }\n",
       "</style>\n",
       "<table border=\"1\" class=\"dataframe\">\n",
       "  <thead>\n",
       "    <tr style=\"text-align: right;\">\n",
       "      <th></th>\n",
       "      <th>User_ID</th>\n",
       "      <th>Age</th>\n",
       "      <th>Gender</th>\n",
       "      <th>Location</th>\n",
       "      <th>Education</th>\n",
       "      <th>Occupation</th>\n",
       "      <th>Primary_App</th>\n",
       "      <th>Secondary_Apps</th>\n",
       "      <th>Usage_Frequency</th>\n",
       "      <th>Daily_Usage_Time</th>\n",
       "      <th>Reason_for_Using</th>\n",
       "      <th>Satisfaction</th>\n",
       "      <th>Challenges</th>\n",
       "      <th>Desired_Features</th>\n",
       "      <th>Preferred_Communication</th>\n",
       "      <th>Partner_Priorities</th>\n",
       "      <th>Daily_Usage_Time_in_Minutes</th>\n",
       "    </tr>\n",
       "  </thead>\n",
       "  <tbody>\n",
       "    <tr>\n",
       "      <th>0</th>\n",
       "      <td>1</td>\n",
       "      <td>20</td>\n",
       "      <td>non-binary</td>\n",
       "      <td>bangalore</td>\n",
       "      <td>undergraduate</td>\n",
       "      <td>freelancer</td>\n",
       "      <td>hinge</td>\n",
       "      <td>hinge</td>\n",
       "      <td>monthly</td>\n",
       "      <td>1 hour</td>\n",
       "      <td>finding a partner</td>\n",
       "      <td>4</td>\n",
       "      <td>safety concerns</td>\n",
       "      <td>audio calls</td>\n",
       "      <td>video calls</td>\n",
       "      <td>values &gt; personality &gt; appearance</td>\n",
       "      <td>60</td>\n",
       "    </tr>\n",
       "    <tr>\n",
       "      <th>1</th>\n",
       "      <td>2</td>\n",
       "      <td>24</td>\n",
       "      <td>female</td>\n",
       "      <td>delhi</td>\n",
       "      <td>undergraduate</td>\n",
       "      <td>part-time job</td>\n",
       "      <td>hinge</td>\n",
       "      <td>okcupid</td>\n",
       "      <td>weekly</td>\n",
       "      <td>30 minutes</td>\n",
       "      <td>casual dating</td>\n",
       "      <td>5</td>\n",
       "      <td>time-wasting</td>\n",
       "      <td>video calls</td>\n",
       "      <td>text</td>\n",
       "      <td>values &gt; personality &gt; appearance</td>\n",
       "      <td>0</td>\n",
       "    </tr>\n",
       "    <tr>\n",
       "      <th>2</th>\n",
       "      <td>3</td>\n",
       "      <td>24</td>\n",
       "      <td>non-binary</td>\n",
       "      <td>kolkata</td>\n",
       "      <td>undergraduate</td>\n",
       "      <td>intern</td>\n",
       "      <td>okcupid</td>\n",
       "      <td>okcupid</td>\n",
       "      <td>weekly</td>\n",
       "      <td>2 hours</td>\n",
       "      <td>casual dating</td>\n",
       "      <td>4</td>\n",
       "      <td>safety concerns</td>\n",
       "      <td>detailed profiles</td>\n",
       "      <td>text</td>\n",
       "      <td>values &gt; personality &gt; appearance</td>\n",
       "      <td>120</td>\n",
       "    </tr>\n",
       "    <tr>\n",
       "      <th>3</th>\n",
       "      <td>4</td>\n",
       "      <td>22</td>\n",
       "      <td>non-binary</td>\n",
       "      <td>delhi</td>\n",
       "      <td>graduate</td>\n",
       "      <td>full-time job</td>\n",
       "      <td>okcupid</td>\n",
       "      <td>okcupid</td>\n",
       "      <td>daily</td>\n",
       "      <td>30 minutes</td>\n",
       "      <td>casual fun</td>\n",
       "      <td>3</td>\n",
       "      <td>safety concerns</td>\n",
       "      <td>ai recommendations</td>\n",
       "      <td>voice notes</td>\n",
       "      <td>personality &gt; interests &gt; values</td>\n",
       "      <td>0</td>\n",
       "    </tr>\n",
       "    <tr>\n",
       "      <th>4</th>\n",
       "      <td>5</td>\n",
       "      <td>18</td>\n",
       "      <td>male</td>\n",
       "      <td>delhi</td>\n",
       "      <td>graduate</td>\n",
       "      <td>intern</td>\n",
       "      <td>okcupid</td>\n",
       "      <td>okcupid</td>\n",
       "      <td>weekly</td>\n",
       "      <td>2 hours</td>\n",
       "      <td>casual fun</td>\n",
       "      <td>4</td>\n",
       "      <td>safety concerns</td>\n",
       "      <td>video calls</td>\n",
       "      <td>text</td>\n",
       "      <td>appearance &gt; interests &gt; personality</td>\n",
       "      <td>120</td>\n",
       "    </tr>\n",
       "    <tr>\n",
       "      <th>...</th>\n",
       "      <td>...</td>\n",
       "      <td>...</td>\n",
       "      <td>...</td>\n",
       "      <td>...</td>\n",
       "      <td>...</td>\n",
       "      <td>...</td>\n",
       "      <td>...</td>\n",
       "      <td>...</td>\n",
       "      <td>...</td>\n",
       "      <td>...</td>\n",
       "      <td>...</td>\n",
       "      <td>...</td>\n",
       "      <td>...</td>\n",
       "      <td>...</td>\n",
       "      <td>...</td>\n",
       "      <td>...</td>\n",
       "      <td>...</td>\n",
       "    </tr>\n",
       "    <tr>\n",
       "      <th>495</th>\n",
       "      <td>496</td>\n",
       "      <td>23</td>\n",
       "      <td>female</td>\n",
       "      <td>mumbai</td>\n",
       "      <td>undergraduate</td>\n",
       "      <td>intern</td>\n",
       "      <td>tinder</td>\n",
       "      <td>hinge</td>\n",
       "      <td>weekly</td>\n",
       "      <td>1.5 hours</td>\n",
       "      <td>casual dating</td>\n",
       "      <td>2</td>\n",
       "      <td>time-wasting</td>\n",
       "      <td>audio calls</td>\n",
       "      <td>voice notes</td>\n",
       "      <td>personality &gt; interests &gt; values</td>\n",
       "      <td>90</td>\n",
       "    </tr>\n",
       "    <tr>\n",
       "      <th>496</th>\n",
       "      <td>497</td>\n",
       "      <td>23</td>\n",
       "      <td>male</td>\n",
       "      <td>mumbai</td>\n",
       "      <td>postgraduate</td>\n",
       "      <td>intern</td>\n",
       "      <td>okcupid</td>\n",
       "      <td>tinder</td>\n",
       "      <td>daily</td>\n",
       "      <td>2 hours</td>\n",
       "      <td>casual fun</td>\n",
       "      <td>1</td>\n",
       "      <td>time-wasting</td>\n",
       "      <td>video calls</td>\n",
       "      <td>video calls</td>\n",
       "      <td>values &gt; personality &gt; appearance</td>\n",
       "      <td>120</td>\n",
       "    </tr>\n",
       "    <tr>\n",
       "      <th>497</th>\n",
       "      <td>498</td>\n",
       "      <td>22</td>\n",
       "      <td>male</td>\n",
       "      <td>hyderabad</td>\n",
       "      <td>graduate</td>\n",
       "      <td>freelancer</td>\n",
       "      <td>tinder</td>\n",
       "      <td>hinge</td>\n",
       "      <td>monthly</td>\n",
       "      <td>2 hours</td>\n",
       "      <td>casual fun</td>\n",
       "      <td>2</td>\n",
       "      <td>lack of genuine matches</td>\n",
       "      <td>video calls</td>\n",
       "      <td>voice notes</td>\n",
       "      <td>appearance &gt; interests &gt; personality</td>\n",
       "      <td>120</td>\n",
       "    </tr>\n",
       "    <tr>\n",
       "      <th>498</th>\n",
       "      <td>499</td>\n",
       "      <td>21</td>\n",
       "      <td>female</td>\n",
       "      <td>kolkata</td>\n",
       "      <td>graduate</td>\n",
       "      <td>student</td>\n",
       "      <td>tinder</td>\n",
       "      <td>hinge</td>\n",
       "      <td>daily</td>\n",
       "      <td>1.5 hours</td>\n",
       "      <td>casual dating</td>\n",
       "      <td>3</td>\n",
       "      <td>lack of genuine matches</td>\n",
       "      <td>detailed profiles</td>\n",
       "      <td>text</td>\n",
       "      <td>appearance &gt; interests &gt; personality</td>\n",
       "      <td>90</td>\n",
       "    </tr>\n",
       "    <tr>\n",
       "      <th>499</th>\n",
       "      <td>500</td>\n",
       "      <td>22</td>\n",
       "      <td>male</td>\n",
       "      <td>mumbai</td>\n",
       "      <td>graduate</td>\n",
       "      <td>part-time job</td>\n",
       "      <td>okcupid</td>\n",
       "      <td>hinge</td>\n",
       "      <td>weekly</td>\n",
       "      <td>1.5 hours</td>\n",
       "      <td>casual fun</td>\n",
       "      <td>2</td>\n",
       "      <td>time-wasting</td>\n",
       "      <td>ai recommendations</td>\n",
       "      <td>video calls</td>\n",
       "      <td>appearance &gt; interests &gt; personality</td>\n",
       "      <td>90</td>\n",
       "    </tr>\n",
       "  </tbody>\n",
       "</table>\n",
       "<p>500 rows × 17 columns</p>\n",
       "</div>"
      ],
      "text/plain": [
       "     User_ID  Age      Gender   Location      Education     Occupation  \\\n",
       "0          1   20  non-binary  bangalore  undergraduate     freelancer   \n",
       "1          2   24      female      delhi  undergraduate  part-time job   \n",
       "2          3   24  non-binary    kolkata  undergraduate         intern   \n",
       "3          4   22  non-binary      delhi       graduate  full-time job   \n",
       "4          5   18        male      delhi       graduate         intern   \n",
       "..       ...  ...         ...        ...            ...            ...   \n",
       "495      496   23      female     mumbai  undergraduate         intern   \n",
       "496      497   23        male     mumbai   postgraduate         intern   \n",
       "497      498   22        male  hyderabad       graduate     freelancer   \n",
       "498      499   21      female    kolkata       graduate        student   \n",
       "499      500   22        male     mumbai       graduate  part-time job   \n",
       "\n",
       "    Primary_App Secondary_Apps Usage_Frequency Daily_Usage_Time  \\\n",
       "0         hinge          hinge         monthly           1 hour   \n",
       "1         hinge        okcupid          weekly       30 minutes   \n",
       "2       okcupid        okcupid          weekly          2 hours   \n",
       "3       okcupid        okcupid           daily       30 minutes   \n",
       "4       okcupid        okcupid          weekly          2 hours   \n",
       "..          ...            ...             ...              ...   \n",
       "495      tinder          hinge          weekly        1.5 hours   \n",
       "496     okcupid         tinder           daily          2 hours   \n",
       "497      tinder          hinge         monthly          2 hours   \n",
       "498      tinder          hinge           daily        1.5 hours   \n",
       "499     okcupid          hinge          weekly        1.5 hours   \n",
       "\n",
       "      Reason_for_Using Satisfaction               Challenges  \\\n",
       "0    finding a partner            4          safety concerns   \n",
       "1        casual dating            5             time-wasting   \n",
       "2        casual dating            4          safety concerns   \n",
       "3           casual fun            3          safety concerns   \n",
       "4           casual fun            4          safety concerns   \n",
       "..                 ...          ...                      ...   \n",
       "495      casual dating            2             time-wasting   \n",
       "496         casual fun            1             time-wasting   \n",
       "497         casual fun            2  lack of genuine matches   \n",
       "498      casual dating            3  lack of genuine matches   \n",
       "499         casual fun            2             time-wasting   \n",
       "\n",
       "       Desired_Features Preferred_Communication  \\\n",
       "0           audio calls             video calls   \n",
       "1           video calls                    text   \n",
       "2     detailed profiles                    text   \n",
       "3    ai recommendations             voice notes   \n",
       "4           video calls                    text   \n",
       "..                  ...                     ...   \n",
       "495         audio calls             voice notes   \n",
       "496         video calls             video calls   \n",
       "497         video calls             voice notes   \n",
       "498   detailed profiles                    text   \n",
       "499  ai recommendations             video calls   \n",
       "\n",
       "                       Partner_Priorities Daily_Usage_Time_in_Minutes  \n",
       "0       values > personality > appearance                          60  \n",
       "1       values > personality > appearance                           0  \n",
       "2       values > personality > appearance                         120  \n",
       "3        personality > interests > values                           0  \n",
       "4    appearance > interests > personality                         120  \n",
       "..                                    ...                         ...  \n",
       "495      personality > interests > values                          90  \n",
       "496     values > personality > appearance                         120  \n",
       "497  appearance > interests > personality                         120  \n",
       "498  appearance > interests > personality                          90  \n",
       "499  appearance > interests > personality                          90  \n",
       "\n",
       "[500 rows x 17 columns]"
      ]
     },
     "execution_count": 26,
     "metadata": {},
     "output_type": "execute_result"
    }
   ],
   "source": [
    "df"
   ]
  },
  {
   "cell_type": "code",
   "execution_count": 27,
   "metadata": {},
   "outputs": [
    {
     "name": "stdout",
     "output_type": "stream",
     "text": [
      "<class 'pandas.core.frame.DataFrame'>\n",
      "RangeIndex: 500 entries, 0 to 499\n",
      "Data columns (total 17 columns):\n",
      " #   Column                       Non-Null Count  Dtype   \n",
      "---  ------                       --------------  -----   \n",
      " 0   User_ID                      500 non-null    int64   \n",
      " 1   Age                          500 non-null    int64   \n",
      " 2   Gender                       500 non-null    category\n",
      " 3   Location                     500 non-null    category\n",
      " 4   Education                    500 non-null    category\n",
      " 5   Occupation                   500 non-null    category\n",
      " 6   Primary_App                  500 non-null    category\n",
      " 7   Secondary_Apps               500 non-null    category\n",
      " 8   Usage_Frequency              500 non-null    category\n",
      " 9   Daily_Usage_Time             500 non-null    category\n",
      " 10  Reason_for_Using             500 non-null    category\n",
      " 11  Satisfaction                 500 non-null    category\n",
      " 12  Challenges                   500 non-null    category\n",
      " 13  Desired_Features             500 non-null    category\n",
      " 14  Preferred_Communication      500 non-null    category\n",
      " 15  Partner_Priorities           500 non-null    category\n",
      " 16  Daily_Usage_Time_in_Minutes  500 non-null    category\n",
      "dtypes: category(15), int64(2)\n",
      "memory usage: 18.0 KB\n"
     ]
    }
   ],
   "source": [
    "df.info()"
   ]
  },
  {
   "cell_type": "code",
   "execution_count": 28,
   "metadata": {},
   "outputs": [],
   "source": [
    "df[\"Daily_Usage_Time_in_Minutes\"] = df[\"Daily_Usage_Time_in_Minutes\"].astype(int)"
   ]
  },
  {
   "cell_type": "code",
   "execution_count": 29,
   "metadata": {},
   "outputs": [
    {
     "data": {
      "text/plain": [
       "<Axes: xlabel='Daily_Usage_Time_in_Minutes'>"
      ]
     },
     "execution_count": 29,
     "metadata": {},
     "output_type": "execute_result"
    },
    {
     "data": {
      "image/png": "[encoded data removed]",
      "text/plain": [
       "<Figure size 640x480 with 1 Axes>"
      ]
     },
     "metadata": {},
     "output_type": "display_data"
    }
   ],
   "source": [
    "sns.boxplot(data = df, x = df[\"Daily_Usage_Time_in_Minutes\"])"
   ]
  },
  {
   "cell_type": "code",
   "execution_count": 30,
   "metadata": {},
   "outputs": [],
   "source": [
    "df.to_csv(\"version_1.csv\", index=False)"
   ]
  },
  {
   "cell_type": "code",
   "execution_count": 31,
   "metadata": {},
   "outputs": [],
   "source": [
    "corr_matrix = df.corr(numeric_only=True)"
   ]
  },
  {
   "cell_type": "code",
   "execution_count": 32,
   "metadata": {},
   "outputs": [
    {
     "data": {
      "text/plain": [
       "<Axes: >"
      ]
     },
     "execution_count": 32,
     "metadata": {},
     "output_type": "execute_result"
    },
    {
     "data": {
      "image/png": "[encoded data removed]",
      "text/plain": [
       "<Figure size 1000x600 with 2 Axes>"
      ]
     },
     "metadata": {},
     "output_type": "display_data"
    }
   ],
   "source": [
    "plt.figure(figsize=(10,6))\n",
    "\n",
    "sns.heatmap(corr_matrix, annot=True)"
   ]
  },
  {
   "cell_type": "code",
   "execution_count": 33,
   "metadata": {},
   "outputs": [
    {
     "name": "stderr",
     "output_type": "stream",
     "text": [
      "/var/folders/jn/dvbsgr3506n5l2_jhv8b_fqm0000gn/T/ipykernel_31886/1968846052.py:1: FutureWarning: The default of observed=False is deprecated and will be changed to True in a future version of pandas. Pass observed=False to retain current behavior or observed=True to adopt the future default and silence this warning.\n",
      "  df.groupby([\"Gender\", \"Age\", \"Location\", \"Primary_App\"]).agg({\n"
     ]
    },
    {
     "data": {
      "text/html": [
       "<div>\n",
       "<style scoped>\n",
       "    .dataframe tbody tr th:only-of-type {\n",
       "        vertical-align: middle;\n",
       "    }\n",
       "\n",
       "    .dataframe tbody tr th {\n",
       "        vertical-align: top;\n",
       "    }\n",
       "\n",
       "    .dataframe thead tr th {\n",
       "        text-align: left;\n",
       "    }\n",
       "\n",
       "    .dataframe thead tr:last-of-type th {\n",
       "        text-align: right;\n",
       "    }\n",
       "</style>\n",
       "<table border=\"1\" class=\"dataframe\">\n",
       "  <thead>\n",
       "    <tr>\n",
       "      <th></th>\n",
       "      <th></th>\n",
       "      <th></th>\n",
       "      <th></th>\n",
       "      <th colspan=\"2\" halign=\"left\">Satisfaction</th>\n",
       "      <th colspan=\"2\" halign=\"left\">Daily_Usage_Time_in_Minutes</th>\n",
       "    </tr>\n",
       "    <tr>\n",
       "      <th></th>\n",
       "      <th></th>\n",
       "      <th></th>\n",
       "      <th></th>\n",
       "      <th>count</th>\n",
       "      <th>list</th>\n",
       "      <th>mean</th>\n",
       "      <th>sum</th>\n",
       "    </tr>\n",
       "    <tr>\n",
       "      <th>Gender</th>\n",
       "      <th>Age</th>\n",
       "      <th>Location</th>\n",
       "      <th>Primary_App</th>\n",
       "      <th></th>\n",
       "      <th></th>\n",
       "      <th></th>\n",
       "      <th></th>\n",
       "    </tr>\n",
       "  </thead>\n",
       "  <tbody>\n",
       "    <tr>\n",
       "      <th rowspan=\"5\" valign=\"top\">female</th>\n",
       "      <th rowspan=\"5\" valign=\"top\">18</th>\n",
       "      <th rowspan=\"4\" valign=\"top\">bangalore</th>\n",
       "      <th>bumble</th>\n",
       "      <td>1</td>\n",
       "      <td>[4]</td>\n",
       "      <td>0.0</td>\n",
       "      <td>0</td>\n",
       "    </tr>\n",
       "    <tr>\n",
       "      <th>hinge</th>\n",
       "      <td>1</td>\n",
       "      <td>[1]</td>\n",
       "      <td>60.0</td>\n",
       "      <td>60</td>\n",
       "    </tr>\n",
       "    <tr>\n",
       "      <th>okcupid</th>\n",
       "      <td>1</td>\n",
       "      <td>[4]</td>\n",
       "      <td>0.0</td>\n",
       "      <td>0</td>\n",
       "    </tr>\n",
       "    <tr>\n",
       "      <th>tinder</th>\n",
       "      <td>0</td>\n",
       "      <td>NaN</td>\n",
       "      <td>NaN</td>\n",
       "      <td>0</td>\n",
       "    </tr>\n",
       "    <tr>\n",
       "      <th>chennai</th>\n",
       "      <th>bumble</th>\n",
       "      <td>2</td>\n",
       "      <td>[5, 2]</td>\n",
       "      <td>180.0</td>\n",
       "      <td>360</td>\n",
       "    </tr>\n",
       "    <tr>\n",
       "      <th>...</th>\n",
       "      <th>...</th>\n",
       "      <th>...</th>\n",
       "      <th>...</th>\n",
       "      <td>...</td>\n",
       "      <td>...</td>\n",
       "      <td>...</td>\n",
       "      <td>...</td>\n",
       "    </tr>\n",
       "    <tr>\n",
       "      <th rowspan=\"5\" valign=\"top\">non-binary</th>\n",
       "      <th rowspan=\"5\" valign=\"top\">25</th>\n",
       "      <th>mumbai</th>\n",
       "      <th>tinder</th>\n",
       "      <td>0</td>\n",
       "      <td>NaN</td>\n",
       "      <td>NaN</td>\n",
       "      <td>0</td>\n",
       "    </tr>\n",
       "    <tr>\n",
       "      <th rowspan=\"4\" valign=\"top\">pune</th>\n",
       "      <th>bumble</th>\n",
       "      <td>1</td>\n",
       "      <td>[2]</td>\n",
       "      <td>0.0</td>\n",
       "      <td>0</td>\n",
       "    </tr>\n",
       "    <tr>\n",
       "      <th>hinge</th>\n",
       "      <td>1</td>\n",
       "      <td>[2]</td>\n",
       "      <td>120.0</td>\n",
       "      <td>120</td>\n",
       "    </tr>\n",
       "    <tr>\n",
       "      <th>okcupid</th>\n",
       "      <td>0</td>\n",
       "      <td>NaN</td>\n",
       "      <td>NaN</td>\n",
       "      <td>0</td>\n",
       "    </tr>\n",
       "    <tr>\n",
       "      <th>tinder</th>\n",
       "      <td>0</td>\n",
       "      <td>NaN</td>\n",
       "      <td>NaN</td>\n",
       "      <td>0</td>\n",
       "    </tr>\n",
       "  </tbody>\n",
       "</table>\n",
       "<p>672 rows × 4 columns</p>\n",
       "</div>"
      ],
      "text/plain": [
       "                                     Satisfaction          \\\n",
       "                                            count    list   \n",
       "Gender     Age Location  Primary_App                        \n",
       "female     18  bangalore bumble                 1     [4]   \n",
       "                         hinge                  1     [1]   \n",
       "                         okcupid                1     [4]   \n",
       "                         tinder                 0     NaN   \n",
       "               chennai   bumble                 2  [5, 2]   \n",
       "...                                           ...     ...   \n",
       "non-binary 25  mumbai    tinder                 0     NaN   \n",
       "               pune      bumble                 1     [2]   \n",
       "                         hinge                  1     [2]   \n",
       "                         okcupid                0     NaN   \n",
       "                         tinder                 0     NaN   \n",
       "\n",
       "                                     Daily_Usage_Time_in_Minutes       \n",
       "                                                            mean  sum  \n",
       "Gender     Age Location  Primary_App                                   \n",
       "female     18  bangalore bumble                              0.0    0  \n",
       "                         hinge                              60.0   60  \n",
       "                         okcupid                             0.0    0  \n",
       "                         tinder                              NaN    0  \n",
       "               chennai   bumble                            180.0  360  \n",
       "...                                                          ...  ...  \n",
       "non-binary 25  mumbai    tinder                              NaN    0  \n",
       "               pune      bumble                              0.0    0  \n",
       "                         hinge                             120.0  120  \n",
       "                         okcupid                             NaN    0  \n",
       "                         tinder                              NaN    0  \n",
       "\n",
       "[672 rows x 4 columns]"
      ]
     },
     "execution_count": 33,
     "metadata": {},
     "output_type": "execute_result"
    }
   ],
   "source": [
    "df.groupby([\"Gender\", \"Age\", \"Location\", \"Primary_App\"]).agg({\n",
    "    \"Satisfaction\": [\"count\", list],\n",
    "    \"Daily_Usage_Time_in_Minutes\" : [\"mean\", \"sum\"],\n",
    "    })"
   ]
  },
  {
   "cell_type": "code",
   "execution_count": 34,
   "metadata": {},
   "outputs": [
    {
     "name": "stderr",
     "output_type": "stream",
     "text": [
      "/var/folders/jn/dvbsgr3506n5l2_jhv8b_fqm0000gn/T/ipykernel_31886/1954966581.py:1: FutureWarning: The default value of observed=False is deprecated and will change to observed=True in a future version of pandas. Specify observed=False to silence this warning and retain the current behavior\n",
      "  df.pivot_table(\n",
      "/var/folders/jn/dvbsgr3506n5l2_jhv8b_fqm0000gn/T/ipykernel_31886/1954966581.py:1: FutureWarning: The provided callable <function mean at 0x104208ae0> is currently using SeriesGroupBy.mean. In a future version of pandas, the provided callable will be used directly. To keep current behavior pass the string \"mean\" instead.\n",
      "  df.pivot_table(\n",
      "/var/folders/jn/dvbsgr3506n5l2_jhv8b_fqm0000gn/T/ipykernel_31886/1954966581.py:1: FutureWarning: The provided callable <function sum at 0x1041d76a0> is currently using SeriesGroupBy.sum. In a future version of pandas, the provided callable will be used directly. To keep current behavior pass the string \"sum\" instead.\n",
      "  df.pivot_table(\n"
     ]
    },
    {
     "data": {
      "text/html": [
       "<div>\n",
       "<style scoped>\n",
       "    .dataframe tbody tr th:only-of-type {\n",
       "        vertical-align: middle;\n",
       "    }\n",
       "\n",
       "    .dataframe tbody tr th {\n",
       "        vertical-align: top;\n",
       "    }\n",
       "\n",
       "    .dataframe thead tr th {\n",
       "        text-align: left;\n",
       "    }\n",
       "\n",
       "    .dataframe thead tr:last-of-type th {\n",
       "        text-align: right;\n",
       "    }\n",
       "</style>\n",
       "<table border=\"1\" class=\"dataframe\">\n",
       "  <thead>\n",
       "    <tr>\n",
       "      <th></th>\n",
       "      <th></th>\n",
       "      <th></th>\n",
       "      <th colspan=\"2\" halign=\"left\">Daily_Usage_Time_in_Minutes</th>\n",
       "    </tr>\n",
       "    <tr>\n",
       "      <th></th>\n",
       "      <th></th>\n",
       "      <th></th>\n",
       "      <th>mean</th>\n",
       "      <th>sum</th>\n",
       "    </tr>\n",
       "    <tr>\n",
       "      <th>Gender</th>\n",
       "      <th>Age</th>\n",
       "      <th>Location</th>\n",
       "      <th></th>\n",
       "      <th></th>\n",
       "    </tr>\n",
       "  </thead>\n",
       "  <tbody>\n",
       "    <tr>\n",
       "      <th rowspan=\"5\" valign=\"top\">female</th>\n",
       "      <th rowspan=\"5\" valign=\"top\">18</th>\n",
       "      <th>bangalore</th>\n",
       "      <td>20.0</td>\n",
       "      <td>60</td>\n",
       "    </tr>\n",
       "    <tr>\n",
       "      <th>chennai</th>\n",
       "      <td>180.0</td>\n",
       "      <td>360</td>\n",
       "    </tr>\n",
       "    <tr>\n",
       "      <th>delhi</th>\n",
       "      <td>30.0</td>\n",
       "      <td>60</td>\n",
       "    </tr>\n",
       "    <tr>\n",
       "      <th>hyderabad</th>\n",
       "      <td>120.0</td>\n",
       "      <td>360</td>\n",
       "    </tr>\n",
       "    <tr>\n",
       "      <th>kolkata</th>\n",
       "      <td>100.0</td>\n",
       "      <td>300</td>\n",
       "    </tr>\n",
       "    <tr>\n",
       "      <th>...</th>\n",
       "      <th>...</th>\n",
       "      <th>...</th>\n",
       "      <td>...</td>\n",
       "      <td>...</td>\n",
       "    </tr>\n",
       "    <tr>\n",
       "      <th rowspan=\"5\" valign=\"top\">non-binary</th>\n",
       "      <th rowspan=\"5\" valign=\"top\">25</th>\n",
       "      <th>delhi</th>\n",
       "      <td>127.5</td>\n",
       "      <td>510</td>\n",
       "    </tr>\n",
       "    <tr>\n",
       "      <th>hyderabad</th>\n",
       "      <td>150.0</td>\n",
       "      <td>750</td>\n",
       "    </tr>\n",
       "    <tr>\n",
       "      <th>kolkata</th>\n",
       "      <td>30.0</td>\n",
       "      <td>60</td>\n",
       "    </tr>\n",
       "    <tr>\n",
       "      <th>mumbai</th>\n",
       "      <td>NaN</td>\n",
       "      <td>0</td>\n",
       "    </tr>\n",
       "    <tr>\n",
       "      <th>pune</th>\n",
       "      <td>60.0</td>\n",
       "      <td>120</td>\n",
       "    </tr>\n",
       "  </tbody>\n",
       "</table>\n",
       "<p>168 rows × 2 columns</p>\n",
       "</div>"
      ],
      "text/plain": [
       "                         Daily_Usage_Time_in_Minutes     \n",
       "                                                mean  sum\n",
       "Gender     Age Location                                  \n",
       "female     18  bangalore                        20.0   60\n",
       "               chennai                         180.0  360\n",
       "               delhi                            30.0   60\n",
       "               hyderabad                       120.0  360\n",
       "               kolkata                         100.0  300\n",
       "...                                              ...  ...\n",
       "non-binary 25  delhi                           127.5  510\n",
       "               hyderabad                       150.0  750\n",
       "               kolkata                          30.0   60\n",
       "               mumbai                            NaN    0\n",
       "               pune                             60.0  120\n",
       "\n",
       "[168 rows x 2 columns]"
      ]
     },
     "execution_count": 34,
     "metadata": {},
     "output_type": "execute_result"
    }
   ],
   "source": [
    "df.pivot_table(\n",
    "    values=[\"Daily_Usage_Time_in_Minutes\"],\n",
    "    index=[\"Gender\", \"Age\", \"Location\"],\n",
    "    aggfunc={\"Daily_Usage_Time_in_Minutes\": [np.mean, np.sum]},\n",
    ")"
   ]
  },
  {
   "cell_type": "code",
   "execution_count": 35,
   "metadata": {},
   "outputs": [
    {
     "name": "stderr",
     "output_type": "stream",
     "text": [
      "/var/folders/jn/dvbsgr3506n5l2_jhv8b_fqm0000gn/T/ipykernel_31886/2732030442.py:1: FutureWarning: The default of observed=False is deprecated and will be changed to True in a future version of pandas. Pass observed=False to retain current behavior or observed=True to adopt the future default and silence this warning.\n",
      "  app_usage = df.groupby([\"Primary_App\", \"Gender\"]).size().unstack(fill_value=0)\n"
     ]
    }
   ],
   "source": [
    "app_usage = df.groupby([\"Primary_App\", \"Gender\"]).size().unstack(fill_value=0)\n"
   ]
  },
  {
   "cell_type": "code",
   "execution_count": 36,
   "metadata": {},
   "outputs": [
    {
     "data": {
      "text/plain": [
       "<Axes: xlabel='Primary_App'>"
      ]
     },
     "execution_count": 36,
     "metadata": {},
     "output_type": "execute_result"
    },
    {
     "data": {
      "image/png": "[encoded data removed]",
      "text/plain": [
       "<Figure size 640x480 with 1 Axes>"
      ]
     },
     "metadata": {},
     "output_type": "display_data"
    }
   ],
   "source": [
    "app_usage.plot(kind=\"bar\", stacked=True)"
   ]
  },
  {
   "cell_type": "code",
   "execution_count": 37,
   "metadata": {},
   "outputs": [],
   "source": [
    "age_counts = df[\"Age\"].value_counts().sort_index()"
   ]
  },
  {
   "cell_type": "code",
   "execution_count": 38,
   "metadata": {},
   "outputs": [
    {
     "data": {
      "text/plain": [
       "Text(0.5, 1.0, 'Most Active Age Groups on Dating Apps')"
      ]
     },
     "execution_count": 38,
     "metadata": {},
     "output_type": "execute_result"
    },
    {
     "data": {
      "image/png": "[encoded data removed]",
      "text/plain": [
       "<Figure size 640x480 with 1 Axes>"
      ]
     },
     "metadata": {},
     "output_type": "display_data"
    }
   ],
   "source": [
    "sns.barplot(x = age_counts.index, y = age_counts.values)\n",
    "plt.xlabel(\"Age Group\")\n",
    "plt.ylabel(\"Number of Users\")\n",
    "plt.title(\"Most Active Age Groups on Dating Apps\")"
   ]
  },
  {
   "cell_type": "code",
   "execution_count": 39,
   "metadata": {},
   "outputs": [
    {
     "data": {
      "text/plain": [
       "Location\n",
       "mumbai       82\n",
       "delhi        76\n",
       "kolkata      76\n",
       "bangalore    69\n",
       "pune         67\n",
       "chennai      66\n",
       "hyderabad    64\n",
       "Name: count, dtype: int64"
      ]
     },
     "execution_count": 39,
     "metadata": {},
     "output_type": "execute_result"
    }
   ],
   "source": [
    "df[\"Location\"].value_counts()"
   ]
  },
  {
   "cell_type": "markdown",
   "metadata": {},
   "source": [
    "### All the cities in the dataset are urban cities"
   ]
  },
  {
   "cell_type": "code",
   "execution_count": 40,
   "metadata": {},
   "outputs": [
    {
     "data": {
      "text/plain": [
       "<Axes: xlabel='Gender', ylabel='count'>"
      ]
     },
     "execution_count": 40,
     "metadata": {},
     "output_type": "execute_result"
    },
    {
     "data": {
      "image/png": "[encoded data removed]",
      "text/plain": [
       "<Figure size 640x480 with 1 Axes>"
      ]
     },
     "metadata": {},
     "output_type": "display_data"
    }
   ],
   "source": [
    "sns.countplot(data = df, x = \"Gender\")"
   ]
  },
  {
   "cell_type": "code",
   "execution_count": 41,
   "metadata": {},
   "outputs": [
    {
     "data": {
      "text/plain": [
       "<Axes: xlabel='Daily_Usage_Time_in_Minutes', ylabel='Density'>"
      ]
     },
     "execution_count": 41,
     "metadata": {},
     "output_type": "execute_result"
    },
    {
     "data": {
      "image/png": "[encoded data removed]",
      "text/plain": [
       "<Figure size 640x480 with 1 Axes>"
      ]
     },
     "metadata": {},
     "output_type": "display_data"
    }
   ],
   "source": [
    "sns.kdeplot(data = df, x =\"Daily_Usage_Time_in_Minutes\", hue =\"Gender\")\n"
   ]
  },
  {
   "cell_type": "code",
   "execution_count": 42,
   "metadata": {},
   "outputs": [
    {
     "data": {
      "text/plain": [
       "<Axes: xlabel='Age', ylabel='Count'>"
      ]
     },
     "execution_count": 42,
     "metadata": {},
     "output_type": "execute_result"
    },
    {
     "data": {
      "image/png": "[encoded data removed]",
      "text/plain": [
       "<Figure size 640x480 with 1 Axes>"
      ]
     },
     "metadata": {},
     "output_type": "display_data"
    }
   ],
   "source": [
    "sns.histplot(data=df, x=\"Age\", hue=\"Gender\")"
   ]
  },
  {
   "cell_type": "code",
   "execution_count": 43,
   "metadata": {},
   "outputs": [
    {
     "data": {
      "text/plain": [
       "Age\n",
       "24    14.8\n",
       "23    14.6\n",
       "19    13.4\n",
       "22    12.6\n",
       "21    12.2\n",
       "18    11.4\n",
       "25    10.8\n",
       "20    10.2\n",
       "Name: proportion, dtype: float64"
      ]
     },
     "execution_count": 43,
     "metadata": {},
     "output_type": "execute_result"
    }
   ],
   "source": [
    "df[\"Age\"].value_counts(normalize=True)*100"
   ]
  },
  {
   "cell_type": "code",
   "execution_count": 44,
   "metadata": {},
   "outputs": [
    {
     "data": {
      "text/plain": [
       "<Axes: xlabel='Age', ylabel='count'>"
      ]
     },
     "execution_count": 44,
     "metadata": {},
     "output_type": "execute_result"
    },
    {
     "data": {
      "image/png": "[encoded data removed]",
      "text/plain": [
       "<Figure size 640x480 with 1 Axes>"
      ]
     },
     "metadata": {},
     "output_type": "display_data"
    }
   ],
   "source": [
    "sns.countplot(data = df, x = \"Age\")"
   ]
  },
  {
   "cell_type": "code",
   "execution_count": 45,
   "metadata": {},
   "outputs": [
    {
     "data": {
      "text/plain": [
       "Location\n",
       "mumbai       16.4\n",
       "delhi        15.2\n",
       "kolkata      15.2\n",
       "bangalore    13.8\n",
       "pune         13.4\n",
       "chennai      13.2\n",
       "hyderabad    12.8\n",
       "Name: proportion, dtype: float64"
      ]
     },
     "execution_count": 45,
     "metadata": {},
     "output_type": "execute_result"
    }
   ],
   "source": [
    "df[\"Location\"].value_counts(normalize=True) *100"
   ]
  },
  {
   "cell_type": "code",
   "execution_count": 46,
   "metadata": {},
   "outputs": [
    {
     "data": {
      "text/plain": [
       "<Axes: xlabel='Location', ylabel='count'>"
      ]
     },
     "execution_count": 46,
     "metadata": {},
     "output_type": "execute_result"
    },
    {
     "data": {
      "image/png": "[encoded data removed]",
      "text/plain": [
       "<Figure size 640x480 with 1 Axes>"
      ]
     },
     "metadata": {},
     "output_type": "display_data"
    }
   ],
   "source": [
    "sns.countplot(data=df, x=\"Location\")"
   ]
  },
  {
   "cell_type": "code",
   "execution_count": 47,
   "metadata": {},
   "outputs": [
    {
     "data": {
      "text/plain": [
       "Gender\n",
       "female        35.2\n",
       "male          34.2\n",
       "non-binary    30.6\n",
       "Name: proportion, dtype: float64"
      ]
     },
     "execution_count": 47,
     "metadata": {},
     "output_type": "execute_result"
    }
   ],
   "source": [
    "df[\"Gender\"].value_counts(normalize=True)*100"
   ]
  },
  {
   "cell_type": "code",
   "execution_count": 48,
   "metadata": {},
   "outputs": [
    {
     "data": {
      "text/plain": [
       "<Axes: xlabel='Gender', ylabel='count'>"
      ]
     },
     "execution_count": 48,
     "metadata": {},
     "output_type": "execute_result"
    },
    {
     "data": {
      "image/png": "[encoded data removed]",
      "text/plain": [
       "<Figure size 640x480 with 1 Axes>"
      ]
     },
     "metadata": {},
     "output_type": "display_data"
    }
   ],
   "source": [
    "sns.countplot(data=df, x= \"Gender\")"
   ]
  },
  {
   "cell_type": "markdown",
   "metadata": {},
   "source": [
    "### Since there is no much variability in the demographics of the dataset (Age, Location and Gender), no group is being overrepresented or underrepresented"
   ]
  },
  {
   "cell_type": "code",
   "execution_count": 49,
   "metadata": {},
   "outputs": [
    {
     "data": {
      "text/plain": [
       "Text(0.5, 1.0, 'Daily Usage Time Across Different Age Groups')"
      ]
     },
     "execution_count": 49,
     "metadata": {},
     "output_type": "execute_result"
    },
    {
     "data": {
      "image/png": "[encoded data removed]",
      "text/plain": [
       "<Figure size 640x480 with 1 Axes>"
      ]
     },
     "metadata": {},
     "output_type": "display_data"
    }
   ],
   "source": [
    "sns.boxplot(data=df, x=\"Age\", y=\"Daily_Usage_Time_in_Minutes\")\n",
    "plt.title(\"Daily Usage Time Across Different Age Groups\")"
   ]
  },
  {
   "cell_type": "code",
   "execution_count": 50,
   "metadata": {},
   "outputs": [],
   "source": [
    "age_mean = df.groupby(\"Age\")[\"Daily_Usage_Time_in_Minutes\"].mean()\n"
   ]
  },
  {
   "cell_type": "code",
   "execution_count": 51,
   "metadata": {},
   "outputs": [
    {
     "data": {
      "text/plain": [
       "<Axes: xlabel='Age', ylabel='Daily_Usage_Time_in_Minutes'>"
      ]
     },
     "execution_count": 51,
     "metadata": {},
     "output_type": "execute_result"
    },
    {
     "data": {
      "image/png": "[encoded data removed]",
      "text/plain": [
       "<Figure size 640x480 with 1 Axes>"
      ]
     },
     "metadata": {},
     "output_type": "display_data"
    }
   ],
   "source": [
    "sns.lineplot(data=df, x=\"Age\", y=age_mean, marker=\"o\")"
   ]
  },
  {
   "cell_type": "code",
   "execution_count": 52,
   "metadata": {},
   "outputs": [
    {
     "name": "stderr",
     "output_type": "stream",
     "text": [
      "/var/folders/jn/dvbsgr3506n5l2_jhv8b_fqm0000gn/T/ipykernel_31886/3881915828.py:1: FutureWarning: The default of observed=False is deprecated and will be changed to True in a future version of pandas. Pass observed=False to retain current behavior or observed=True to adopt the future default and silence this warning.\n",
      "  app_trend = df.groupby([\"Age\", \"Primary_App\"]).size().unstack()\n"
     ]
    }
   ],
   "source": [
    "app_trend = df.groupby([\"Age\", \"Primary_App\"]).size().unstack()\n"
   ]
  },
  {
   "cell_type": "code",
   "execution_count": 53,
   "metadata": {},
   "outputs": [
    {
     "data": {
      "text/plain": [
       "Text(0, 0.5, 'Number of Users')"
      ]
     },
     "execution_count": 53,
     "metadata": {},
     "output_type": "execute_result"
    },
    {
     "data": {
      "image/png": "[encoded data removed]",
      "text/plain": [
       "<Figure size 640x480 with 1 Axes>"
      ]
     },
     "metadata": {},
     "output_type": "display_data"
    }
   ],
   "source": [
    "app_trend.plot(kind=\"line\", marker=\"o\")\n",
    "plt.title(\"Dating App Preferences Across Age Groups\")\n",
    "plt.xlabel(\"Age\")\n",
    "plt.ylabel(\"Number of Users\")\n"
   ]
  },
  {
   "cell_type": "code",
   "execution_count": 54,
   "metadata": {},
   "outputs": [
    {
     "data": {
      "text/plain": [
       "Location\n",
       "mumbai       82\n",
       "delhi        76\n",
       "kolkata      76\n",
       "bangalore    69\n",
       "pune         67\n",
       "chennai      66\n",
       "hyderabad    64\n",
       "Name: count, dtype: int64"
      ]
     },
     "execution_count": 54,
     "metadata": {},
     "output_type": "execute_result"
    }
   ],
   "source": [
    "df[\"Location\"].value_counts()"
   ]
  },
  {
   "cell_type": "markdown",
   "metadata": {},
   "source": [
    "### All the cities in the dataset are metro (urban) cities"
   ]
  },
  {
   "cell_type": "code",
   "execution_count": 55,
   "metadata": {},
   "outputs": [
    {
     "name": "stderr",
     "output_type": "stream",
     "text": [
      "/var/folders/jn/dvbsgr3506n5l2_jhv8b_fqm0000gn/T/ipykernel_31886/293323977.py:1: FutureWarning: The default of observed=False is deprecated and will be changed to True in a future version of pandas. Pass observed=False to retain current behavior or observed=True to adopt the future default and silence this warning.\n",
      "  city_usage = df.groupby(\"Location\")[\"Daily_Usage_Time_in_Minutes\"].mean().reset_index()\n"
     ]
    }
   ],
   "source": [
    "city_usage = df.groupby(\"Location\")[\"Daily_Usage_Time_in_Minutes\"].mean().reset_index()\n"
   ]
  },
  {
   "cell_type": "code",
   "execution_count": 58,
   "metadata": {},
   "outputs": [],
   "source": [
    "import plotly.express as px"
   ]
  },
  {
   "cell_type": "code",
   "execution_count": 63,
   "metadata": {},
   "outputs": [],
   "source": [
    "city_lat_lon = {\n",
    "    \"mumbai\": [19.0760, 72.8777],\n",
    "    \"delhi\": [28.7041, 77.1025],\n",
    "    \"kolkata\": [22.5726, 88.3639],\n",
    "    \"bangalore\": [12.9716, 77.5946],\n",
    "    \"pune\": [18.5204, 73.8567],\n",
    "    \"chennai\": [13.0827, 80.2707],\n",
    "    \"hyderabad\": [17.3850, 78.4867]\n",
    "}\n",
    "\n",
    "df[\"Latitude\"] = df[\"Location\"].map(lambda x: city_lat_lon.get(x, [None, None])[0])\n",
    "df[\"Longitude\"] = df[\"Location\"].map(lambda x: city_lat_lon.get(x, [None, None])[1])\n",
    "\n",
    "\n",
    "\n",
    "\n",
    "\n"
   ]
  },
  {
   "cell_type": "code",
   "execution_count": 64,
   "metadata": {},
   "outputs": [
    {
     "data": {
      "application/vnd.plotly.v1+json": {
       "config": {
        "plotlyServerURL": "https://plot.ly"
       },
       "data": [
        {
         "geo": "geo",
         "hovertemplate": "Daily_Usage_Time_in_Minutes=%{marker.color}<br>Location=%{text}<br>Latitude=%{lat}<br>Longitude=%{lon}<extra></extra>",
         "lat": {
          "bdata": "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",
          "dtype": "f8"
         },
         "legendgroup": "",
         "lon": {
          "bdata": "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",
          "dtype": "f8"
         },
         "marker": {
          "color": {
           "bdata": "PAAAAHgAAAB4AFoAAABaAHgAtAA8ALQAPAB4AFoAWgA8ADwAAABaALQAtAC0AHgAeAC0ALQAeAC0ALQAAAA8AAAAtAB4AAAAPABaADwAPABaAHgAeAB4AFoAeABaAHgAAAAAADwAtABaALQAtABaAFoAeAC0ALQAAAB4AFoAPAB4AFoAeAA8ALQAtAB4AHgAtAC0AAAAAABaAFoAPAAAADwAPAB4AFoAeAA8ALQAPAC0ALQAeAB4AAAAtAC0AHgAWgAAAFoAtABaALQAAAA8AFoAeAAAAFoAeAB4AHgAWgA8ADwAeABaAHgAAAC0AHgAPAAAAFoAeABaAAAAtAA8ADwAAAB4AFoAAABaADwAPAC0AAAAtAA8AFoAPAAAALQAtAB4AAAAtABaAHgAtAAAALQAeAAAADwAWgC0AHgAPAC0AFoAtAC0ADwAPAC0ALQAAAB4AHgAAAAAAHgAAABaAHgAPABaADwAPAAAAAAAAABaADwAAAB4AHgAWgB4AHgAAAA8AFoAPAB4ALQAeAAAAFoAtAAAAFoAeAA8AHgAeAA8AHgAtAB4ADwAeAC0AAAAPABaAFoAeAC0ADwAWgB4AHgAeAA8AFoAWgA8AHgAAAAAAAAAeAB4AFoAtAC0AHgAWgBaAFoAtAC0AAAAtAAAADwAtAC0ADwAWgA8AAAAWgB4AFoAPAAAADwAPABaAHgAPAAAAFoAWgAAAFoAtAB4ADwAAAA8AHgAtABaADwAtABaALQAtAA8AAAAAAC0AAAAPAA8ALQAPABaADwAtAC0ALQAPABaAFoAtAA8AAAAPABaAFoAtAA8AFoAtAAAAFoAeAAAADwAeAB4AFoAeAB4AHgAWgAAAAAAtABaADwAeAA8AHgAtAAAAAAAWgBaALQAeAC0ALQAeABaAFoAeAC0AHgAPAA8AHgAWgBaAAAAAAB4AAAAPAC0ADwAtAAAAHgAPAAAAHgAWgB4AFoAWgBaADwAeAA8ADwAPAB4AFoAWgC0AAAAWgA8AHgAPAAAAFoAAAB4ADwAtAC0AFoAWgA8AFoAPAC0AHgAeABaAHgAPAA8ALQAeAA8ALQAWgC0AFoAPABaAAAAAAA8ALQAeAAAALQAWgAAALQAAAAAAFoAAAA8AFoAeAA8ALQAWgB4ALQAeABaAHgAPAC0ADwAAABaAHgAAAB4ADwAWgC0ALQAAAB4AHgAPABaAAAAeAC0ADwAWgC0ALQAeAAAAFoAtAA8AFoAPAA8AFoAtAAAADwAAAC0ALQAWgAAAFoAAABaALQAWgC0AAAAtAAAAAAAtABaALQAWgC0ADwAeAAAAAAAWgB4AHgAWgBaAA==",
           "dtype": "i2"
          },
          "coloraxis": "coloraxis",
          "size": {
           "bdata": "PAAAAHgAAAB4AFoAAABaAHgAtAA8ALQAPAB4AFoAWgA8ADwAAABaALQAtAC0AHgAeAC0ALQAeAC0ALQAAAA8AAAAtAB4AAAAPABaADwAPABaAHgAeAB4AFoAeABaAHgAAAAAADwAtABaALQAtABaAFoAeAC0ALQAAAB4AFoAPAB4AFoAeAA8ALQAtAB4AHgAtAC0AAAAAABaAFoAPAAAADwAPAB4AFoAeAA8ALQAPAC0ALQAeAB4AAAAtAC0AHgAWgAAAFoAtABaALQAAAA8AFoAeAAAAFoAeAB4AHgAWgA8ADwAeABaAHgAAAC0AHgAPAAAAFoAeABaAAAAtAA8ADwAAAB4AFoAAABaADwAPAC0AAAAtAA8AFoAPAAAALQAtAB4AAAAtABaAHgAtAAAALQAeAAAADwAWgC0AHgAPAC0AFoAtAC0ADwAPAC0ALQAAAB4AHgAAAAAAHgAAABaAHgAPABaADwAPAAAAAAAAABaADwAAAB4AHgAWgB4AHgAAAA8AFoAPAB4ALQAeAAAAFoAtAAAAFoAeAA8AHgAeAA8AHgAtAB4ADwAeAC0AAAAPABaAFoAeAC0ADwAWgB4AHgAeAA8AFoAWgA8AHgAAAAAAAAAeAB4AFoAtAC0AHgAWgBaAFoAtAC0AAAAtAAAADwAtAC0ADwAWgA8AAAAWgB4AFoAPAAAADwAPABaAHgAPAAAAFoAWgAAAFoAtAB4ADwAAAA8AHgAtABaADwAtABaALQAtAA8AAAAAAC0AAAAPAA8ALQAPABaADwAtAC0ALQAPABaAFoAtAA8AAAAPABaAFoAtAA8AFoAtAAAAFoAeAAAADwAeAB4AFoAeAB4AHgAWgAAAAAAtABaADwAeAA8AHgAtAAAAAAAWgBaALQAeAC0ALQAeABaAFoAeAC0AHgAPAA8AHgAWgBaAAAAAAB4AAAAPAC0ADwAtAAAAHgAPAAAAHgAWgB4AFoAWgBaADwAeAA8ADwAPAB4AFoAWgC0AAAAWgA8AHgAPAAAAFoAAAB4ADwAtAC0AFoAWgA8AFoAPAC0AHgAeABaAHgAPAA8ALQAeAA8ALQAWgC0AFoAPABaAAAAAAA8ALQAeAAAALQAWgAAALQAAAAAAFoAAAA8AFoAeAA8ALQAWgB4ALQAeABaAHgAPAC0ADwAAABaAHgAAAB4ADwAWgC0ALQAAAB4AHgAPABaAAAAeAC0ADwAWgC0ALQAeAAAAFoAtAA8AFoAPAA8AFoAtAAAADwAAAC0ALQAWgAAAFoAAABaALQAWgC0AAAAtAAAAAAAtABaALQAWgC0ADwAeAAAAAAAWgB4AHgAWgBaAA==",
           "dtype": "i2"
          },
          "sizemode": "area",
          "sizeref": 0.45,
          "symbol": "circle"
         },
         "mode": "markers+text",
         "name": "",
         "showlegend": false,
         "text": [
          "bangalore",
          "delhi",
          "kolkata",
          "delhi",
          "delhi",
          "mumbai",
          "chennai",
          "pune",
          "pune",
          "chennai",
          "hyderabad",
          "delhi",
          "bangalore",
          "bangalore",
          "chennai",
          "bangalore",
          "hyderabad",
          "hyderabad",
          "hyderabad",
          "pune",
          "mumbai",
          "hyderabad",
          "pune",
          "delhi",
          "bangalore",
          "kolkata",
          "delhi",
          "kolkata",
          "chennai",
          "mumbai",
          "bangalore",
          "bangalore",
          "delhi",
          "kolkata",
          "delhi",
          "mumbai",
          "kolkata",
          "mumbai",
          "delhi",
          "kolkata",
          "bangalore",
          "pune",
          "bangalore",
          "delhi",
          "delhi",
          "hyderabad",
          "kolkata",
          "bangalore",
          "bangalore",
          "kolkata",
          "pune",
          "delhi",
          "mumbai",
          "delhi",
          "mumbai",
          "mumbai",
          "delhi",
          "mumbai",
          "pune",
          "chennai",
          "bangalore",
          "bangalore",
          "chennai",
          "delhi",
          "kolkata",
          "chennai",
          "pune",
          "bangalore",
          "delhi",
          "hyderabad",
          "bangalore",
          "kolkata",
          "delhi",
          "bangalore",
          "chennai",
          "chennai",
          "mumbai",
          "delhi",
          "pune",
          "bangalore",
          "delhi",
          "chennai",
          "mumbai",
          "hyderabad",
          "pune",
          "delhi",
          "pune",
          "delhi",
          "hyderabad",
          "hyderabad",
          "mumbai",
          "hyderabad",
          "pune",
          "chennai",
          "mumbai",
          "delhi",
          "delhi",
          "chennai",
          "kolkata",
          "hyderabad",
          "hyderabad",
          "kolkata",
          "delhi",
          "chennai",
          "delhi",
          "delhi",
          "mumbai",
          "kolkata",
          "bangalore",
          "bangalore",
          "bangalore",
          "pune",
          "chennai",
          "chennai",
          "hyderabad",
          "kolkata",
          "delhi",
          "chennai",
          "delhi",
          "chennai",
          "delhi",
          "bangalore",
          "bangalore",
          "bangalore",
          "delhi",
          "chennai",
          "mumbai",
          "pune",
          "mumbai",
          "mumbai",
          "chennai",
          "bangalore",
          "pune",
          "pune",
          "kolkata",
          "kolkata",
          "chennai",
          "bangalore",
          "delhi",
          "chennai",
          "bangalore",
          "pune",
          "mumbai",
          "hyderabad",
          "chennai",
          "kolkata",
          "hyderabad",
          "delhi",
          "bangalore",
          "hyderabad",
          "mumbai",
          "pune",
          "hyderabad",
          "delhi",
          "bangalore",
          "pune",
          "hyderabad",
          "hyderabad",
          "chennai",
          "hyderabad",
          "bangalore",
          "kolkata",
          "kolkata",
          "pune",
          "bangalore",
          "hyderabad",
          "hyderabad",
          "bangalore",
          "bangalore",
          "delhi",
          "delhi",
          "chennai",
          "delhi",
          "mumbai",
          "kolkata",
          "bangalore",
          "mumbai",
          "delhi",
          "kolkata",
          "hyderabad",
          "bangalore",
          "pune",
          "kolkata",
          "delhi",
          "kolkata",
          "kolkata",
          "kolkata",
          "pune",
          "pune",
          "delhi",
          "hyderabad",
          "mumbai",
          "chennai",
          "hyderabad",
          "mumbai",
          "pune",
          "delhi",
          "hyderabad",
          "delhi",
          "bangalore",
          "delhi",
          "chennai",
          "kolkata",
          "chennai",
          "chennai",
          "hyderabad",
          "delhi",
          "kolkata",
          "mumbai",
          "mumbai",
          "bangalore",
          "kolkata",
          "pune",
          "mumbai",
          "delhi",
          "hyderabad",
          "chennai",
          "hyderabad",
          "mumbai",
          "hyderabad",
          "pune",
          "delhi",
          "bangalore",
          "hyderabad",
          "bangalore",
          "hyderabad",
          "kolkata",
          "pune",
          "pune",
          "bangalore",
          "mumbai",
          "mumbai",
          "mumbai",
          "chennai",
          "chennai",
          "hyderabad",
          "mumbai",
          "bangalore",
          "mumbai",
          "chennai",
          "mumbai",
          "chennai",
          "hyderabad",
          "chennai",
          "pune",
          "mumbai",
          "kolkata",
          "hyderabad",
          "bangalore",
          "mumbai",
          "pune",
          "bangalore",
          "chennai",
          "mumbai",
          "pune",
          "bangalore",
          "chennai",
          "pune",
          "bangalore",
          "delhi",
          "pune",
          "pune",
          "chennai",
          "kolkata",
          "bangalore",
          "bangalore",
          "chennai",
          "hyderabad",
          "bangalore",
          "mumbai",
          "pune",
          "hyderabad",
          "kolkata",
          "kolkata",
          "mumbai",
          "mumbai",
          "delhi",
          "chennai",
          "mumbai",
          "kolkata",
          "pune",
          "mumbai",
          "mumbai",
          "bangalore",
          "kolkata",
          "kolkata",
          "hyderabad",
          "hyderabad",
          "pune",
          "kolkata",
          "pune",
          "mumbai",
          "pune",
          "chennai",
          "delhi",
          "mumbai",
          "mumbai",
          "pune",
          "pune",
          "mumbai",
          "delhi",
          "hyderabad",
          "hyderabad",
          "chennai",
          "mumbai",
          "mumbai",
          "kolkata",
          "pune",
          "mumbai",
          "mumbai",
          "kolkata",
          "delhi",
          "pune",
          "kolkata",
          "delhi",
          "kolkata",
          "kolkata",
          "mumbai",
          "pune",
          "kolkata",
          "mumbai",
          "chennai",
          "delhi",
          "pune",
          "bangalore",
          "bangalore",
          "kolkata",
          "pune",
          "kolkata",
          "pune",
          "bangalore",
          "chennai",
          "delhi",
          "delhi",
          "hyderabad",
          "hyderabad",
          "kolkata",
          "delhi",
          "pune",
          "delhi",
          "kolkata",
          "hyderabad",
          "mumbai",
          "bangalore",
          "pune",
          "pune",
          "pune",
          "pune",
          "delhi",
          "mumbai",
          "kolkata",
          "mumbai",
          "kolkata",
          "bangalore",
          "bangalore",
          "hyderabad",
          "mumbai",
          "kolkata",
          "mumbai",
          "pune",
          "chennai",
          "kolkata",
          "pune",
          "hyderabad",
          "chennai",
          "hyderabad",
          "mumbai",
          "delhi",
          "bangalore",
          "bangalore",
          "chennai",
          "kolkata",
          "hyderabad",
          "chennai",
          "mumbai",
          "delhi",
          "bangalore",
          "kolkata",
          "kolkata",
          "pune",
          "kolkata",
          "mumbai",
          "bangalore",
          "kolkata",
          "chennai",
          "hyderabad",
          "kolkata",
          "pune",
          "mumbai",
          "hyderabad",
          "kolkata",
          "bangalore",
          "delhi",
          "kolkata",
          "mumbai",
          "delhi",
          "mumbai",
          "delhi",
          "mumbai",
          "chennai",
          "delhi",
          "kolkata",
          "pune",
          "mumbai",
          "kolkata",
          "mumbai",
          "bangalore",
          "kolkata",
          "pune",
          "bangalore",
          "pune",
          "delhi",
          "kolkata",
          "chennai",
          "chennai",
          "pune",
          "bangalore",
          "hyderabad",
          "chennai",
          "mumbai",
          "kolkata",
          "kolkata",
          "bangalore",
          "mumbai",
          "mumbai",
          "bangalore",
          "hyderabad",
          "delhi",
          "bangalore",
          "chennai",
          "hyderabad",
          "delhi",
          "chennai",
          "delhi",
          "bangalore",
          "kolkata",
          "mumbai",
          "pune",
          "kolkata",
          "hyderabad",
          "bangalore",
          "delhi",
          "chennai",
          "kolkata",
          "bangalore",
          "kolkata",
          "chennai",
          "delhi",
          "hyderabad",
          "hyderabad",
          "mumbai",
          "hyderabad",
          "hyderabad",
          "chennai",
          "kolkata",
          "chennai",
          "chennai",
          "pune",
          "kolkata",
          "chennai",
          "chennai",
          "pune",
          "hyderabad",
          "kolkata",
          "delhi",
          "delhi",
          "kolkata",
          "delhi",
          "hyderabad",
          "chennai",
          "mumbai",
          "delhi",
          "chennai",
          "hyderabad",
          "kolkata",
          "pune",
          "mumbai",
          "bangalore",
          "delhi",
          "delhi",
          "pune",
          "hyderabad",
          "chennai",
          "pune",
          "mumbai",
          "pune",
          "mumbai",
          "mumbai",
          "delhi",
          "chennai",
          "kolkata",
          "mumbai",
          "mumbai",
          "mumbai",
          "chennai",
          "mumbai",
          "mumbai",
          "hyderabad",
          "kolkata",
          "mumbai"
         ],
         "type": "scattergeo"
        }
       ],
       "layout": {
        "coloraxis": {
         "colorbar": {
          "title": {
           "text": "Daily_Usage_Time_in_Minutes"
          }
         },
         "colorscale": [
          [
           0,
           "rgb(247,251,255)"
          ],
          [
           0.125,
           "rgb(222,235,247)"
          ],
          [
           0.25,
           "rgb(198,219,239)"
          ],
          [
           0.375,
           "rgb(158,202,225)"
          ],
          [
           0.5,
           "rgb(107,174,214)"
          ],
          [
           0.625,
           "rgb(66,146,198)"
          ],
          [
           0.75,
           "rgb(33,113,181)"
          ],
          [
           0.875,
           "rgb(8,81,156)"
          ],
          [
           1,
           "rgb(8,48,107)"
          ]
         ]
        },
        "geo": {
         "center": {
          "lat": 20.5937,
          "lon": 78.9629
         },
         "domain": {
          "x": [
           0,
           1
          ],
          "y": [
           0,
           1
          ]
         },
         "fitbounds": "locations",
         "projection": {
          "type": "natural earth"
         },
         "scope": "asia"
        },
        "legend": {
         "itemsizing": "constant",
         "tracegroupgap": 0
        },
        "template": {
         "data": {
          "bar": [
           {
            "error_x": {
             "color": "#2a3f5f"
            },
            "error_y": {
             "color": "#2a3f5f"
            },
            "marker": {
             "line": {
              "color": "#E5ECF6",
              "width": 0.5
             },
             "pattern": {
              "fillmode": "overlay",
              "size": 10,
              "solidity": 0.2
             }
            },
            "type": "bar"
           }
          ],
          "barpolar": [
           {
            "marker": {
             "line": {
              "color": "#E5ECF6",
              "width": 0.5
             },
             "pattern": {
              "fillmode": "overlay",
              "size": 10,
              "solidity": 0.2
             }
            },
            "type": "barpolar"
           }
          ],
          "carpet": [
           {
            "aaxis": {
             "endlinecolor": "#2a3f5f",
             "gridcolor": "white",
             "linecolor": "white",
             "minorgridcolor": "white",
             "startlinecolor": "#2a3f5f"
            },
            "baxis": {
             "endlinecolor": "#2a3f5f",
             "gridcolor": "white",
             "linecolor": "white",
             "minorgridcolor": "white",
             "startlinecolor": "#2a3f5f"
            },
            "type": "carpet"
           }
          ],
          "choropleth": [
           {
            "colorbar": {
             "outlinewidth": 0,
             "ticks": ""
            },
            "type": "choropleth"
           }
          ],
          "contour": [
           {
            "colorbar": {
             "outlinewidth": 0,
             "ticks": ""
            },
            "colorscale": [
             [
              0,
              "#0d0887"
             ],
             [
              0.1111111111111111,
              "#46039f"
             ],
             [
              0.2222222222222222,
              "#7201a8"
             ],
             [
              0.3333333333333333,
              "#9c179e"
             ],
             [
              0.4444444444444444,
              "#bd3786"
             ],
             [
              0.5555555555555556,
              "#d8576b"
             ],
             [
              0.6666666666666666,
              "#ed7953"
             ],
             [
              0.7777777777777778,
              "#fb9f3a"
             ],
             [
              0.8888888888888888,
              "#fdca26"
             ],
             [
              1,
              "#f0f921"
             ]
            ],
            "type": "contour"
           }
          ],
          "contourcarpet": [
           {
            "colorbar": {
             "outlinewidth": 0,
             "ticks": ""
            },
            "type": "contourcarpet"
           }
          ],
          "heatmap": [
           {
            "colorbar": {
             "outlinewidth": 0,
             "ticks": ""
            },
            "colorscale": [
             [
              0,
              "#0d0887"
             ],
             [
              0.1111111111111111,
              "#46039f"
             ],
             [
              0.2222222222222222,
              "#7201a8"
             ],
             [
              0.3333333333333333,
              "#9c179e"
             ],
             [
              0.4444444444444444,
              "#bd3786"
             ],
             [
              0.5555555555555556,
              "#d8576b"
             ],
             [
              0.6666666666666666,
              "#ed7953"
             ],
             [
              0.7777777777777778,
              "#fb9f3a"
             ],
             [
              0.8888888888888888,
              "#fdca26"
             ],
             [
              1,
              "#f0f921"
             ]
            ],
            "type": "heatmap"
           }
          ],
          "histogram": [
           {
            "marker": {
             "pattern": {
              "fillmode": "overlay",
              "size": 10,
              "solidity": 0.2
             }
            },
            "type": "histogram"
           }
          ],
          "histogram2d": [
           {
            "colorbar": {
             "outlinewidth": 0,
             "ticks": ""
            },
            "colorscale": [
             [
              0,
              "#0d0887"
             ],
             [
              0.1111111111111111,
              "#46039f"
             ],
             [
              0.2222222222222222,
              "#7201a8"
             ],
             [
              0.3333333333333333,
              "#9c179e"
             ],
             [
              0.4444444444444444,
              "#bd3786"
             ],
             [
              0.5555555555555556,
              "#d8576b"
             ],
             [
              0.6666666666666666,
              "#ed7953"
             ],
             [
              0.7777777777777778,
              "#fb9f3a"
             ],
             [
              0.8888888888888888,
              "#fdca26"
             ],
             [
              1,
              "#f0f921"
             ]
            ],
            "type": "histogram2d"
           }
          ],
          "histogram2dcontour": [
           {
            "colorbar": {
             "outlinewidth": 0,
             "ticks": ""
            },
            "colorscale": [
             [
              0,
              "#0d0887"
             ],
             [
              0.1111111111111111,
              "#46039f"
             ],
             [
              0.2222222222222222,
              "#7201a8"
             ],
             [
              0.3333333333333333,
              "#9c179e"
             ],
             [
              0.4444444444444444,
              "#bd3786"
             ],
             [
              0.5555555555555556,
              "#d8576b"
             ],
             [
              0.6666666666666666,
              "#ed7953"
             ],
             [
              0.7777777777777778,
              "#fb9f3a"
             ],
             [
              0.8888888888888888,
              "#fdca26"
             ],
             [
              1,
              "#f0f921"
             ]
            ],
            "type": "histogram2dcontour"
           }
          ],
          "mesh3d": [
           {
            "colorbar": {
             "outlinewidth": 0,
             "ticks": ""
            },
            "type": "mesh3d"
           }
          ],
          "parcoords": [
           {
            "line": {
             "colorbar": {
              "outlinewidth": 0,
              "ticks": ""
             }
            },
            "type": "parcoords"
           }
          ],
          "pie": [
           {
            "automargin": true,
            "type": "pie"
           }
          ],
          "scatter": [
           {
            "fillpattern": {
             "fillmode": "overlay",
             "size": 10,
             "solidity": 0.2
            },
            "type": "scatter"
           }
          ],
          "scatter3d": [
           {
            "line": {
             "colorbar": {
              "outlinewidth": 0,
              "ticks": ""
             }
            },
            "marker": {
             "colorbar": {
              "outlinewidth": 0,
              "ticks": ""
             }
            },
            "type": "scatter3d"
           }
          ],
          "scattercarpet": [
           {
            "marker": {
             "colorbar": {
              "outlinewidth": 0,
              "ticks": ""
             }
            },
            "type": "scattercarpet"
           }
          ],
          "scattergeo": [
           {
            "marker": {
             "colorbar": {
              "outlinewidth": 0,
              "ticks": ""
             }
            },
            "type": "scattergeo"
           }
          ],
          "scattergl": [
           {
            "marker": {
             "colorbar": {
              "outlinewidth": 0,
              "ticks": ""
             }
            },
            "type": "scattergl"
           }
          ],
          "scattermap": [
           {
            "marker": {
             "colorbar": {
              "outlinewidth": 0,
              "ticks": ""
             }
            },
            "type": "scattermap"
           }
          ],
          "scattermapbox": [
           {
            "marker": {
             "colorbar": {
              "outlinewidth": 0,
              "ticks": ""
             }
            },
            "type": "scattermapbox"
           }
          ],
          "scatterpolar": [
           {
            "marker": {
             "colorbar": {
              "outlinewidth": 0,
              "ticks": ""
             }
            },
            "type": "scatterpolar"
           }
          ],
          "scatterpolargl": [
           {
            "marker": {
             "colorbar": {
              "outlinewidth": 0,
              "ticks": ""
             }
            },
            "type": "scatterpolargl"
           }
          ],
          "scatterternary": [
           {
            "marker": {
             "colorbar": {
              "outlinewidth": 0,
              "ticks": ""
             }
            },
            "type": "scatterternary"
           }
          ],
          "surface": [
           {
            "colorbar": {
             "outlinewidth": 0,
             "ticks": ""
            },
            "colorscale": [
             [
              0,
              "#0d0887"
             ],
             [
              0.1111111111111111,
              "#46039f"
             ],
             [
              0.2222222222222222,
              "#7201a8"
             ],
             [
              0.3333333333333333,
              "#9c179e"
             ],
             [
              0.4444444444444444,
              "#bd3786"
             ],
             [
              0.5555555555555556,
              "#d8576b"
             ],
             [
              0.6666666666666666,
              "#ed7953"
             ],
             [
              0.7777777777777778,
              "#fb9f3a"
             ],
             [
              0.8888888888888888,
              "#fdca26"
             ],
             [
              1,
              "#f0f921"
             ]
            ],
            "type": "surface"
           }
          ],
          "table": [
           {
            "cells": {
             "fill": {
              "color": "#EBF0F8"
             },
             "line": {
              "color": "white"
             }
            },
            "header": {
             "fill": {
              "color": "#C8D4E3"
             },
             "line": {
              "color": "white"
             }
            },
            "type": "table"
           }
          ]
         },
         "layout": {
          "annotationdefaults": {
           "arrowcolor": "#2a3f5f",
           "arrowhead": 0,
           "arrowwidth": 1
          },
          "autotypenumbers": "strict",
          "coloraxis": {
           "colorbar": {
            "outlinewidth": 0,
            "ticks": ""
           }
          },
          "colorscale": {
           "diverging": [
            [
             0,
             "#8e0152"
            ],
            [
             0.1,
             "#c51b7d"
            ],
            [
             0.2,
             "#de77ae"
            ],
            [
             0.3,
             "#f1b6da"
            ],
            [
             0.4,
             "#fde0ef"
            ],
            [
             0.5,
             "#f7f7f7"
            ],
            [
             0.6,
             "#e6f5d0"
            ],
            [
             0.7,
             "#b8e186"
            ],
            [
             0.8,
             "#7fbc41"
            ],
            [
             0.9,
             "#4d9221"
            ],
            [
             1,
             "#276419"
            ]
           ],
           "sequential": [
            [
             0,
             "#0d0887"
            ],
            [
             0.1111111111111111,
             "#46039f"
            ],
            [
             0.2222222222222222,
             "#7201a8"
            ],
            [
             0.3333333333333333,
             "#9c179e"
            ],
            [
             0.4444444444444444,
             "#bd3786"
            ],
            [
             0.5555555555555556,
             "#d8576b"
            ],
            [
             0.6666666666666666,
             "#ed7953"
            ],
            [
             0.7777777777777778,
             "#fb9f3a"
            ],
            [
             0.8888888888888888,
             "#fdca26"
            ],
            [
             1,
             "#f0f921"
            ]
           ],
           "sequentialminus": [
            [
             0,
             "#0d0887"
            ],
            [
             0.1111111111111111,
             "#46039f"
            ],
            [
             0.2222222222222222,
             "#7201a8"
            ],
            [
             0.3333333333333333,
             "#9c179e"
            ],
            [
             0.4444444444444444,
             "#bd3786"
            ],
            [
             0.5555555555555556,
             "#d8576b"
            ],
            [
             0.6666666666666666,
             "#ed7953"
            ],
            [
             0.7777777777777778,
             "#fb9f3a"
            ],
            [
             0.8888888888888888,
             "#fdca26"
            ],
            [
             1,
             "#f0f921"
            ]
           ]
          },
          "colorway": [
           "#636efa",
           "#EF553B",
           "#00cc96",
           "#ab63fa",
           "#FFA15A",
           "#19d3f3",
           "#FF6692",
           "#B6E880",
           "#FF97FF",
           "#FECB52"
          ],
          "font": {
           "color": "#2a3f5f"
          },
          "geo": {
           "bgcolor": "white",
           "lakecolor": "white",
           "landcolor": "#E5ECF6",
           "showlakes": true,
           "showland": true,
           "subunitcolor": "white"
          },
          "hoverlabel": {
           "align": "left"
          },
          "hovermode": "closest",
          "mapbox": {
           "style": "light"
          },
          "paper_bgcolor": "white",
          "plot_bgcolor": "#E5ECF6",
          "polar": {
           "angularaxis": {
            "gridcolor": "white",
            "linecolor": "white",
            "ticks": ""
           },
           "bgcolor": "#E5ECF6",
           "radialaxis": {
            "gridcolor": "white",
            "linecolor": "white",
            "ticks": ""
           }
          },
          "scene": {
           "xaxis": {
            "backgroundcolor": "#E5ECF6",
            "gridcolor": "white",
            "gridwidth": 2,
            "linecolor": "white",
            "showbackground": true,
            "ticks": "",
            "zerolinecolor": "white"
           },
           "yaxis": {
            "backgroundcolor": "#E5ECF6",
            "gridcolor": "white",
            "gridwidth": 2,
            "linecolor": "white",
            "showbackground": true,
            "ticks": "",
            "zerolinecolor": "white"
           },
           "zaxis": {
            "backgroundcolor": "#E5ECF6",
            "gridcolor": "white",
            "gridwidth": 2,
            "linecolor": "white",
            "showbackground": true,
            "ticks": "",
            "zerolinecolor": "white"
           }
          },
          "shapedefaults": {
           "line": {
            "color": "#2a3f5f"
           }
          },
          "ternary": {
           "aaxis": {
            "gridcolor": "white",
            "linecolor": "white",
            "ticks": ""
           },
           "baxis": {
            "gridcolor": "white",
            "linecolor": "white",
            "ticks": ""
           },
           "bgcolor": "#E5ECF6",
           "caxis": {
            "gridcolor": "white",
            "linecolor": "white",
            "ticks": ""
           }
          },
          "title": {
           "x": 0.05
          },
          "xaxis": {
           "automargin": true,
           "gridcolor": "white",
           "linecolor": "white",
           "ticks": "",
           "title": {
            "standoff": 15
           },
           "zerolinecolor": "white",
           "zerolinewidth": 2
          },
          "yaxis": {
           "automargin": true,
           "gridcolor": "white",
           "linecolor": "white",
           "ticks": "",
           "title": {
            "standoff": 15
           },
           "zerolinecolor": "white",
           "zerolinewidth": 2
          }
         }
        },
        "title": {
         "text": "Dating App Usage by City"
        }
       }
      }
     },
     "metadata": {},
     "output_type": "display_data"
    }
   ],
   "source": [
    "px.scatter_geo(\n",
    "    df,\n",
    "    lat=\"Latitude\",\n",
    "    lon=\"Longitude\",\n",
    "    text=\"Location\",\n",
    "    size=\"Daily_Usage_Time_in_Minutes\",\n",
    "    color=\"Daily_Usage_Time_in_Minutes\",  \n",
    "    color_continuous_scale=\"Blues\", \n",
    "    title=\"Dating App Usage by City\",\n",
    "    projection=\"natural earth\"\n",
    ").update_geos(\n",
    "    scope=\"asia\", \n",
    "    center={\"lat\": 20.5937, \"lon\": 78.9629}, \n",
    "    fitbounds=\"locations\"\n",
    ")"
   ]
  },
  {
   "cell_type": "code",
   "execution_count": null,
   "metadata": {},
   "outputs": [],
   "source": []
  }
 ],
 "metadata": {
  "kernelspec": {
   "display_name": "ml",
   "language": "python",
   "name": "python3"
  },
  "language_info": {
   "codemirror_mode": {
    "name": "ipython",
    "version": 3
   },
   "file_extension": ".py",
   "mimetype": "text/x-python",
   "name": "python",
   "nbconvert_exporter": "python",
   "pygments_lexer": "ipython3",
   "version": "3.12.8"
  }
 },
 "nbformat": 4,
 "nbformat_minor": 2
}
