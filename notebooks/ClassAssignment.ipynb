{
 "cells": [
  {
   "cell_type": "code",
   "execution_count": 1,
   "metadata": {},
   "outputs": [],
   "source": [
    "import numpy as np\n",
    "import pandas as pd\n",
    "import matplotlib.pyplot as plt \n",
    "import seaborn as sns\n"
   ]
  },
  {
   "cell_type": "code",
   "execution_count": 2,
   "metadata": {},
   "outputs": [],
   "source": [
    "df = pd.read_csv(\"../data/GenZ_DatingApp_Data.csv\")"
   ]
  },
  {
   "cell_type": "code",
   "execution_count": 3,
   "metadata": {},
   "outputs": [
    {
     "data": {
      "text/html": [
       "<div>\n",
       "<style scoped>\n",
       "    .dataframe tbody tr th:only-of-type {\n",
       "        vertical-align: middle;\n",
       "    }\n",
       "\n",
       "    .dataframe tbody tr th {\n",
       "        vertical-align: top;\n",
       "    }\n",
       "\n",
       "    .dataframe thead th {\n",
       "        text-align: right;\n",
       "    }\n",
       "</style>\n",
       "<table border=\"1\" class=\"dataframe\">\n",
       "  <thead>\n",
       "    <tr style=\"text-align: right;\">\n",
       "      <th></th>\n",
       "      <th>User_ID</th>\n",
       "      <th>Age</th>\n",
       "      <th>Gender</th>\n",
       "      <th>Location</th>\n",
       "      <th>Education</th>\n",
       "      <th>Occupation</th>\n",
       "      <th>Primary_App</th>\n",
       "      <th>Secondary_Apps</th>\n",
       "      <th>Usage_Frequency</th>\n",
       "      <th>Daily_Usage_Time</th>\n",
       "      <th>Reason_for_Using</th>\n",
       "      <th>Satisfaction</th>\n",
       "      <th>Challenges</th>\n",
       "      <th>Desired_Features</th>\n",
       "      <th>Preferred_Communication</th>\n",
       "      <th>Partner_Priorities</th>\n",
       "    </tr>\n",
       "  </thead>\n",
       "  <tbody>\n",
       "    <tr>\n",
       "      <th>0</th>\n",
       "      <td>1</td>\n",
       "      <td>20</td>\n",
       "      <td>Non-binary</td>\n",
       "      <td>Bangalore</td>\n",
       "      <td>Undergraduate</td>\n",
       "      <td>Freelancer</td>\n",
       "      <td>Hinge</td>\n",
       "      <td>Hinge</td>\n",
       "      <td>Monthly</td>\n",
       "      <td>1 hour</td>\n",
       "      <td>Finding a Partner</td>\n",
       "      <td>4</td>\n",
       "      <td>Safety Concerns</td>\n",
       "      <td>Audio Calls</td>\n",
       "      <td>Video Calls</td>\n",
       "      <td>Values &gt; Personality &gt; Appearance</td>\n",
       "    </tr>\n",
       "    <tr>\n",
       "      <th>1</th>\n",
       "      <td>2</td>\n",
       "      <td>24</td>\n",
       "      <td>Female</td>\n",
       "      <td>Delhi</td>\n",
       "      <td>Undergraduate</td>\n",
       "      <td>Part-time Job</td>\n",
       "      <td>Hinge</td>\n",
       "      <td>OkCupid</td>\n",
       "      <td>Weekly</td>\n",
       "      <td>30 minutes</td>\n",
       "      <td>Casual Dating</td>\n",
       "      <td>5</td>\n",
       "      <td>Time-Wasting</td>\n",
       "      <td>Video Calls</td>\n",
       "      <td>Text</td>\n",
       "      <td>Values &gt; Personality &gt; Appearance</td>\n",
       "    </tr>\n",
       "    <tr>\n",
       "      <th>2</th>\n",
       "      <td>3</td>\n",
       "      <td>24</td>\n",
       "      <td>Non-binary</td>\n",
       "      <td>Kolkata</td>\n",
       "      <td>Undergraduate</td>\n",
       "      <td>Intern</td>\n",
       "      <td>NaN</td>\n",
       "      <td>NaN</td>\n",
       "      <td>Weekly</td>\n",
       "      <td>2 hours</td>\n",
       "      <td>Casual Dating</td>\n",
       "      <td>4</td>\n",
       "      <td>Safety Concerns</td>\n",
       "      <td>Detailed Profiles</td>\n",
       "      <td>Text</td>\n",
       "      <td>Values &gt; Personality &gt; Appearance</td>\n",
       "    </tr>\n",
       "    <tr>\n",
       "      <th>3</th>\n",
       "      <td>4</td>\n",
       "      <td>22</td>\n",
       "      <td>Non-binary</td>\n",
       "      <td>Delhi</td>\n",
       "      <td>Graduate</td>\n",
       "      <td>Full-time Job</td>\n",
       "      <td>NaN</td>\n",
       "      <td>OkCupid</td>\n",
       "      <td>Daily</td>\n",
       "      <td>30 minutes</td>\n",
       "      <td>Casual Fun</td>\n",
       "      <td>3</td>\n",
       "      <td>NaN</td>\n",
       "      <td>AI Recommendations</td>\n",
       "      <td>Voice Notes</td>\n",
       "      <td>Personality &gt; Interests &gt; Values</td>\n",
       "    </tr>\n",
       "    <tr>\n",
       "      <th>4</th>\n",
       "      <td>5</td>\n",
       "      <td>18</td>\n",
       "      <td>Male</td>\n",
       "      <td>Delhi</td>\n",
       "      <td>Graduate</td>\n",
       "      <td>Intern</td>\n",
       "      <td>OkCupid</td>\n",
       "      <td>OkCupid</td>\n",
       "      <td>Weekly</td>\n",
       "      <td>2 hours</td>\n",
       "      <td>Casual Fun</td>\n",
       "      <td>4</td>\n",
       "      <td>Safety Concerns</td>\n",
       "      <td>Video Calls</td>\n",
       "      <td>Text</td>\n",
       "      <td>Appearance &gt; Interests &gt; Personality</td>\n",
       "    </tr>\n",
       "  </tbody>\n",
       "</table>\n",
       "</div>"
      ],
      "text/plain": [
       "   User_ID  Age      Gender   Location      Education     Occupation  \\\n",
       "0        1   20  Non-binary  Bangalore  Undergraduate     Freelancer   \n",
       "1        2   24      Female      Delhi  Undergraduate  Part-time Job   \n",
       "2        3   24  Non-binary    Kolkata  Undergraduate         Intern   \n",
       "3        4   22  Non-binary      Delhi       Graduate  Full-time Job   \n",
       "4        5   18        Male      Delhi       Graduate         Intern   \n",
       "\n",
       "  Primary_App Secondary_Apps Usage_Frequency Daily_Usage_Time  \\\n",
       "0       Hinge          Hinge         Monthly           1 hour   \n",
       "1       Hinge        OkCupid          Weekly       30 minutes   \n",
       "2         NaN            NaN          Weekly          2 hours   \n",
       "3         NaN        OkCupid           Daily       30 minutes   \n",
       "4     OkCupid        OkCupid          Weekly          2 hours   \n",
       "\n",
       "    Reason_for_Using  Satisfaction       Challenges    Desired_Features  \\\n",
       "0  Finding a Partner             4  Safety Concerns         Audio Calls   \n",
       "1      Casual Dating             5     Time-Wasting         Video Calls   \n",
       "2      Casual Dating             4  Safety Concerns   Detailed Profiles   \n",
       "3         Casual Fun             3              NaN  AI Recommendations   \n",
       "4         Casual Fun             4  Safety Concerns         Video Calls   \n",
       "\n",
       "  Preferred_Communication                    Partner_Priorities  \n",
       "0             Video Calls     Values > Personality > Appearance  \n",
       "1                    Text     Values > Personality > Appearance  \n",
       "2                    Text     Values > Personality > Appearance  \n",
       "3             Voice Notes      Personality > Interests > Values  \n",
       "4                    Text  Appearance > Interests > Personality  "
      ]
     },
     "execution_count": 3,
     "metadata": {},
     "output_type": "execute_result"
    }
   ],
   "source": [
    "df.head()"
   ]
  },
  {
   "cell_type": "code",
   "execution_count": 4,
   "metadata": {},
   "outputs": [
    {
     "data": {
      "text/plain": [
       "User_ID                      0\n",
       "Age                          0\n",
       "Gender                       0\n",
       "Location                     0\n",
       "Education                    0\n",
       "Occupation                   0\n",
       "Primary_App                107\n",
       "Secondary_Apps             114\n",
       "Usage_Frequency              0\n",
       "Daily_Usage_Time             0\n",
       "Reason_for_Using             0\n",
       "Satisfaction                 0\n",
       "Challenges                 117\n",
       "Desired_Features             0\n",
       "Preferred_Communication      0\n",
       "Partner_Priorities           0\n",
       "dtype: int64"
      ]
     },
     "execution_count": 4,
     "metadata": {},
     "output_type": "execute_result"
    }
   ],
   "source": [
    "df.isnull().sum()"
   ]
  },
  {
   "cell_type": "code",
   "execution_count": 5,
   "metadata": {},
   "outputs": [
    {
     "data": {
      "text/plain": [
       "User_ID                     0.0\n",
       "Age                         0.0\n",
       "Gender                      0.0\n",
       "Location                    0.0\n",
       "Education                   0.0\n",
       "Occupation                  0.0\n",
       "Primary_App                21.4\n",
       "Secondary_Apps             22.8\n",
       "Usage_Frequency             0.0\n",
       "Daily_Usage_Time            0.0\n",
       "Reason_for_Using            0.0\n",
       "Satisfaction                0.0\n",
       "Challenges                 23.4\n",
       "Desired_Features            0.0\n",
       "Preferred_Communication     0.0\n",
       "Partner_Priorities          0.0\n",
       "dtype: float64"
      ]
     },
     "execution_count": 5,
     "metadata": {},
     "output_type": "execute_result"
    }
   ],
   "source": [
    "(df.isnull().sum()/df.shape[0]) * 100"
   ]
  },
  {
   "cell_type": "code",
   "execution_count": 6,
   "metadata": {},
   "outputs": [
    {
     "data": {
      "text/plain": [
       "Primary_App\n",
       "OkCupid    118\n",
       "Hinge      106\n",
       "Bumble      93\n",
       "Tinder      76\n",
       "Name: count, dtype: int64"
      ]
     },
     "execution_count": 6,
     "metadata": {},
     "output_type": "execute_result"
    }
   ],
   "source": [
    "df[\"Primary_App\"].value_counts()"
   ]
  },
  {
   "cell_type": "code",
   "execution_count": 7,
   "metadata": {},
   "outputs": [
    {
     "name": "stderr",
     "output_type": "stream",
     "text": [
      "/var/folders/jn/dvbsgr3506n5l2_jhv8b_fqm0000gn/T/ipykernel_23428/517032819.py:1: FutureWarning: Series.fillna with 'method' is deprecated and will raise in a future version. Use obj.ffill() or obj.bfill() instead.\n",
      "  df[\"Primary_App\"] = df[\"Primary_App\"].fillna(method =\"backfill\")\n"
     ]
    }
   ],
   "source": [
    "df[\"Primary_App\"] = df[\"Primary_App\"].fillna(method =\"backfill\")"
   ]
  },
  {
   "cell_type": "code",
   "execution_count": 8,
   "metadata": {},
   "outputs": [
    {
     "data": {
      "text/plain": [
       "User_ID                      0\n",
       "Age                          0\n",
       "Gender                       0\n",
       "Location                     0\n",
       "Education                    0\n",
       "Occupation                   0\n",
       "Primary_App                  1\n",
       "Secondary_Apps             114\n",
       "Usage_Frequency              0\n",
       "Daily_Usage_Time             0\n",
       "Reason_for_Using             0\n",
       "Satisfaction                 0\n",
       "Challenges                 117\n",
       "Desired_Features             0\n",
       "Preferred_Communication      0\n",
       "Partner_Priorities           0\n",
       "dtype: int64"
      ]
     },
     "execution_count": 8,
     "metadata": {},
     "output_type": "execute_result"
    }
   ],
   "source": [
    "df.isnull().sum()"
   ]
  },
  {
   "cell_type": "code",
   "execution_count": 9,
   "metadata": {},
   "outputs": [],
   "source": [
    "df[\"Primary_App\"] = df[\"Primary_App\"].fillna(value=df[\"Primary_App\"].mode()[0])"
   ]
  },
  {
   "cell_type": "code",
   "execution_count": 10,
   "metadata": {},
   "outputs": [
    {
     "name": "stderr",
     "output_type": "stream",
     "text": [
      "/var/folders/jn/dvbsgr3506n5l2_jhv8b_fqm0000gn/T/ipykernel_23428/3771049023.py:1: FutureWarning: Series.fillna with 'method' is deprecated and will raise in a future version. Use obj.ffill() or obj.bfill() instead.\n",
      "  df[\"Secondary_Apps\"] = df[\"Secondary_Apps\"].fillna(method = \"ffill\")\n"
     ]
    }
   ],
   "source": [
    "df[\"Secondary_Apps\"] = df[\"Secondary_Apps\"].fillna(method = \"ffill\")"
   ]
  },
  {
   "cell_type": "code",
   "execution_count": 11,
   "metadata": {},
   "outputs": [
    {
     "data": {
      "text/plain": [
       "User_ID                      0\n",
       "Age                          0\n",
       "Gender                       0\n",
       "Location                     0\n",
       "Education                    0\n",
       "Occupation                   0\n",
       "Primary_App                  0\n",
       "Secondary_Apps               0\n",
       "Usage_Frequency              0\n",
       "Daily_Usage_Time             0\n",
       "Reason_for_Using             0\n",
       "Satisfaction                 0\n",
       "Challenges                 117\n",
       "Desired_Features             0\n",
       "Preferred_Communication      0\n",
       "Partner_Priorities           0\n",
       "dtype: int64"
      ]
     },
     "execution_count": 11,
     "metadata": {},
     "output_type": "execute_result"
    }
   ],
   "source": [
    "df.isnull().sum()"
   ]
  },
  {
   "cell_type": "code",
   "execution_count": 12,
   "metadata": {},
   "outputs": [
    {
     "data": {
      "text/plain": [
       "Challenges\n",
       "Lack of Genuine Matches    135\n",
       "Time-Wasting               127\n",
       "Safety Concerns            121\n",
       "Name: count, dtype: int64"
      ]
     },
     "execution_count": 12,
     "metadata": {},
     "output_type": "execute_result"
    }
   ],
   "source": [
    "df[\"Challenges\"].value_counts()"
   ]
  },
  {
   "cell_type": "code",
   "execution_count": 13,
   "metadata": {},
   "outputs": [
    {
     "name": "stderr",
     "output_type": "stream",
     "text": [
      "/var/folders/jn/dvbsgr3506n5l2_jhv8b_fqm0000gn/T/ipykernel_23428/1719709456.py:1: FutureWarning: Series.fillna with 'method' is deprecated and will raise in a future version. Use obj.ffill() or obj.bfill() instead.\n",
      "  df[\"Challenges\"] = df[\"Challenges\"].fillna(method = \"backfill\")\n"
     ]
    }
   ],
   "source": [
    "df[\"Challenges\"] = df[\"Challenges\"].fillna(method = \"backfill\")"
   ]
  },
  {
   "cell_type": "code",
   "execution_count": 14,
   "metadata": {},
   "outputs": [
    {
     "data": {
      "text/plain": [
       "User_ID                    0\n",
       "Age                        0\n",
       "Gender                     0\n",
       "Location                   0\n",
       "Education                  0\n",
       "Occupation                 0\n",
       "Primary_App                0\n",
       "Secondary_Apps             0\n",
       "Usage_Frequency            0\n",
       "Daily_Usage_Time           0\n",
       "Reason_for_Using           0\n",
       "Satisfaction               0\n",
       "Challenges                 0\n",
       "Desired_Features           0\n",
       "Preferred_Communication    0\n",
       "Partner_Priorities         0\n",
       "dtype: int64"
      ]
     },
     "execution_count": 14,
     "metadata": {},
     "output_type": "execute_result"
    }
   ],
   "source": [
    "df.isnull().sum()"
   ]
  },
  {
   "cell_type": "code",
   "execution_count": 15,
   "metadata": {},
   "outputs": [
    {
     "data": {
      "text/plain": [
       "False    500\n",
       "Name: count, dtype: int64"
      ]
     },
     "execution_count": 15,
     "metadata": {},
     "output_type": "execute_result"
    }
   ],
   "source": [
    "df.duplicated().value_counts()"
   ]
  },
  {
   "cell_type": "markdown",
   "metadata": {},
   "source": [
    "### There are no duplicate rows sinse df.duplicated().value_counts returned 500 false values"
   ]
  },
  {
   "cell_type": "code",
   "execution_count": 16,
   "metadata": {},
   "outputs": [
    {
     "name": "stdout",
     "output_type": "stream",
     "text": [
      "<class 'pandas.core.frame.DataFrame'>\n",
      "RangeIndex: 500 entries, 0 to 499\n",
      "Data columns (total 16 columns):\n",
      " #   Column                   Non-Null Count  Dtype \n",
      "---  ------                   --------------  ----- \n",
      " 0   User_ID                  500 non-null    int64 \n",
      " 1   Age                      500 non-null    int64 \n",
      " 2   Gender                   500 non-null    object\n",
      " 3   Location                 500 non-null    object\n",
      " 4   Education                500 non-null    object\n",
      " 5   Occupation               500 non-null    object\n",
      " 6   Primary_App              500 non-null    object\n",
      " 7   Secondary_Apps           500 non-null    object\n",
      " 8   Usage_Frequency          500 non-null    object\n",
      " 9   Daily_Usage_Time         500 non-null    object\n",
      " 10  Reason_for_Using         500 non-null    object\n",
      " 11  Satisfaction             500 non-null    int64 \n",
      " 12  Challenges               500 non-null    object\n",
      " 13  Desired_Features         500 non-null    object\n",
      " 14  Preferred_Communication  500 non-null    object\n",
      " 15  Partner_Priorities       500 non-null    object\n",
      "dtypes: int64(3), object(13)\n",
      "memory usage: 62.6+ KB\n"
     ]
    }
   ],
   "source": [
    "df.info()"
   ]
  },
  {
   "cell_type": "code",
   "execution_count": 17,
   "metadata": {},
   "outputs": [],
   "source": [
    "for col in df.select_dtypes(include = \"object\"):\n",
    "    df[col] = df[col].str.lower()\n",
    "    df[col] = df[col].astype(\"category\")\n",
    "    "
   ]
  },
  {
   "cell_type": "code",
   "execution_count": 18,
   "metadata": {},
   "outputs": [
    {
     "name": "stdout",
     "output_type": "stream",
     "text": [
      "<class 'pandas.core.frame.DataFrame'>\n",
      "RangeIndex: 500 entries, 0 to 499\n",
      "Data columns (total 16 columns):\n",
      " #   Column                   Non-Null Count  Dtype   \n",
      "---  ------                   --------------  -----   \n",
      " 0   User_ID                  500 non-null    int64   \n",
      " 1   Age                      500 non-null    int64   \n",
      " 2   Gender                   500 non-null    category\n",
      " 3   Location                 500 non-null    category\n",
      " 4   Education                500 non-null    category\n",
      " 5   Occupation               500 non-null    category\n",
      " 6   Primary_App              500 non-null    category\n",
      " 7   Secondary_Apps           500 non-null    category\n",
      " 8   Usage_Frequency          500 non-null    category\n",
      " 9   Daily_Usage_Time         500 non-null    category\n",
      " 10  Reason_for_Using         500 non-null    category\n",
      " 11  Satisfaction             500 non-null    int64   \n",
      " 12  Challenges               500 non-null    category\n",
      " 13  Desired_Features         500 non-null    category\n",
      " 14  Preferred_Communication  500 non-null    category\n",
      " 15  Partner_Priorities       500 non-null    category\n",
      "dtypes: category(13), int64(3)\n",
      "memory usage: 20.5 KB\n"
     ]
    }
   ],
   "source": [
    "df.info()"
   ]
  },
  {
   "cell_type": "code",
   "execution_count": 19,
   "metadata": {},
   "outputs": [],
   "source": [
    "df[\"Satisfaction\"] = df[\"Satisfaction\"].astype(\"category\")"
   ]
  },
  {
   "cell_type": "code",
   "execution_count": 20,
   "metadata": {},
   "outputs": [
    {
     "name": "stdout",
     "output_type": "stream",
     "text": [
      "<class 'pandas.core.frame.DataFrame'>\n",
      "RangeIndex: 500 entries, 0 to 499\n",
      "Data columns (total 16 columns):\n",
      " #   Column                   Non-Null Count  Dtype   \n",
      "---  ------                   --------------  -----   \n",
      " 0   User_ID                  500 non-null    int64   \n",
      " 1   Age                      500 non-null    int64   \n",
      " 2   Gender                   500 non-null    category\n",
      " 3   Location                 500 non-null    category\n",
      " 4   Education                500 non-null    category\n",
      " 5   Occupation               500 non-null    category\n",
      " 6   Primary_App              500 non-null    category\n",
      " 7   Secondary_Apps           500 non-null    category\n",
      " 8   Usage_Frequency          500 non-null    category\n",
      " 9   Daily_Usage_Time         500 non-null    category\n",
      " 10  Reason_for_Using         500 non-null    category\n",
      " 11  Satisfaction             500 non-null    category\n",
      " 12  Challenges               500 non-null    category\n",
      " 13  Desired_Features         500 non-null    category\n",
      " 14  Preferred_Communication  500 non-null    category\n",
      " 15  Partner_Priorities       500 non-null    category\n",
      "dtypes: category(14), int64(2)\n",
      "memory usage: 17.3 KB\n"
     ]
    }
   ],
   "source": [
    "df.info()"
   ]
  },
  {
   "cell_type": "code",
   "execution_count": 21,
   "metadata": {},
   "outputs": [
    {
     "data": {
      "text/plain": [
       "<Axes: xlabel='Age'>"
      ]
     },
     "execution_count": 21,
     "metadata": {},
     "output_type": "execute_result"
    },
    {
     "data": {
      "image/png": "[encoded data removed]",
      "text/plain": [
       "<Figure size 640x480 with 1 Axes>"
      ]
     },
     "metadata": {},
     "output_type": "display_data"
    }
   ],
   "source": [
    "sns.boxplot(data = df , x = df[\"Age\"])"
   ]
  },
  {
   "cell_type": "code",
   "execution_count": 22,
   "metadata": {},
   "outputs": [
    {
     "data": {
      "text/html": [
       "<div>\n",
       "<style scoped>\n",
       "    .dataframe tbody tr th:only-of-type {\n",
       "        vertical-align: middle;\n",
       "    }\n",
       "\n",
       "    .dataframe tbody tr th {\n",
       "        vertical-align: top;\n",
       "    }\n",
       "\n",
       "    .dataframe thead th {\n",
       "        text-align: right;\n",
       "    }\n",
       "</style>\n",
       "<table border=\"1\" class=\"dataframe\">\n",
       "  <thead>\n",
       "    <tr style=\"text-align: right;\">\n",
       "      <th></th>\n",
       "      <th>User_ID</th>\n",
       "      <th>Age</th>\n",
       "      <th>Gender</th>\n",
       "      <th>Location</th>\n",
       "      <th>Education</th>\n",
       "      <th>Occupation</th>\n",
       "      <th>Primary_App</th>\n",
       "      <th>Secondary_Apps</th>\n",
       "      <th>Usage_Frequency</th>\n",
       "      <th>Daily_Usage_Time</th>\n",
       "      <th>Reason_for_Using</th>\n",
       "      <th>Satisfaction</th>\n",
       "      <th>Challenges</th>\n",
       "      <th>Desired_Features</th>\n",
       "      <th>Preferred_Communication</th>\n",
       "      <th>Partner_Priorities</th>\n",
       "    </tr>\n",
       "  </thead>\n",
       "  <tbody>\n",
       "    <tr>\n",
       "      <th>0</th>\n",
       "      <td>1</td>\n",
       "      <td>20</td>\n",
       "      <td>non-binary</td>\n",
       "      <td>bangalore</td>\n",
       "      <td>undergraduate</td>\n",
       "      <td>freelancer</td>\n",
       "      <td>hinge</td>\n",
       "      <td>hinge</td>\n",
       "      <td>monthly</td>\n",
       "      <td>1 hour</td>\n",
       "      <td>finding a partner</td>\n",
       "      <td>4</td>\n",
       "      <td>safety concerns</td>\n",
       "      <td>audio calls</td>\n",
       "      <td>video calls</td>\n",
       "      <td>values &gt; personality &gt; appearance</td>\n",
       "    </tr>\n",
       "    <tr>\n",
       "      <th>1</th>\n",
       "      <td>2</td>\n",
       "      <td>24</td>\n",
       "      <td>female</td>\n",
       "      <td>delhi</td>\n",
       "      <td>undergraduate</td>\n",
       "      <td>part-time job</td>\n",
       "      <td>hinge</td>\n",
       "      <td>okcupid</td>\n",
       "      <td>weekly</td>\n",
       "      <td>30 minutes</td>\n",
       "      <td>casual dating</td>\n",
       "      <td>5</td>\n",
       "      <td>time-wasting</td>\n",
       "      <td>video calls</td>\n",
       "      <td>text</td>\n",
       "      <td>values &gt; personality &gt; appearance</td>\n",
       "    </tr>\n",
       "    <tr>\n",
       "      <th>2</th>\n",
       "      <td>3</td>\n",
       "      <td>24</td>\n",
       "      <td>non-binary</td>\n",
       "      <td>kolkata</td>\n",
       "      <td>undergraduate</td>\n",
       "      <td>intern</td>\n",
       "      <td>okcupid</td>\n",
       "      <td>okcupid</td>\n",
       "      <td>weekly</td>\n",
       "      <td>2 hours</td>\n",
       "      <td>casual dating</td>\n",
       "      <td>4</td>\n",
       "      <td>safety concerns</td>\n",
       "      <td>detailed profiles</td>\n",
       "      <td>text</td>\n",
       "      <td>values &gt; personality &gt; appearance</td>\n",
       "    </tr>\n",
       "    <tr>\n",
       "      <th>3</th>\n",
       "      <td>4</td>\n",
       "      <td>22</td>\n",
       "      <td>non-binary</td>\n",
       "      <td>delhi</td>\n",
       "      <td>graduate</td>\n",
       "      <td>full-time job</td>\n",
       "      <td>okcupid</td>\n",
       "      <td>okcupid</td>\n",
       "      <td>daily</td>\n",
       "      <td>30 minutes</td>\n",
       "      <td>casual fun</td>\n",
       "      <td>3</td>\n",
       "      <td>safety concerns</td>\n",
       "      <td>ai recommendations</td>\n",
       "      <td>voice notes</td>\n",
       "      <td>personality &gt; interests &gt; values</td>\n",
       "    </tr>\n",
       "    <tr>\n",
       "      <th>4</th>\n",
       "      <td>5</td>\n",
       "      <td>18</td>\n",
       "      <td>male</td>\n",
       "      <td>delhi</td>\n",
       "      <td>graduate</td>\n",
       "      <td>intern</td>\n",
       "      <td>okcupid</td>\n",
       "      <td>okcupid</td>\n",
       "      <td>weekly</td>\n",
       "      <td>2 hours</td>\n",
       "      <td>casual fun</td>\n",
       "      <td>4</td>\n",
       "      <td>safety concerns</td>\n",
       "      <td>video calls</td>\n",
       "      <td>text</td>\n",
       "      <td>appearance &gt; interests &gt; personality</td>\n",
       "    </tr>\n",
       "    <tr>\n",
       "      <th>...</th>\n",
       "      <td>...</td>\n",
       "      <td>...</td>\n",
       "      <td>...</td>\n",
       "      <td>...</td>\n",
       "      <td>...</td>\n",
       "      <td>...</td>\n",
       "      <td>...</td>\n",
       "      <td>...</td>\n",
       "      <td>...</td>\n",
       "      <td>...</td>\n",
       "      <td>...</td>\n",
       "      <td>...</td>\n",
       "      <td>...</td>\n",
       "      <td>...</td>\n",
       "      <td>...</td>\n",
       "      <td>...</td>\n",
       "    </tr>\n",
       "    <tr>\n",
       "      <th>495</th>\n",
       "      <td>496</td>\n",
       "      <td>23</td>\n",
       "      <td>female</td>\n",
       "      <td>mumbai</td>\n",
       "      <td>undergraduate</td>\n",
       "      <td>intern</td>\n",
       "      <td>tinder</td>\n",
       "      <td>hinge</td>\n",
       "      <td>weekly</td>\n",
       "      <td>1.5 hours</td>\n",
       "      <td>casual dating</td>\n",
       "      <td>2</td>\n",
       "      <td>time-wasting</td>\n",
       "      <td>audio calls</td>\n",
       "      <td>voice notes</td>\n",
       "      <td>personality &gt; interests &gt; values</td>\n",
       "    </tr>\n",
       "    <tr>\n",
       "      <th>496</th>\n",
       "      <td>497</td>\n",
       "      <td>23</td>\n",
       "      <td>male</td>\n",
       "      <td>mumbai</td>\n",
       "      <td>postgraduate</td>\n",
       "      <td>intern</td>\n",
       "      <td>okcupid</td>\n",
       "      <td>tinder</td>\n",
       "      <td>daily</td>\n",
       "      <td>2 hours</td>\n",
       "      <td>casual fun</td>\n",
       "      <td>1</td>\n",
       "      <td>time-wasting</td>\n",
       "      <td>video calls</td>\n",
       "      <td>video calls</td>\n",
       "      <td>values &gt; personality &gt; appearance</td>\n",
       "    </tr>\n",
       "    <tr>\n",
       "      <th>497</th>\n",
       "      <td>498</td>\n",
       "      <td>22</td>\n",
       "      <td>male</td>\n",
       "      <td>hyderabad</td>\n",
       "      <td>graduate</td>\n",
       "      <td>freelancer</td>\n",
       "      <td>tinder</td>\n",
       "      <td>hinge</td>\n",
       "      <td>monthly</td>\n",
       "      <td>2 hours</td>\n",
       "      <td>casual fun</td>\n",
       "      <td>2</td>\n",
       "      <td>lack of genuine matches</td>\n",
       "      <td>video calls</td>\n",
       "      <td>voice notes</td>\n",
       "      <td>appearance &gt; interests &gt; personality</td>\n",
       "    </tr>\n",
       "    <tr>\n",
       "      <th>498</th>\n",
       "      <td>499</td>\n",
       "      <td>21</td>\n",
       "      <td>female</td>\n",
       "      <td>kolkata</td>\n",
       "      <td>graduate</td>\n",
       "      <td>student</td>\n",
       "      <td>tinder</td>\n",
       "      <td>hinge</td>\n",
       "      <td>daily</td>\n",
       "      <td>1.5 hours</td>\n",
       "      <td>casual dating</td>\n",
       "      <td>3</td>\n",
       "      <td>lack of genuine matches</td>\n",
       "      <td>detailed profiles</td>\n",
       "      <td>text</td>\n",
       "      <td>appearance &gt; interests &gt; personality</td>\n",
       "    </tr>\n",
       "    <tr>\n",
       "      <th>499</th>\n",
       "      <td>500</td>\n",
       "      <td>22</td>\n",
       "      <td>male</td>\n",
       "      <td>mumbai</td>\n",
       "      <td>graduate</td>\n",
       "      <td>part-time job</td>\n",
       "      <td>okcupid</td>\n",
       "      <td>hinge</td>\n",
       "      <td>weekly</td>\n",
       "      <td>1.5 hours</td>\n",
       "      <td>casual fun</td>\n",
       "      <td>2</td>\n",
       "      <td>time-wasting</td>\n",
       "      <td>ai recommendations</td>\n",
       "      <td>video calls</td>\n",
       "      <td>appearance &gt; interests &gt; personality</td>\n",
       "    </tr>\n",
       "  </tbody>\n",
       "</table>\n",
       "<p>500 rows × 16 columns</p>\n",
       "</div>"
      ],
      "text/plain": [
       "     User_ID  Age      Gender   Location      Education     Occupation  \\\n",
       "0          1   20  non-binary  bangalore  undergraduate     freelancer   \n",
       "1          2   24      female      delhi  undergraduate  part-time job   \n",
       "2          3   24  non-binary    kolkata  undergraduate         intern   \n",
       "3          4   22  non-binary      delhi       graduate  full-time job   \n",
       "4          5   18        male      delhi       graduate         intern   \n",
       "..       ...  ...         ...        ...            ...            ...   \n",
       "495      496   23      female     mumbai  undergraduate         intern   \n",
       "496      497   23        male     mumbai   postgraduate         intern   \n",
       "497      498   22        male  hyderabad       graduate     freelancer   \n",
       "498      499   21      female    kolkata       graduate        student   \n",
       "499      500   22        male     mumbai       graduate  part-time job   \n",
       "\n",
       "    Primary_App Secondary_Apps Usage_Frequency Daily_Usage_Time  \\\n",
       "0         hinge          hinge         monthly           1 hour   \n",
       "1         hinge        okcupid          weekly       30 minutes   \n",
       "2       okcupid        okcupid          weekly          2 hours   \n",
       "3       okcupid        okcupid           daily       30 minutes   \n",
       "4       okcupid        okcupid          weekly          2 hours   \n",
       "..          ...            ...             ...              ...   \n",
       "495      tinder          hinge          weekly        1.5 hours   \n",
       "496     okcupid         tinder           daily          2 hours   \n",
       "497      tinder          hinge         monthly          2 hours   \n",
       "498      tinder          hinge           daily        1.5 hours   \n",
       "499     okcupid          hinge          weekly        1.5 hours   \n",
       "\n",
       "      Reason_for_Using Satisfaction               Challenges  \\\n",
       "0    finding a partner            4          safety concerns   \n",
       "1        casual dating            5             time-wasting   \n",
       "2        casual dating            4          safety concerns   \n",
       "3           casual fun            3          safety concerns   \n",
       "4           casual fun            4          safety concerns   \n",
       "..                 ...          ...                      ...   \n",
       "495      casual dating            2             time-wasting   \n",
       "496         casual fun            1             time-wasting   \n",
       "497         casual fun            2  lack of genuine matches   \n",
       "498      casual dating            3  lack of genuine matches   \n",
       "499         casual fun            2             time-wasting   \n",
       "\n",
       "       Desired_Features Preferred_Communication  \\\n",
       "0           audio calls             video calls   \n",
       "1           video calls                    text   \n",
       "2     detailed profiles                    text   \n",
       "3    ai recommendations             voice notes   \n",
       "4           video calls                    text   \n",
       "..                  ...                     ...   \n",
       "495         audio calls             voice notes   \n",
       "496         video calls             video calls   \n",
       "497         video calls             voice notes   \n",
       "498   detailed profiles                    text   \n",
       "499  ai recommendations             video calls   \n",
       "\n",
       "                       Partner_Priorities  \n",
       "0       values > personality > appearance  \n",
       "1       values > personality > appearance  \n",
       "2       values > personality > appearance  \n",
       "3        personality > interests > values  \n",
       "4    appearance > interests > personality  \n",
       "..                                    ...  \n",
       "495      personality > interests > values  \n",
       "496     values > personality > appearance  \n",
       "497  appearance > interests > personality  \n",
       "498  appearance > interests > personality  \n",
       "499  appearance > interests > personality  \n",
       "\n",
       "[500 rows x 16 columns]"
      ]
     },
     "execution_count": 22,
     "metadata": {},
     "output_type": "execute_result"
    }
   ],
   "source": [
    "df"
   ]
  },
  {
   "cell_type": "code",
   "execution_count": null,
   "metadata": {},
   "outputs": [],
   "source": []
  },
  {
   "cell_type": "code",
   "execution_count": 23,
   "metadata": {},
   "outputs": [],
   "source": [
    "import re"
   ]
  },
  {
   "cell_type": "code",
   "execution_count": 24,
   "metadata": {},
   "outputs": [],
   "source": [
    "def convert_to_minutes(daily_usage_time):\n",
    "    hours = 0\n",
    "    minutes = 0\n",
    "\n",
    "    hours_match = re.search(r\"(\\d+|\\d+\\.\\d+)\\s*hour\", daily_usage_time)\n",
    "    if hours_match:\n",
    "        hours = float(hours_match.group(1))\n",
    "\n",
    "    minutes_match = re.search(r\"(\\d+)\\*minute\", daily_usage_time)\n",
    "    if minutes_match:\n",
    "        minutes = int(minutes_match.group(1))\n",
    "\n",
    "    return int((hours*60) + minutes)"
   ]
  },
  {
   "cell_type": "code",
   "execution_count": 25,
   "metadata": {},
   "outputs": [],
   "source": [
    "df[\"Daily_Usage_Time_in_Minutes\"] = df[\"Daily_Usage_Time\"].apply(convert_to_minutes)"
   ]
  },
  {
   "cell_type": "code",
   "execution_count": 26,
   "metadata": {},
   "outputs": [
    {
     "data": {
      "text/html": [
       "<div>\n",
       "<style scoped>\n",
       "    .dataframe tbody tr th:only-of-type {\n",
       "        vertical-align: middle;\n",
       "    }\n",
       "\n",
       "    .dataframe tbody tr th {\n",
       "        vertical-align: top;\n",
       "    }\n",
       "\n",
       "    .dataframe thead th {\n",
       "        text-align: right;\n",
       "    }\n",
       "</style>\n",
       "<table border=\"1\" class=\"dataframe\">\n",
       "  <thead>\n",
       "    <tr style=\"text-align: right;\">\n",
       "      <th></th>\n",
       "      <th>User_ID</th>\n",
       "      <th>Age</th>\n",
       "      <th>Gender</th>\n",
       "      <th>Location</th>\n",
       "      <th>Education</th>\n",
       "      <th>Occupation</th>\n",
       "      <th>Primary_App</th>\n",
       "      <th>Secondary_Apps</th>\n",
       "      <th>Usage_Frequency</th>\n",
       "      <th>Daily_Usage_Time</th>\n",
       "      <th>Reason_for_Using</th>\n",
       "      <th>Satisfaction</th>\n",
       "      <th>Challenges</th>\n",
       "      <th>Desired_Features</th>\n",
       "      <th>Preferred_Communication</th>\n",
       "      <th>Partner_Priorities</th>\n",
       "      <th>Daily_Usage_Time_in_Minutes</th>\n",
       "    </tr>\n",
       "  </thead>\n",
       "  <tbody>\n",
       "    <tr>\n",
       "      <th>0</th>\n",
       "      <td>1</td>\n",
       "      <td>20</td>\n",
       "      <td>non-binary</td>\n",
       "      <td>bangalore</td>\n",
       "      <td>undergraduate</td>\n",
       "      <td>freelancer</td>\n",
       "      <td>hinge</td>\n",
       "      <td>hinge</td>\n",
       "      <td>monthly</td>\n",
       "      <td>1 hour</td>\n",
       "      <td>finding a partner</td>\n",
       "      <td>4</td>\n",
       "      <td>safety concerns</td>\n",
       "      <td>audio calls</td>\n",
       "      <td>video calls</td>\n",
       "      <td>values &gt; personality &gt; appearance</td>\n",
       "      <td>60</td>\n",
       "    </tr>\n",
       "    <tr>\n",
       "      <th>1</th>\n",
       "      <td>2</td>\n",
       "      <td>24</td>\n",
       "      <td>female</td>\n",
       "      <td>delhi</td>\n",
       "      <td>undergraduate</td>\n",
       "      <td>part-time job</td>\n",
       "      <td>hinge</td>\n",
       "      <td>okcupid</td>\n",
       "      <td>weekly</td>\n",
       "      <td>30 minutes</td>\n",
       "      <td>casual dating</td>\n",
       "      <td>5</td>\n",
       "      <td>time-wasting</td>\n",
       "      <td>video calls</td>\n",
       "      <td>text</td>\n",
       "      <td>values &gt; personality &gt; appearance</td>\n",
       "      <td>0</td>\n",
       "    </tr>\n",
       "    <tr>\n",
       "      <th>2</th>\n",
       "      <td>3</td>\n",
       "      <td>24</td>\n",
       "      <td>non-binary</td>\n",
       "      <td>kolkata</td>\n",
       "      <td>undergraduate</td>\n",
       "      <td>intern</td>\n",
       "      <td>okcupid</td>\n",
       "      <td>okcupid</td>\n",
       "      <td>weekly</td>\n",
       "      <td>2 hours</td>\n",
       "      <td>casual dating</td>\n",
       "      <td>4</td>\n",
       "      <td>safety concerns</td>\n",
       "      <td>detailed profiles</td>\n",
       "      <td>text</td>\n",
       "      <td>values &gt; personality &gt; appearance</td>\n",
       "      <td>120</td>\n",
       "    </tr>\n",
       "    <tr>\n",
       "      <th>3</th>\n",
       "      <td>4</td>\n",
       "      <td>22</td>\n",
       "      <td>non-binary</td>\n",
       "      <td>delhi</td>\n",
       "      <td>graduate</td>\n",
       "      <td>full-time job</td>\n",
       "      <td>okcupid</td>\n",
       "      <td>okcupid</td>\n",
       "      <td>daily</td>\n",
       "      <td>30 minutes</td>\n",
       "      <td>casual fun</td>\n",
       "      <td>3</td>\n",
       "      <td>safety concerns</td>\n",
       "      <td>ai recommendations</td>\n",
       "      <td>voice notes</td>\n",
       "      <td>personality &gt; interests &gt; values</td>\n",
       "      <td>0</td>\n",
       "    </tr>\n",
       "    <tr>\n",
       "      <th>4</th>\n",
       "      <td>5</td>\n",
       "      <td>18</td>\n",
       "      <td>male</td>\n",
       "      <td>delhi</td>\n",
       "      <td>graduate</td>\n",
       "      <td>intern</td>\n",
       "      <td>okcupid</td>\n",
       "      <td>okcupid</td>\n",
       "      <td>weekly</td>\n",
       "      <td>2 hours</td>\n",
       "      <td>casual fun</td>\n",
       "      <td>4</td>\n",
       "      <td>safety concerns</td>\n",
       "      <td>video calls</td>\n",
       "      <td>text</td>\n",
       "      <td>appearance &gt; interests &gt; personality</td>\n",
       "      <td>120</td>\n",
       "    </tr>\n",
       "    <tr>\n",
       "      <th>...</th>\n",
       "      <td>...</td>\n",
       "      <td>...</td>\n",
       "      <td>...</td>\n",
       "      <td>...</td>\n",
       "      <td>...</td>\n",
       "      <td>...</td>\n",
       "      <td>...</td>\n",
       "      <td>...</td>\n",
       "      <td>...</td>\n",
       "      <td>...</td>\n",
       "      <td>...</td>\n",
       "      <td>...</td>\n",
       "      <td>...</td>\n",
       "      <td>...</td>\n",
       "      <td>...</td>\n",
       "      <td>...</td>\n",
       "      <td>...</td>\n",
       "    </tr>\n",
       "    <tr>\n",
       "      <th>495</th>\n",
       "      <td>496</td>\n",
       "      <td>23</td>\n",
       "      <td>female</td>\n",
       "      <td>mumbai</td>\n",
       "      <td>undergraduate</td>\n",
       "      <td>intern</td>\n",
       "      <td>tinder</td>\n",
       "      <td>hinge</td>\n",
       "      <td>weekly</td>\n",
       "      <td>1.5 hours</td>\n",
       "      <td>casual dating</td>\n",
       "      <td>2</td>\n",
       "      <td>time-wasting</td>\n",
       "      <td>audio calls</td>\n",
       "      <td>voice notes</td>\n",
       "      <td>personality &gt; interests &gt; values</td>\n",
       "      <td>90</td>\n",
       "    </tr>\n",
       "    <tr>\n",
       "      <th>496</th>\n",
       "      <td>497</td>\n",
       "      <td>23</td>\n",
       "      <td>male</td>\n",
       "      <td>mumbai</td>\n",
       "      <td>postgraduate</td>\n",
       "      <td>intern</td>\n",
       "      <td>okcupid</td>\n",
       "      <td>tinder</td>\n",
       "      <td>daily</td>\n",
       "      <td>2 hours</td>\n",
       "      <td>casual fun</td>\n",
       "      <td>1</td>\n",
       "      <td>time-wasting</td>\n",
       "      <td>video calls</td>\n",
       "      <td>video calls</td>\n",
       "      <td>values &gt; personality &gt; appearance</td>\n",
       "      <td>120</td>\n",
       "    </tr>\n",
       "    <tr>\n",
       "      <th>497</th>\n",
       "      <td>498</td>\n",
       "      <td>22</td>\n",
       "      <td>male</td>\n",
       "      <td>hyderabad</td>\n",
       "      <td>graduate</td>\n",
       "      <td>freelancer</td>\n",
       "      <td>tinder</td>\n",
       "      <td>hinge</td>\n",
       "      <td>monthly</td>\n",
       "      <td>2 hours</td>\n",
       "      <td>casual fun</td>\n",
       "      <td>2</td>\n",
       "      <td>lack of genuine matches</td>\n",
       "      <td>video calls</td>\n",
       "      <td>voice notes</td>\n",
       "      <td>appearance &gt; interests &gt; personality</td>\n",
       "      <td>120</td>\n",
       "    </tr>\n",
       "    <tr>\n",
       "      <th>498</th>\n",
       "      <td>499</td>\n",
       "      <td>21</td>\n",
       "      <td>female</td>\n",
       "      <td>kolkata</td>\n",
       "      <td>graduate</td>\n",
       "      <td>student</td>\n",
       "      <td>tinder</td>\n",
       "      <td>hinge</td>\n",
       "      <td>daily</td>\n",
       "      <td>1.5 hours</td>\n",
       "      <td>casual dating</td>\n",
       "      <td>3</td>\n",
       "      <td>lack of genuine matches</td>\n",
       "      <td>detailed profiles</td>\n",
       "      <td>text</td>\n",
       "      <td>appearance &gt; interests &gt; personality</td>\n",
       "      <td>90</td>\n",
       "    </tr>\n",
       "    <tr>\n",
       "      <th>499</th>\n",
       "      <td>500</td>\n",
       "      <td>22</td>\n",
       "      <td>male</td>\n",
       "      <td>mumbai</td>\n",
       "      <td>graduate</td>\n",
       "      <td>part-time job</td>\n",
       "      <td>okcupid</td>\n",
       "      <td>hinge</td>\n",
       "      <td>weekly</td>\n",
       "      <td>1.5 hours</td>\n",
       "      <td>casual fun</td>\n",
       "      <td>2</td>\n",
       "      <td>time-wasting</td>\n",
       "      <td>ai recommendations</td>\n",
       "      <td>video calls</td>\n",
       "      <td>appearance &gt; interests &gt; personality</td>\n",
       "      <td>90</td>\n",
       "    </tr>\n",
       "  </tbody>\n",
       "</table>\n",
       "<p>500 rows × 17 columns</p>\n",
       "</div>"
      ],
      "text/plain": [
       "     User_ID  Age      Gender   Location      Education     Occupation  \\\n",
       "0          1   20  non-binary  bangalore  undergraduate     freelancer   \n",
       "1          2   24      female      delhi  undergraduate  part-time job   \n",
       "2          3   24  non-binary    kolkata  undergraduate         intern   \n",
       "3          4   22  non-binary      delhi       graduate  full-time job   \n",
       "4          5   18        male      delhi       graduate         intern   \n",
       "..       ...  ...         ...        ...            ...            ...   \n",
       "495      496   23      female     mumbai  undergraduate         intern   \n",
       "496      497   23        male     mumbai   postgraduate         intern   \n",
       "497      498   22        male  hyderabad       graduate     freelancer   \n",
       "498      499   21      female    kolkata       graduate        student   \n",
       "499      500   22        male     mumbai       graduate  part-time job   \n",
       "\n",
       "    Primary_App Secondary_Apps Usage_Frequency Daily_Usage_Time  \\\n",
       "0         hinge          hinge         monthly           1 hour   \n",
       "1         hinge        okcupid          weekly       30 minutes   \n",
       "2       okcupid        okcupid          weekly          2 hours   \n",
       "3       okcupid        okcupid           daily       30 minutes   \n",
       "4       okcupid        okcupid          weekly          2 hours   \n",
       "..          ...            ...             ...              ...   \n",
       "495      tinder          hinge          weekly        1.5 hours   \n",
       "496     okcupid         tinder           daily          2 hours   \n",
       "497      tinder          hinge         monthly          2 hours   \n",
       "498      tinder          hinge           daily        1.5 hours   \n",
       "499     okcupid          hinge          weekly        1.5 hours   \n",
       "\n",
       "      Reason_for_Using Satisfaction               Challenges  \\\n",
       "0    finding a partner            4          safety concerns   \n",
       "1        casual dating            5             time-wasting   \n",
       "2        casual dating            4          safety concerns   \n",
       "3           casual fun            3          safety concerns   \n",
       "4           casual fun            4          safety concerns   \n",
       "..                 ...          ...                      ...   \n",
       "495      casual dating            2             time-wasting   \n",
       "496         casual fun            1             time-wasting   \n",
       "497         casual fun            2  lack of genuine matches   \n",
       "498      casual dating            3  lack of genuine matches   \n",
       "499         casual fun            2             time-wasting   \n",
       "\n",
       "       Desired_Features Preferred_Communication  \\\n",
       "0           audio calls             video calls   \n",
       "1           video calls                    text   \n",
       "2     detailed profiles                    text   \n",
       "3    ai recommendations             voice notes   \n",
       "4           video calls                    text   \n",
       "..                  ...                     ...   \n",
       "495         audio calls             voice notes   \n",
       "496         video calls             video calls   \n",
       "497         video calls             voice notes   \n",
       "498   detailed profiles                    text   \n",
       "499  ai recommendations             video calls   \n",
       "\n",
       "                       Partner_Priorities Daily_Usage_Time_in_Minutes  \n",
       "0       values > personality > appearance                          60  \n",
       "1       values > personality > appearance                           0  \n",
       "2       values > personality > appearance                         120  \n",
       "3        personality > interests > values                           0  \n",
       "4    appearance > interests > personality                         120  \n",
       "..                                    ...                         ...  \n",
       "495      personality > interests > values                          90  \n",
       "496     values > personality > appearance                         120  \n",
       "497  appearance > interests > personality                         120  \n",
       "498  appearance > interests > personality                          90  \n",
       "499  appearance > interests > personality                          90  \n",
       "\n",
       "[500 rows x 17 columns]"
      ]
     },
     "execution_count": 26,
     "metadata": {},
     "output_type": "execute_result"
    }
   ],
   "source": [
    "df"
   ]
  },
  {
   "cell_type": "code",
   "execution_count": null,
   "metadata": {},
   "outputs": [
    {
     "name": "stdout",
     "output_type": "stream",
     "text": [
      "<class 'pandas.core.frame.DataFrame'>\n",
      "RangeIndex: 500 entries, 0 to 499\n",
      "Data columns (total 17 columns):\n",
      " #   Column                       Non-Null Count  Dtype   \n",
      "---  ------                       --------------  -----   \n",
      " 0   User_ID                      500 non-null    int64   \n",
      " 1   Age                          500 non-null    int64   \n",
      " 2   Gender                       500 non-null    category\n",
      " 3   Location                     500 non-null    category\n",
      " 4   Education                    500 non-null    category\n",
      " 5   Occupation                   500 non-null    category\n",
      " 6   Primary_App                  500 non-null    category\n",
      " 7   Secondary_Apps               500 non-null    category\n",
      " 8   Usage_Frequency              500 non-null    category\n",
      " 9   Daily_Usage_Time             500 non-null    category\n",
      " 10  Reason_for_Using             500 non-null    category\n",
      " 11  Satisfaction                 500 non-null    category\n",
      " 12  Challenges                   500 non-null    category\n",
      " 13  Desired_Features             500 non-null    category\n",
      " 14  Preferred_Communication      500 non-null    category\n",
      " 15  Partner_Priorities           500 non-null    category\n",
      " 16  Daily_Usage_Time_in_Minutes  500 non-null    category\n",
      "dtypes: category(15), int64(2)\n",
      "memory usage: 18.0 KB\n"
     ]
    }
   ],
   "source": [
    "df.info()"
   ]
  },
  {
   "cell_type": "code",
   "execution_count": 37,
   "metadata": {},
   "outputs": [],
   "source": [
    "df[\"Daily_Usage_Time_in_Minutes\"] = df[\"Daily_Usage_Time_in_Minutes\"].astype(int)"
   ]
  },
  {
   "cell_type": "code",
   "execution_count": 38,
   "metadata": {},
   "outputs": [
    {
     "data": {
      "text/plain": [
       "<Axes: xlabel='Daily_Usage_Time_in_Minutes'>"
      ]
     },
     "execution_count": 38,
     "metadata": {},
     "output_type": "execute_result"
    },
    {
     "data": {
      "image/png": "[encoded data removed]",
      "text/plain": [
       "<Figure size 640x480 with 1 Axes>"
      ]
     },
     "metadata": {},
     "output_type": "display_data"
    }
   ],
   "source": [
    "sns.boxplot(data = df, x = df[\"Daily_Usage_Time_in_Minutes\"])"
   ]
  },
  {
   "cell_type": "code",
   "execution_count": 39,
   "metadata": {},
   "outputs": [],
   "source": [
    "df.to_csv(\"version_1.csv\", index=False)"
   ]
  },
  {
   "cell_type": "code",
   "execution_count": 40,
   "metadata": {},
   "outputs": [],
   "source": [
    "corr_matrix = df.corr(numeric_only=True)"
   ]
  },
  {
   "cell_type": "code",
   "execution_count": 41,
   "metadata": {},
   "outputs": [
    {
     "data": {
      "text/plain": [
       "<Axes: >"
      ]
     },
     "execution_count": 41,
     "metadata": {},
     "output_type": "execute_result"
    },
    {
     "data": {
      "image/png": "[encoded data removed]",
      "text/plain": [
       "<Figure size 1000x600 with 2 Axes>"
      ]
     },
     "metadata": {},
     "output_type": "display_data"
    }
   ],
   "source": [
    "plt.figure(figsize=(10,6))\n",
    "\n",
    "sns.heatmap(corr_matrix, annot=True)"
   ]
  },
  {
   "cell_type": "code",
   "execution_count": 55,
   "metadata": {},
   "outputs": [
    {
     "name": "stderr",
     "output_type": "stream",
     "text": [
      "/var/folders/jn/dvbsgr3506n5l2_jhv8b_fqm0000gn/T/ipykernel_23428/1968846052.py:1: FutureWarning: The default of observed=False is deprecated and will be changed to True in a future version of pandas. Pass observed=False to retain current behavior or observed=True to adopt the future default and silence this warning.\n",
      "  df.groupby([\"Gender\", \"Age\", \"Location\", \"Primary_App\"]).agg({\n"
     ]
    },
    {
     "data": {
      "text/html": [
       "<div>\n",
       "<style scoped>\n",
       "    .dataframe tbody tr th:only-of-type {\n",
       "        vertical-align: middle;\n",
       "    }\n",
       "\n",
       "    .dataframe tbody tr th {\n",
       "        vertical-align: top;\n",
       "    }\n",
       "\n",
       "    .dataframe thead tr th {\n",
       "        text-align: left;\n",
       "    }\n",
       "\n",
       "    .dataframe thead tr:last-of-type th {\n",
       "        text-align: right;\n",
       "    }\n",
       "</style>\n",
       "<table border=\"1\" class=\"dataframe\">\n",
       "  <thead>\n",
       "    <tr>\n",
       "      <th></th>\n",
       "      <th></th>\n",
       "      <th></th>\n",
       "      <th></th>\n",
       "      <th colspan=\"2\" halign=\"left\">Satisfaction</th>\n",
       "      <th colspan=\"2\" halign=\"left\">Daily_Usage_Time_in_Minutes</th>\n",
       "    </tr>\n",
       "    <tr>\n",
       "      <th></th>\n",
       "      <th></th>\n",
       "      <th></th>\n",
       "      <th></th>\n",
       "      <th>count</th>\n",
       "      <th>list</th>\n",
       "      <th>mean</th>\n",
       "      <th>sum</th>\n",
       "    </tr>\n",
       "    <tr>\n",
       "      <th>Gender</th>\n",
       "      <th>Age</th>\n",
       "      <th>Location</th>\n",
       "      <th>Primary_App</th>\n",
       "      <th></th>\n",
       "      <th></th>\n",
       "      <th></th>\n",
       "      <th></th>\n",
       "    </tr>\n",
       "  </thead>\n",
       "  <tbody>\n",
       "    <tr>\n",
       "      <th rowspan=\"5\" valign=\"top\">female</th>\n",
       "      <th rowspan=\"5\" valign=\"top\">18</th>\n",
       "      <th rowspan=\"4\" valign=\"top\">bangalore</th>\n",
       "      <th>bumble</th>\n",
       "      <td>1</td>\n",
       "      <td>[4]</td>\n",
       "      <td>0.0</td>\n",
       "      <td>0</td>\n",
       "    </tr>\n",
       "    <tr>\n",
       "      <th>hinge</th>\n",
       "      <td>1</td>\n",
       "      <td>[1]</td>\n",
       "      <td>60.0</td>\n",
       "      <td>60</td>\n",
       "    </tr>\n",
       "    <tr>\n",
       "      <th>okcupid</th>\n",
       "      <td>1</td>\n",
       "      <td>[4]</td>\n",
       "      <td>0.0</td>\n",
       "      <td>0</td>\n",
       "    </tr>\n",
       "    <tr>\n",
       "      <th>tinder</th>\n",
       "      <td>0</td>\n",
       "      <td>NaN</td>\n",
       "      <td>NaN</td>\n",
       "      <td>0</td>\n",
       "    </tr>\n",
       "    <tr>\n",
       "      <th>chennai</th>\n",
       "      <th>bumble</th>\n",
       "      <td>2</td>\n",
       "      <td>[5, 2]</td>\n",
       "      <td>180.0</td>\n",
       "      <td>360</td>\n",
       "    </tr>\n",
       "    <tr>\n",
       "      <th>...</th>\n",
       "      <th>...</th>\n",
       "      <th>...</th>\n",
       "      <th>...</th>\n",
       "      <td>...</td>\n",
       "      <td>...</td>\n",
       "      <td>...</td>\n",
       "      <td>...</td>\n",
       "    </tr>\n",
       "    <tr>\n",
       "      <th rowspan=\"5\" valign=\"top\">non-binary</th>\n",
       "      <th rowspan=\"5\" valign=\"top\">25</th>\n",
       "      <th>mumbai</th>\n",
       "      <th>tinder</th>\n",
       "      <td>0</td>\n",
       "      <td>NaN</td>\n",
       "      <td>NaN</td>\n",
       "      <td>0</td>\n",
       "    </tr>\n",
       "    <tr>\n",
       "      <th rowspan=\"4\" valign=\"top\">pune</th>\n",
       "      <th>bumble</th>\n",
       "      <td>1</td>\n",
       "      <td>[2]</td>\n",
       "      <td>0.0</td>\n",
       "      <td>0</td>\n",
       "    </tr>\n",
       "    <tr>\n",
       "      <th>hinge</th>\n",
       "      <td>1</td>\n",
       "      <td>[2]</td>\n",
       "      <td>120.0</td>\n",
       "      <td>120</td>\n",
       "    </tr>\n",
       "    <tr>\n",
       "      <th>okcupid</th>\n",
       "      <td>0</td>\n",
       "      <td>NaN</td>\n",
       "      <td>NaN</td>\n",
       "      <td>0</td>\n",
       "    </tr>\n",
       "    <tr>\n",
       "      <th>tinder</th>\n",
       "      <td>0</td>\n",
       "      <td>NaN</td>\n",
       "      <td>NaN</td>\n",
       "      <td>0</td>\n",
       "    </tr>\n",
       "  </tbody>\n",
       "</table>\n",
       "<p>672 rows × 4 columns</p>\n",
       "</div>"
      ],
      "text/plain": [
       "                                     Satisfaction          \\\n",
       "                                            count    list   \n",
       "Gender     Age Location  Primary_App                        \n",
       "female     18  bangalore bumble                 1     [4]   \n",
       "                         hinge                  1     [1]   \n",
       "                         okcupid                1     [4]   \n",
       "                         tinder                 0     NaN   \n",
       "               chennai   bumble                 2  [5, 2]   \n",
       "...                                           ...     ...   \n",
       "non-binary 25  mumbai    tinder                 0     NaN   \n",
       "               pune      bumble                 1     [2]   \n",
       "                         hinge                  1     [2]   \n",
       "                         okcupid                0     NaN   \n",
       "                         tinder                 0     NaN   \n",
       "\n",
       "                                     Daily_Usage_Time_in_Minutes       \n",
       "                                                            mean  sum  \n",
       "Gender     Age Location  Primary_App                                   \n",
       "female     18  bangalore bumble                              0.0    0  \n",
       "                         hinge                              60.0   60  \n",
       "                         okcupid                             0.0    0  \n",
       "                         tinder                              NaN    0  \n",
       "               chennai   bumble                            180.0  360  \n",
       "...                                                          ...  ...  \n",
       "non-binary 25  mumbai    tinder                              NaN    0  \n",
       "               pune      bumble                              0.0    0  \n",
       "                         hinge                             120.0  120  \n",
       "                         okcupid                             NaN    0  \n",
       "                         tinder                              NaN    0  \n",
       "\n",
       "[672 rows x 4 columns]"
      ]
     },
     "execution_count": 55,
     "metadata": {},
     "output_type": "execute_result"
    }
   ],
   "source": [
    "df.groupby([\"Gender\", \"Age\", \"Location\", \"Primary_App\"]).agg({\n",
    "    \"Satisfaction\": [\"count\", list],\n",
    "    \"Daily_Usage_Time_in_Minutes\" : [\"mean\", \"sum\"],\n",
    "    })"
   ]
  },
  {
   "cell_type": "code",
   "execution_count": 53,
   "metadata": {},
   "outputs": [
    {
     "name": "stderr",
     "output_type": "stream",
     "text": [
      "/var/folders/jn/dvbsgr3506n5l2_jhv8b_fqm0000gn/T/ipykernel_23428/1954966581.py:1: FutureWarning: The default value of observed=False is deprecated and will change to observed=True in a future version of pandas. Specify observed=False to silence this warning and retain the current behavior\n",
      "  df.pivot_table(\n",
      "/var/folders/jn/dvbsgr3506n5l2_jhv8b_fqm0000gn/T/ipykernel_23428/1954966581.py:1: FutureWarning: The provided callable <function mean at 0x10a0ecb80> is currently using SeriesGroupBy.mean. In a future version of pandas, the provided callable will be used directly. To keep current behavior pass the string \"mean\" instead.\n",
      "  df.pivot_table(\n",
      "/var/folders/jn/dvbsgr3506n5l2_jhv8b_fqm0000gn/T/ipykernel_23428/1954966581.py:1: FutureWarning: The provided callable <function sum at 0x10a0bb740> is currently using SeriesGroupBy.sum. In a future version of pandas, the provided callable will be used directly. To keep current behavior pass the string \"sum\" instead.\n",
      "  df.pivot_table(\n"
     ]
    },
    {
     "data": {
      "text/html": [
       "<div>\n",
       "<style scoped>\n",
       "    .dataframe tbody tr th:only-of-type {\n",
       "        vertical-align: middle;\n",
       "    }\n",
       "\n",
       "    .dataframe tbody tr th {\n",
       "        vertical-align: top;\n",
       "    }\n",
       "\n",
       "    .dataframe thead tr th {\n",
       "        text-align: left;\n",
       "    }\n",
       "\n",
       "    .dataframe thead tr:last-of-type th {\n",
       "        text-align: right;\n",
       "    }\n",
       "</style>\n",
       "<table border=\"1\" class=\"dataframe\">\n",
       "  <thead>\n",
       "    <tr>\n",
       "      <th></th>\n",
       "      <th></th>\n",
       "      <th></th>\n",
       "      <th colspan=\"2\" halign=\"left\">Daily_Usage_Time_in_Minutes</th>\n",
       "    </tr>\n",
       "    <tr>\n",
       "      <th></th>\n",
       "      <th></th>\n",
       "      <th></th>\n",
       "      <th>mean</th>\n",
       "      <th>sum</th>\n",
       "    </tr>\n",
       "    <tr>\n",
       "      <th>Gender</th>\n",
       "      <th>Age</th>\n",
       "      <th>Location</th>\n",
       "      <th></th>\n",
       "      <th></th>\n",
       "    </tr>\n",
       "  </thead>\n",
       "  <tbody>\n",
       "    <tr>\n",
       "      <th rowspan=\"5\" valign=\"top\">female</th>\n",
       "      <th rowspan=\"5\" valign=\"top\">18</th>\n",
       "      <th>bangalore</th>\n",
       "      <td>20.0</td>\n",
       "      <td>60</td>\n",
       "    </tr>\n",
       "    <tr>\n",
       "      <th>chennai</th>\n",
       "      <td>180.0</td>\n",
       "      <td>360</td>\n",
       "    </tr>\n",
       "    <tr>\n",
       "      <th>delhi</th>\n",
       "      <td>30.0</td>\n",
       "      <td>60</td>\n",
       "    </tr>\n",
       "    <tr>\n",
       "      <th>hyderabad</th>\n",
       "      <td>120.0</td>\n",
       "      <td>360</td>\n",
       "    </tr>\n",
       "    <tr>\n",
       "      <th>kolkata</th>\n",
       "      <td>100.0</td>\n",
       "      <td>300</td>\n",
       "    </tr>\n",
       "    <tr>\n",
       "      <th>...</th>\n",
       "      <th>...</th>\n",
       "      <th>...</th>\n",
       "      <td>...</td>\n",
       "      <td>...</td>\n",
       "    </tr>\n",
       "    <tr>\n",
       "      <th rowspan=\"5\" valign=\"top\">non-binary</th>\n",
       "      <th rowspan=\"5\" valign=\"top\">25</th>\n",
       "      <th>delhi</th>\n",
       "      <td>127.5</td>\n",
       "      <td>510</td>\n",
       "    </tr>\n",
       "    <tr>\n",
       "      <th>hyderabad</th>\n",
       "      <td>150.0</td>\n",
       "      <td>750</td>\n",
       "    </tr>\n",
       "    <tr>\n",
       "      <th>kolkata</th>\n",
       "      <td>30.0</td>\n",
       "      <td>60</td>\n",
       "    </tr>\n",
       "    <tr>\n",
       "      <th>mumbai</th>\n",
       "      <td>NaN</td>\n",
       "      <td>0</td>\n",
       "    </tr>\n",
       "    <tr>\n",
       "      <th>pune</th>\n",
       "      <td>60.0</td>\n",
       "      <td>120</td>\n",
       "    </tr>\n",
       "  </tbody>\n",
       "</table>\n",
       "<p>168 rows × 2 columns</p>\n",
       "</div>"
      ],
      "text/plain": [
       "                         Daily_Usage_Time_in_Minutes     \n",
       "                                                mean  sum\n",
       "Gender     Age Location                                  \n",
       "female     18  bangalore                        20.0   60\n",
       "               chennai                         180.0  360\n",
       "               delhi                            30.0   60\n",
       "               hyderabad                       120.0  360\n",
       "               kolkata                         100.0  300\n",
       "...                                              ...  ...\n",
       "non-binary 25  delhi                           127.5  510\n",
       "               hyderabad                       150.0  750\n",
       "               kolkata                          30.0   60\n",
       "               mumbai                            NaN    0\n",
       "               pune                             60.0  120\n",
       "\n",
       "[168 rows x 2 columns]"
      ]
     },
     "execution_count": 53,
     "metadata": {},
     "output_type": "execute_result"
    }
   ],
   "source": [
    "df.pivot_table(\n",
    "    values=[\"Daily_Usage_Time_in_Minutes\"],\n",
    "    index=[\"Gender\", \"Age\", \"Location\"],\n",
    "    aggfunc={\"Daily_Usage_Time_in_Minutes\": [np.mean, np.sum]},\n",
    ")"
   ]
  },
  {
   "cell_type": "code",
   "execution_count": 48,
   "metadata": {},
   "outputs": [
    {
     "name": "stderr",
     "output_type": "stream",
     "text": [
      "/var/folders/jn/dvbsgr3506n5l2_jhv8b_fqm0000gn/T/ipykernel_23428/2732030442.py:1: FutureWarning: The default of observed=False is deprecated and will be changed to True in a future version of pandas. Pass observed=False to retain current behavior or observed=True to adopt the future default and silence this warning.\n",
      "  app_usage = df.groupby([\"Primary_App\", \"Gender\"]).size().unstack(fill_value=0)\n"
     ]
    }
   ],
   "source": [
    "app_usage = df.groupby([\"Primary_App\", \"Gender\"]).size().unstack(fill_value=0)\n"
   ]
  },
  {
   "cell_type": "code",
   "execution_count": 50,
   "metadata": {},
   "outputs": [
    {
     "data": {
      "text/plain": [
       "<Axes: xlabel='Primary_App'>"
      ]
     },
     "execution_count": 50,
     "metadata": {},
     "output_type": "execute_result"
    },
    {
     "data": {
      "image/png": "[encoded data removed]",
      "text/plain": [
       "<Figure size 640x480 with 1 Axes>"
      ]
     },
     "metadata": {},
     "output_type": "display_data"
    }
   ],
   "source": [
    "app_usage.plot(kind=\"bar\", stacked=True)"
   ]
  },
  {
   "cell_type": "code",
   "execution_count": 62,
   "metadata": {},
   "outputs": [],
   "source": [
    "age_counts = df[\"Age\"].value_counts().sort_index()"
   ]
  },
  {
   "cell_type": "code",
   "execution_count": 63,
   "metadata": {},
   "outputs": [
    {
     "data": {
      "text/plain": [
       "Text(0.5, 1.0, 'Most Active Age Groups on Dating Apps')"
      ]
     },
     "execution_count": 63,
     "metadata": {},
     "output_type": "execute_result"
    },
    {
     "data": {
      "image/png": "[encoded data removed]",
      "text/plain": [
       "<Figure size 640x480 with 1 Axes>"
      ]
     },
     "metadata": {},
     "output_type": "display_data"
    }
   ],
   "source": [
    "sns.barplot(x = age_counts.index, y = age_counts.values)\n",
    "plt.xlabel(\"Age Group\")\n",
    "plt.ylabel(\"Number of Users\")\n",
    "plt.title(\"Most Active Age Groups on Dating Apps\")"
   ]
  },
  {
   "cell_type": "code",
   "execution_count": 64,
   "metadata": {},
   "outputs": [
    {
     "data": {
      "text/plain": [
       "Location\n",
       "mumbai       82\n",
       "delhi        76\n",
       "kolkata      76\n",
       "bangalore    69\n",
       "pune         67\n",
       "chennai      66\n",
       "hyderabad    64\n",
       "Name: count, dtype: int64"
      ]
     },
     "execution_count": 64,
     "metadata": {},
     "output_type": "execute_result"
    }
   ],
   "source": [
    "df[\"Location\"].value_counts()"
   ]
  },
  {
   "cell_type": "markdown",
   "metadata": {},
   "source": [
    "### All the cities in the dataset are urban cities"
   ]
  },
  {
   "cell_type": "code",
   "execution_count": null,
   "metadata": {},
   "outputs": [],
   "source": []
  }
 ],
 "metadata": {
  "kernelspec": {
   "display_name": "ml",
   "language": "python",
   "name": "python3"
  },
  "language_info": {
   "codemirror_mode": {
    "name": "ipython",
    "version": 3
   },
   "file_extension": ".py",
   "mimetype": "text/x-python",
   "name": "python",
   "nbconvert_exporter": "python",
   "pygments_lexer": "ipython3",
   "version": "3.12.8"
  }
 },
 "nbformat": 4,
 "nbformat_minor": 2
}
